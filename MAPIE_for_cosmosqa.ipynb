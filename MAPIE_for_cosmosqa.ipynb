{
 "cells": [
  {
   "cell_type": "code",
   "execution_count": 15,
   "metadata": {},
   "outputs": [],
   "source": [
    "import json\n",
    "import sys\n",
    "sys.path.append('..')\n",
    "\n",
    "import numpy as np\n",
    "import torch\n",
    "import torch.nn.functional as F\n",
    "from transformers import AutoTokenizer, AutoModelForCausalLM\n",
    "\n",
    "from utils.prompt_utils import TransformData\n"
   ]
  },
  {
   "cell_type": "markdown",
   "metadata": {},
   "source": [
    "# Load data and transform it to X, y (X being a prompt)"
   ]
  },
  {
   "cell_type": "code",
   "execution_count": 8,
   "metadata": {},
   "outputs": [],
   "source": [
    "data = json.load(open(\"cosmosqa_10k.json\"))"
   ]
  },
  {
   "cell_type": "code",
   "execution_count": 9,
   "metadata": {},
   "outputs": [],
   "source": [
    "data_transformer = TransformData(data)\n",
    "X, y = data_transformer.transform_data()"
   ]
  },
  {
   "cell_type": "markdown",
   "metadata": {},
   "source": [
    "# Load the model and its tokenizer"
   ]
  },
  {
   "cell_type": "code",
   "execution_count": 13,
   "metadata": {},
   "outputs": [
    {
     "data": {
      "application/vnd.jupyter.widget-view+json": {
       "model_id": "b80e6f3a4c634c80a427f96f9002f67c",
       "version_major": 2,
       "version_minor": 0
      },
      "text/plain": [
       "Loading checkpoint shards:   0%|          | 0/3 [00:00<?, ?it/s]"
      ]
     },
     "metadata": {},
     "output_type": "display_data"
    }
   ],
   "source": [
    "def load_model(model_name):\n",
    "    tokenizer = AutoTokenizer.from_pretrained(model_name)\n",
    "    model = AutoModelForCausalLM.from_pretrained(model_name, torch_dtype=torch.float16, device_map=\"auto\", cache_dir=\"/mnt/mapie_llm/cache\")\n",
    "    model.eval()\n",
    "    return tokenizer, model\n",
    "\n",
    "# %%\n",
    "tok, mo = load_model(\"mistralai/Mistral-7B-Instruct-v0.3\")"
   ]
  },
  {
   "cell_type": "markdown",
   "metadata": {},
   "source": [
    "# Wrap the model"
   ]
  },
  {
   "cell_type": "code",
   "execution_count": 16,
   "metadata": {},
   "outputs": [],
   "source": [
    "class LLMClassifier:\n",
    "\n",
    "    \n",
    "    def __init__(self, tokenizer, model):\n",
    "        self.tokenizer = tokenizer\n",
    "        self.model = model\n",
    "        self.options = [\"Answer: A\", \"Answer: B\", \"Answer: C\", \"Answer: D\"]\n",
    "        self.tokenizer.pad_token = self.tokenizer.eos_token\n",
    "        self.option_ids = [self.tokenizer.encode(opt)[-1] for opt in self.options]\n",
    "        \n",
    "\n",
    "    def predict_proba(self, prompts):\n",
    "        if isinstance(prompts, str):\n",
    "            prompts = [prompts]  # Convert single prompt to list\n",
    "        pred_probas = []\n",
    "        for prompt in prompts:\n",
    "            prompt = [prompt]\n",
    "            inputs = self._prepare_inputs(prompt)\n",
    "            with torch.no_grad():\n",
    "                outputs = self.model(**inputs)\n",
    "            \n",
    "            logits = outputs.logits[:, -1, :]  # Extract logits for the last token [batch_size, vocab_size]\n",
    "            logits_options = logits[:, self.option_ids]  # Select logits corresponding to answer options\n",
    "            \n",
    "            probabilities = F.softmax(logits_options, dim=-1).cpu().numpy()\n",
    "            pred_probas.append(probabilities)\n",
    "        return probabilities\n",
    "\n",
    "    def predict(self, prompts):\n",
    "        probas = self.predict_proba(prompts)\n",
    "        return np.argmax(probas, axis=-1)\n",
    "\n",
    "    def _prepare_inputs(self, prompts):\n",
    "        inputs = self.tokenizer(prompts, return_tensors=\"pt\", truncation=True)\n",
    "        for k in inputs:\n",
    "            if torch.is_tensor(inputs[k]):\n",
    "                inputs[k] = inputs[k].to(\"cuda\")\n",
    "        return inputs"
   ]
  },
  {
   "cell_type": "code",
   "execution_count": 17,
   "metadata": {},
   "outputs": [],
   "source": [
    "llm = LLMClassifier(tok, mo)"
   ]
  },
  {
   "cell_type": "code",
   "execution_count": 19,
   "metadata": {},
   "outputs": [
    {
     "data": {
      "text/plain": [
       "(array([[1.664e-03, 9.927e-01, 4.971e-03, 9.193e-04]], dtype=float16),\n",
       " array([1]))"
      ]
     },
     "execution_count": 19,
     "metadata": {},
     "output_type": "execute_result"
    }
   ],
   "source": [
    "llm.predict_proba(X[0]), llm.predict(X[0])"
   ]
  },
  {
   "cell_type": "code",
   "execution_count": 20,
   "metadata": {},
   "outputs": [
    {
     "data": {
      "text/plain": [
       "np.int64(1)"
      ]
     },
     "execution_count": 20,
     "metadata": {},
     "output_type": "execute_result"
    }
   ],
   "source": [
    "y[0]"
   ]
  },
  {
   "cell_type": "code",
   "execution_count": null,
   "metadata": {},
   "outputs": [],
   "source": []
  }
 ],
 "metadata": {
  "kernelspec": {
   "display_name": "mapie-llm-oz4A_AfW-py3.10",
   "language": "python",
   "name": "python3"
  },
  "language_info": {
   "codemirror_mode": {
    "name": "ipython",
    "version": 3
   },
   "file_extension": ".py",
   "mimetype": "text/x-python",
   "name": "python",
   "nbconvert_exporter": "python",
   "pygments_lexer": "ipython3",
   "version": "3.10.15"
  }
 },
 "nbformat": 4,
 "nbformat_minor": 2
}
