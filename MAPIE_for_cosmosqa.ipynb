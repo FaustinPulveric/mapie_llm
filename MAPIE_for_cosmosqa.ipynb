{
  "cells": [
    {
      "cell_type": "code",
      "execution_count": 1,
      "metadata": {
        "colab": {
          "base_uri": "https://localhost:8080/"
        },
        "id": "h1EFUzkJNAeU",
        "outputId": "cfc80ce2-70a0-4fb6-83de-59f931c66d73"
      },
      "outputs": [
        {
          "output_type": "stream",
          "name": "stdout",
          "text": [
            "Cloning into 'mapie_llm'...\n",
            "remote: Enumerating objects: 36, done.\u001b[K\n",
            "remote: Counting objects: 100% (36/36), done.\u001b[K\n",
            "remote: Compressing objects: 100% (24/24), done.\u001b[K\n",
            "remote: Total 36 (delta 11), reused 27 (delta 7), pack-reused 0 (from 0)\u001b[K\n",
            "Receiving objects: 100% (36/36), 2.27 MiB | 17.45 MiB/s, done.\n",
            "Resolving deltas: 100% (11/11), done.\n"
          ]
        }
      ],
      "source": [
        "!git clone https://github.com/vincentblot28/mapie_llm"
      ]
    },
    {
      "cell_type": "code",
      "source": [
        "!pip install git+https://github.com/scikit-learn-contrib/MAPIE.git@v1\n"
      ],
      "metadata": {
        "colab": {
          "base_uri": "https://localhost:8080/"
        },
        "id": "-XNS-l_HAP-7",
        "outputId": "ed677049-5c56-4ba1-92aa-bfde2263bde9"
      },
      "execution_count": 2,
      "outputs": [
        {
          "output_type": "stream",
          "name": "stdout",
          "text": [
            "Collecting git+https://github.com/scikit-learn-contrib/MAPIE.git@v1\n",
            "  Cloning https://github.com/scikit-learn-contrib/MAPIE.git (to revision v1) to /tmp/pip-req-build-6i886kh3\n",
            "  Running command git clone --filter=blob:none --quiet https://github.com/scikit-learn-contrib/MAPIE.git /tmp/pip-req-build-6i886kh3\n",
            "  Running command git checkout -b v1 --track origin/v1\n",
            "  Switched to a new branch 'v1'\n",
            "  Branch 'v1' set up to track remote branch 'v1' from 'origin'.\n",
            "  Resolved https://github.com/scikit-learn-contrib/MAPIE.git to commit f627116933c3a60688d7b5e85757222b5cd92ecc\n",
            "  Installing build dependencies ... \u001b[?25l\u001b[?25hdone\n",
            "  Getting requirements to build wheel ... \u001b[?25l\u001b[?25hdone\n",
            "  Preparing metadata (pyproject.toml) ... \u001b[?25l\u001b[?25hdone\n",
            "Collecting scikit-learn<1.6.0 (from MAPIE==1.0.0a1)\n",
            "  Downloading scikit_learn-1.5.2-cp311-cp311-manylinux_2_17_x86_64.manylinux2014_x86_64.whl.metadata (13 kB)\n",
            "Requirement already satisfied: scipy in /usr/local/lib/python3.11/dist-packages (from MAPIE==1.0.0a1) (1.14.1)\n",
            "Requirement already satisfied: numpy>=1.23 in /usr/local/lib/python3.11/dist-packages (from MAPIE==1.0.0a1) (2.0.2)\n",
            "Requirement already satisfied: joblib>=1.2.0 in /usr/local/lib/python3.11/dist-packages (from scikit-learn<1.6.0->MAPIE==1.0.0a1) (1.4.2)\n",
            "Requirement already satisfied: threadpoolctl>=3.1.0 in /usr/local/lib/python3.11/dist-packages (from scikit-learn<1.6.0->MAPIE==1.0.0a1) (3.6.0)\n",
            "Downloading scikit_learn-1.5.2-cp311-cp311-manylinux_2_17_x86_64.manylinux2014_x86_64.whl (13.3 MB)\n",
            "\u001b[2K   \u001b[90m━━━━━━━━━━━━━━━━━━━━━━━━━━━━━━━━━━━━━━━━\u001b[0m \u001b[32m13.3/13.3 MB\u001b[0m \u001b[31m69.6 MB/s\u001b[0m eta \u001b[36m0:00:00\u001b[0m\n",
            "\u001b[?25hBuilding wheels for collected packages: MAPIE\n",
            "  Building wheel for MAPIE (pyproject.toml) ... \u001b[?25l\u001b[?25hdone\n",
            "  Created wheel for MAPIE: filename=mapie-1.0.0a1-py3-none-any.whl size=187020 sha256=c5bdc47e85b0d7231dee51aeca3994eabe663834cfc38aed9df88f546aafdd27\n",
            "  Stored in directory: /tmp/pip-ephem-wheel-cache-vmyjcthw/wheels/d1/0a/cb/49dc0b75bb1cf582ba37b2b4c099c6e423d3a58e028751a649\n",
            "Successfully built MAPIE\n",
            "Installing collected packages: scikit-learn, MAPIE\n",
            "  Attempting uninstall: scikit-learn\n",
            "    Found existing installation: scikit-learn 1.6.1\n",
            "    Uninstalling scikit-learn-1.6.1:\n",
            "      Successfully uninstalled scikit-learn-1.6.1\n",
            "Successfully installed MAPIE-1.0.0a1 scikit-learn-1.5.2\n"
          ]
        }
      ]
    },
    {
      "cell_type": "code",
      "execution_count": 3,
      "metadata": {
        "id": "s8HJhWksM00M"
      },
      "outputs": [],
      "source": [
        "import json\n",
        "import sys\n",
        "sys.path.append('/content/mapie_llm')\n",
        "\n",
        "import matplotlib.pyplot as plt\n",
        "import plotly.graph_objects as go\n",
        "import numpy as np\n",
        "import seaborn as sns\n",
        "import torch\n",
        "import torch.nn.functional as F\n",
        "from mapie_v1.classification import SplitConformalClassifier\n",
        "from mapie.metrics.classification import classification_coverage_score\n",
        "from sklearn.metrics import accuracy_score\n",
        "from sklearn.model_selection import train_test_split\n",
        "from tqdm import tqdm\n",
        "from transformers import AutoTokenizer, AutoModelForCausalLM\n",
        "\n",
        "from utils.prompt_utils import TransformCosmosQA"
      ]
    },
    {
      "cell_type": "code",
      "execution_count": null,
      "metadata": {
        "id": "mkhny3BQNnbU"
      },
      "outputs": [],
      "source": [
        "from huggingface_hub import notebook_login\n",
        "\n",
        "notebook_login()"
      ]
    },
    {
      "cell_type": "code",
      "source": [
        "N_OBS = 1000\n",
        "CONFIDENCE_LEVEL = 0.95"
      ],
      "metadata": {
        "id": "CDnM_F2mCE8v"
      },
      "execution_count": 5,
      "outputs": []
    },
    {
      "cell_type": "markdown",
      "metadata": {
        "id": "FRIT-c13M00N"
      },
      "source": [
        "# Load data and transform it to X, y (X being a prompt)"
      ]
    },
    {
      "cell_type": "code",
      "execution_count": 6,
      "metadata": {
        "id": "qS2xXaGaM00O"
      },
      "outputs": [],
      "source": [
        "data = json.load(open(\"/content/mapie_llm/cosmosqa_10k.json\"))"
      ]
    },
    {
      "cell_type": "code",
      "execution_count": 7,
      "metadata": {
        "id": "wmiS6xU-M00O"
      },
      "outputs": [],
      "source": [
        "data_transformer = TransformCosmosQA(data)\n",
        "X, y = data_transformer.transform_data()"
      ]
    },
    {
      "cell_type": "markdown",
      "metadata": {
        "id": "sM4zaOfkM00O"
      },
      "source": [
        "# Load the model and its tokenizer"
      ]
    },
    {
      "cell_type": "code",
      "execution_count": null,
      "metadata": {
        "id": "VTIlHUxiM00O"
      },
      "outputs": [],
      "source": [
        "def load_model(model_name):\n",
        "    tokenizer = AutoTokenizer.from_pretrained(model_name)\n",
        "    model = AutoModelForCausalLM.from_pretrained(model_name, torch_dtype=torch.float16, device_map=\"auto\")\n",
        "    model.eval()\n",
        "    return tokenizer, model\n",
        "\n",
        "# %%\n",
        "tok, mo = load_model(\"mistralai/Mistral-7B-Instruct-v0.3\")"
      ]
    },
    {
      "cell_type": "markdown",
      "metadata": {
        "id": "jm2Y53g7M00P"
      },
      "source": [
        "# Wrap the model"
      ]
    },
    {
      "cell_type": "code",
      "execution_count": 10,
      "metadata": {
        "id": "afvIn7AbM00P"
      },
      "outputs": [],
      "source": [
        "class LLMClassifier:\n",
        "\n",
        "\n",
        "    def __init__(self, tokenizer, model):\n",
        "        self.tokenizer = tokenizer\n",
        "        self.model = model\n",
        "        self.options = [\"Answer: A\", \"Answer: B\", \"Answer: C\", \"Answer: D\"]\n",
        "        self.tokenizer.pad_token = self.tokenizer.eos_token\n",
        "        self.option_ids = [self.tokenizer.encode(opt)[-1] for opt in self.options]\n",
        "        self.is_fitted_ = True\n",
        "        self.classes_ = [0, 1, 2, 3]\n",
        "\n",
        "    def fit(self):\n",
        "      pass\n",
        "\n",
        "\n",
        "    def predict_proba(self, prompts):\n",
        "        if isinstance(prompts, str):\n",
        "            prompts = [prompts]  # Convert single prompt to list\n",
        "        pred_probas = []\n",
        "        for prompt in tqdm(prompts):\n",
        "            prompt = [prompt]\n",
        "            inputs = self._prepare_inputs(prompt)\n",
        "            with torch.no_grad():\n",
        "                outputs = self.model(**inputs)\n",
        "\n",
        "            logits = outputs.logits[:, -1, :]  # Extract logits for the last token [batch_size, vocab_size]\n",
        "            logits_options = logits[:, self.option_ids]  # Select logits corresponding to answer options\n",
        "\n",
        "            probabilities = F.softmax(logits_options, dim=-1).cpu().numpy().flatten()\n",
        "            probabilities /= probabilities.sum() # Ensure that the sum is exaclty equal to 1, which may not be true in some cases\n",
        "            pred_probas.append(probabilities)\n",
        "        return np.array(pred_probas)\n",
        "\n",
        "    def predict(self, prompts):\n",
        "        probas = self.predict_proba(prompts)\n",
        "        return np.argmax(probas, axis=-1)\n",
        "\n",
        "    def _prepare_inputs(self, prompts):\n",
        "        inputs = self.tokenizer(prompts, return_tensors=\"pt\", truncation=True)\n",
        "        for k in inputs:\n",
        "            if torch.is_tensor(inputs[k]):\n",
        "                inputs[k] = inputs[k].to(\"cuda\")\n",
        "        return inputs"
      ]
    },
    {
      "cell_type": "code",
      "execution_count": 11,
      "metadata": {
        "id": "hyc2LdGEM00d"
      },
      "outputs": [],
      "source": [
        "llm = LLMClassifier(tok, mo)"
      ]
    },
    {
      "cell_type": "code",
      "execution_count": 12,
      "metadata": {
        "id": "1YF_hu4wM00e"
      },
      "outputs": [],
      "source": [
        "scc = SplitConformalClassifier(estimator=llm, confidence_level=CONFIDENCE_LEVEL)"
      ]
    },
    {
      "cell_type": "code",
      "source": [
        "X_small, y_small = X[:N_OBS], y[:N_OBS]"
      ],
      "metadata": {
        "id": "Ghcu1QB9BvdX"
      },
      "execution_count": 13,
      "outputs": []
    },
    {
      "cell_type": "code",
      "source": [
        "X_conf, X_test, y_conf, y_test = train_test_split(X_small, y_small, train_size=.5)"
      ],
      "metadata": {
        "id": "WNu67X2kCJW0"
      },
      "execution_count": 14,
      "outputs": []
    },
    {
      "cell_type": "code",
      "source": [
        "scc.conformalize(X_conf, y_conf)"
      ],
      "metadata": {
        "colab": {
          "base_uri": "https://localhost:8080/"
        },
        "id": "LXW6E5eLChYY",
        "outputId": "7f86136a-6243-4a10-c4f5-8ec563eeaea4"
      },
      "execution_count": 15,
      "outputs": [
        {
          "output_type": "stream",
          "name": "stderr",
          "text": [
            "  0%|          | 0/500 [00:00<?, ?it/s]Asking to truncate to max_length but no maximum length is provided and the model has no predefined maximum length. Default to no truncation.\n",
            "100%|██████████| 500/500 [08:27<00:00,  1.01s/it]\n"
          ]
        },
        {
          "output_type": "execute_result",
          "data": {
            "text/plain": [
              "<mapie_v1.classification.SplitConformalClassifier at 0x7f912c44cd50>"
            ]
          },
          "metadata": {},
          "execution_count": 15
        }
      ]
    },
    {
      "cell_type": "code",
      "source": [
        "y_pred, y_pred_set = scc.predict_set(X_test)"
      ],
      "metadata": {
        "id": "pyCvdvPfCv7I",
        "colab": {
          "base_uri": "https://localhost:8080/"
        },
        "outputId": "8be13e4a-801d-4421-8504-8a7fd9e92dbe"
      },
      "execution_count": 16,
      "outputs": [
        {
          "output_type": "stream",
          "name": "stderr",
          "text": [
            "100%|██████████| 500/500 [08:32<00:00,  1.02s/it]\n",
            "100%|██████████| 500/500 [08:28<00:00,  1.02s/it]\n"
          ]
        }
      ]
    },
    {
      "cell_type": "code",
      "source": [
        "classification_coverage_score(y_test, y_pred_set[:, :, 0])"
      ],
      "metadata": {
        "id": "m1HS-ES-KCnO",
        "colab": {
          "base_uri": "https://localhost:8080/"
        },
        "outputId": "6f9904b5-fcb4-4085-9836-0de20c003f06"
      },
      "execution_count": 17,
      "outputs": [
        {
          "output_type": "execute_result",
          "data": {
            "text/plain": [
              "0.96"
            ]
          },
          "metadata": {},
          "execution_count": 17
        }
      ]
    },
    {
      "cell_type": "code",
      "source": [
        "def print_examples_and_prediction_set(data_transformer, X, y, y_pred, y_pred_set):\n",
        "  sizes = y_pred_set.sum(axis=1)\n",
        "  unique_sizes= np.unique(sizes)\n",
        "\n",
        "  for size in unique_sizes:\n",
        "    all_idx_size = np.argwhere(sizes==size)[:, 0]\n",
        "    random_idx = np.random.choice(all_idx_size, 1)[0]\n",
        "\n",
        "    prompt_without_few_shot = X[random_idx].split(\"Answer:\")[-2][3:]\n",
        "    label = y[random_idx]\n",
        "    pred = y_pred[random_idx]\n",
        "    pred_set = np.argwhere(y_pred_set[random_idx][:, 0]).ravel()\n",
        "    print(\"==========================================\",\n",
        "        prompt_without_few_shot,\n",
        "        f\"Correct answer: {data_transformer.label_encoder.inverse_transform([label])[0]}\",\n",
        "        f\"Prediction: {data_transformer.label_encoder.inverse_transform([pred])[0]}\",\n",
        "        f\"Prediction set: {data_transformer.label_encoder.inverse_transform(pred_set)}\",\n",
        "        sep=\"\\n\")"
      ],
      "metadata": {
        "id": "b3LejaSiLzkd"
      },
      "execution_count": 24,
      "outputs": []
    },
    {
      "cell_type": "code",
      "source": [
        "print_examples_and_prediction_set(data_transformer, X_test, y_test, y_pred, y_pred_set)"
      ],
      "metadata": {
        "id": "fX74CHtfOHmS",
        "colab": {
          "base_uri": "https://localhost:8080/"
        },
        "outputId": "37b5e650-3e5a-4e2a-d24b-5f4d4b1f1e3f"
      },
      "execution_count": 25,
      "outputs": [
        {
          "output_type": "stream",
          "name": "stdout",
          "text": [
            "==========================================\n",
            "Context: Howard pulled out his wallet from his trousers and threw a fiver onto the bar , but the barman shook his head and mouthed ' Tenner ' . Howard was silently outraged at the price of a whiskey but consoled himself with the thought that he did n't go out often , so he may as well spend up big . The whiskey sour was sharp on his throat and he almost gagged at the smell , but after the second swallow , it was n't so bad . Howard saw a shadow sliding up towards him .\n",
            "Question: What do we know about Howard ?\n",
            "Choices:\n",
            "A. Howard is a shadow .\n",
            "B. Howard owes a fiver .\n",
            "C. Howard is a drinker .\n",
            "D. They have a financial interest in the subject .\n",
            "E. I don't know\n",
            "F. None of the above\n",
            "\n",
            "Correct answer: C\n",
            "Prediction: C\n",
            "Prediction set: ['C']\n",
            "==========================================\n",
            "Context: Norman from my class participated and did a stand - up comedy . A ' 3-in-1 ' act . As a girl , a boy and the music teacher , Ms Madonna . < select ... > < option ... > Haha Ha ha Ha - ha Aha Hahn Hana .\n",
            "Question: What may be the purpose of this post ?\n",
            "Choices:\n",
            "A. To describe school\n",
            "B. To describe my friends\n",
            "C. To describe home\n",
            "D. To describe my job\n",
            "E. I don't know\n",
            "F. None of the above\n",
            "\n",
            "Correct answer: A\n",
            "Prediction: B\n",
            "Prediction set: ['A' 'B']\n",
            "==========================================\n",
            "Context: Friends - only CAMPS story : I chaperoned a bus to CAMPS . The list of campers I had was all wrong , so I had them write their names on a sheet of paper as they boarded . As one young lady , last name Manchester , signed the sheet , the pen ran out . I got another pen and moved on to the next person .\n",
            "Question: Why did they need to hand - write all of the names ?\n",
            "Choices:\n",
            "A. They like the way it looks better by hand .\n",
            "B. They did n't want to use a computer to type it .\n",
            "C. They needed the names to be corrected .\n",
            "D. I had a fever and the suppositories took care of that while the prunes helped rehydrate me\n",
            "E. I don't know\n",
            "F. None of the above\n",
            "\n",
            "Correct answer: C\n",
            "Prediction: B\n",
            "Prediction set: ['A' 'B' 'C']\n",
            "==========================================\n",
            "Context: and they were sleeping together but nothing serious committment - wise . Well , he was also dating another girl as well . Well my friend got pregnant ( she used protection ) from him but had a miscarriage .\n",
            "Question: How did he most likely feel about the woman 's miscarriage ?\n",
            "Choices:\n",
            "A. He felt like he was missing out on fatherhood .\n",
            "B. He was sad that he did n't get to have a child .\n",
            "C. The narrator was looking to travel to Tokyo .\n",
            "D. He was relieved at getting out of the responsibility .\n",
            "E. I don't know\n",
            "F. None of the above\n",
            "\n",
            "Correct answer: D\n",
            "Prediction: D\n",
            "Prediction set: ['A' 'B' 'C' 'D']\n"
          ]
        }
      ]
    },
    {
      "cell_type": "code",
      "source": [
        "accuracy = accuracy_score(y_test, y_pred)\n"
      ],
      "metadata": {
        "id": "wGCs1brLOIP5"
      },
      "execution_count": 20,
      "outputs": []
    },
    {
      "cell_type": "code",
      "source": [
        "print(f\"The LMM is right {round(accuracy * 100, 2)} % of the time. \\n\")\n"
      ],
      "metadata": {
        "id": "_r1TlmlgWWYn",
        "colab": {
          "base_uri": "https://localhost:8080/"
        },
        "outputId": "997f363f-b5ec-40ae-b546-d76cfb4942c6"
      },
      "execution_count": 21,
      "outputs": [
        {
          "output_type": "stream",
          "name": "stdout",
          "text": [
            "The LMM is right 85.6 % of the time. \n",
            "\n"
          ]
        }
      ]
    },
    {
      "cell_type": "code",
      "source": [
        "def plot_label_distribution(y_pred_set):\n",
        "    num_labels_per_sample = np.sum(y_pred_set, axis=1)\n",
        "    label_counts = np.bincount(num_labels_per_sample)\n",
        "    min_number = np.min(num_labels_per_sample)\n",
        "    max_number = np.max(num_labels_per_sample)\n",
        "\n",
        "    plt.figure(figsize=(10, 6))  # Adjust figure size as needed\n",
        "    sns.countplot(x=num_labels_per_sample)\n",
        "    plt.title('Distribution of the size of prediction sets')\n",
        "    plt.xlabel('Size')\n",
        "    plt.ylabel('Number of prediction sets')\n",
        "    plt.xticks(range(min_number, max_number + 1))\n",
        "    plt.show()\n"
      ],
      "metadata": {
        "id": "3o2ehACnJUfm"
      },
      "execution_count": 38,
      "outputs": []
    },
    {
      "cell_type": "code",
      "source": [
        "plot_label_distribution(y_pred_set[:, :, 0])"
      ],
      "metadata": {
        "id": "dWu-sYJCblWR",
        "colab": {
          "base_uri": "https://localhost:8080/",
          "height": 564
        },
        "outputId": "9f858b30-0f0d-4699-ac9a-25f2a18e3ec9"
      },
      "execution_count": 39,
      "outputs": [
        {
          "output_type": "display_data",
          "data": {
            "text/plain": [
              "<Figure size 1000x600 with 1 Axes>"
            ],
            "image/png": "[encoded data removed]"
          },
          "metadata": {}
        }
      ]
    },
    {
      "cell_type": "code",
      "source": [
        "def plot_accuracy_per_size(y_test, y_pred_set):\n",
        "    sizes = y_pred_set.sum(axis=1)\n",
        "    unique_sizes = np.unique(sizes)\n",
        "    accuracies = []\n",
        "    for size in unique_sizes:\n",
        "        # Indices where the prediction set size is equal to the current size\n",
        "        indices = np.where(sizes == size)[0]\n",
        "        # True labels and predictions for the current size\n",
        "        true_labels = y_test[indices]\n",
        "        predictions = y_pred[indices]\n",
        "        # Accuracy calculation for the current size\n",
        "        accuracy = accuracy_score(true_labels, predictions)\n",
        "        accuracies.append(accuracy)\n",
        "\n",
        "    # Use seaborn to create the bar plot\n",
        "    plt.figure(figsize=(10, 6))  # Adjust figure size as needed\n",
        "    sns.barplot(x=unique_sizes.astype(int), y=accuracies)\n",
        "    plt.title('Accuracy for each size of prediction sets')\n",
        "    plt.xlabel('Size of Prediction Set')\n",
        "    plt.ylabel('Accuracy')\n",
        "    plt.show()\n"
      ],
      "metadata": {
        "id": "HhTw2UocFk6J"
      },
      "execution_count": 40,
      "outputs": []
    },
    {
      "cell_type": "code",
      "source": [
        "plot_accuracy_per_size(y_test, y_pred_set[:, :, 0])\n"
      ],
      "metadata": {
        "colab": {
          "base_uri": "https://localhost:8080/",
          "height": 542
        },
        "id": "uR2w3XsIGLMl",
        "outputId": "ad690ab9-ed61-496b-93f8-ba646bc493ca"
      },
      "execution_count": 41,
      "outputs": [
        {
          "output_type": "display_data",
          "data": {
            "text/html": [
              "<html>\n",
              "<head><meta charset=\"utf-8\" /></head>\n",
              "<body>\n",
              "    <div>            <script src=\"https://cdnjs.cloudflare.com/ajax/libs/mathjax/2.7.5/MathJax.js?config=TeX-AMS-MML_SVG\"></script><script type=\"text/javascript\">if (window.MathJax && window.MathJax.Hub && window.MathJax.Hub.Config) {window.MathJax.Hub.Config({SVG: {font: \"STIX-Web\"}});}</script>                <script type=\"text/javascript\">window.PlotlyConfig = {MathJaxConfig: 'local'};</script>\n",
              "        <script charset=\"utf-8\" src=\"https://cdn.plot.ly/plotly-2.35.2.min.js\"></script>                <div id=\"1e942ea6-ca6a-45b1-8011-63e94aed11c0\" class=\"plotly-graph-div\" style=\"height:525px; width:100%;\"></div>            <script type=\"text/javascript\">                                    window.PLOTLYENV=window.PLOTLYENV || {};                                    if (document.getElementById(\"1e942ea6-ca6a-45b1-8011-63e94aed11c0\")) {                    Plotly.newPlot(                        \"1e942ea6-ca6a-45b1-8011-63e94aed11c0\",                        [{\"x\":[1,2,3,4],\"y\":[0.9640718562874252,0.6847826086956522,0.6086956521739131,0.5357142857142857],\"type\":\"bar\"}],                        {\"template\":{\"data\":{\"histogram2dcontour\":[{\"type\":\"histogram2dcontour\",\"colorbar\":{\"outlinewidth\":0,\"ticks\":\"\"},\"colorscale\":[[0.0,\"#0d0887\"],[0.1111111111111111,\"#46039f\"],[0.2222222222222222,\"#7201a8\"],[0.3333333333333333,\"#9c179e\"],[0.4444444444444444,\"#bd3786\"],[0.5555555555555556,\"#d8576b\"],[0.6666666666666666,\"#ed7953\"],[0.7777777777777778,\"#fb9f3a\"],[0.8888888888888888,\"#fdca26\"],[1.0,\"#f0f921\"]]}],\"choropleth\":[{\"type\":\"choropleth\",\"colorbar\":{\"outlinewidth\":0,\"ticks\":\"\"}}],\"histogram2d\":[{\"type\":\"histogram2d\",\"colorbar\":{\"outlinewidth\":0,\"ticks\":\"\"},\"colorscale\":[[0.0,\"#0d0887\"],[0.1111111111111111,\"#46039f\"],[0.2222222222222222,\"#7201a8\"],[0.3333333333333333,\"#9c179e\"],[0.4444444444444444,\"#bd3786\"],[0.5555555555555556,\"#d8576b\"],[0.6666666666666666,\"#ed7953\"],[0.7777777777777778,\"#fb9f3a\"],[0.8888888888888888,\"#fdca26\"],[1.0,\"#f0f921\"]]}],\"heatmap\":[{\"type\":\"heatmap\",\"colorbar\":{\"outlinewidth\":0,\"ticks\":\"\"},\"colorscale\":[[0.0,\"#0d0887\"],[0.1111111111111111,\"#46039f\"],[0.2222222222222222,\"#7201a8\"],[0.3333333333333333,\"#9c179e\"],[0.4444444444444444,\"#bd3786\"],[0.5555555555555556,\"#d8576b\"],[0.6666666666666666,\"#ed7953\"],[0.7777777777777778,\"#fb9f3a\"],[0.8888888888888888,\"#fdca26\"],[1.0,\"#f0f921\"]]}],\"heatmapgl\":[{\"type\":\"heatmapgl\",\"colorbar\":{\"outlinewidth\":0,\"ticks\":\"\"},\"colorscale\":[[0.0,\"#0d0887\"],[0.1111111111111111,\"#46039f\"],[0.2222222222222222,\"#7201a8\"],[0.3333333333333333,\"#9c179e\"],[0.4444444444444444,\"#bd3786\"],[0.5555555555555556,\"#d8576b\"],[0.6666666666666666,\"#ed7953\"],[0.7777777777777778,\"#fb9f3a\"],[0.8888888888888888,\"#fdca26\"],[1.0,\"#f0f921\"]]}],\"contourcarpet\":[{\"type\":\"contourcarpet\",\"colorbar\":{\"outlinewidth\":0,\"ticks\":\"\"}}],\"contour\":[{\"type\":\"contour\",\"colorbar\":{\"outlinewidth\":0,\"ticks\":\"\"},\"colorscale\":[[0.0,\"#0d0887\"],[0.1111111111111111,\"#46039f\"],[0.2222222222222222,\"#7201a8\"],[0.3333333333333333,\"#9c179e\"],[0.4444444444444444,\"#bd3786\"],[0.5555555555555556,\"#d8576b\"],[0.6666666666666666,\"#ed7953\"],[0.7777777777777778,\"#fb9f3a\"],[0.8888888888888888,\"#fdca26\"],[1.0,\"#f0f921\"]]}],\"surface\":[{\"type\":\"surface\",\"colorbar\":{\"outlinewidth\":0,\"ticks\":\"\"},\"colorscale\":[[0.0,\"#0d0887\"],[0.1111111111111111,\"#46039f\"],[0.2222222222222222,\"#7201a8\"],[0.3333333333333333,\"#9c179e\"],[0.4444444444444444,\"#bd3786\"],[0.5555555555555556,\"#d8576b\"],[0.6666666666666666,\"#ed7953\"],[0.7777777777777778,\"#fb9f3a\"],[0.8888888888888888,\"#fdca26\"],[1.0,\"#f0f921\"]]}],\"mesh3d\":[{\"type\":\"mesh3d\",\"colorbar\":{\"outlinewidth\":0,\"ticks\":\"\"}}],\"scatter\":[{\"fillpattern\":{\"fillmode\":\"overlay\",\"size\":10,\"solidity\":0.2},\"type\":\"scatter\"}],\"parcoords\":[{\"type\":\"parcoords\",\"line\":{\"colorbar\":{\"outlinewidth\":0,\"ticks\":\"\"}}}],\"scatterpolargl\":[{\"type\":\"scatterpolargl\",\"marker\":{\"colorbar\":{\"outlinewidth\":0,\"ticks\":\"\"}}}],\"bar\":[{\"error_x\":{\"color\":\"#2a3f5f\"},\"error_y\":{\"color\":\"#2a3f5f\"},\"marker\":{\"line\":{\"color\":\"#E5ECF6\",\"width\":0.5},\"pattern\":{\"fillmode\":\"overlay\",\"size\":10,\"solidity\":0.2}},\"type\":\"bar\"}],\"scattergeo\":[{\"type\":\"scattergeo\",\"marker\":{\"colorbar\":{\"outlinewidth\":0,\"ticks\":\"\"}}}],\"scatterpolar\":[{\"type\":\"scatterpolar\",\"marker\":{\"colorbar\":{\"outlinewidth\":0,\"ticks\":\"\"}}}],\"histogram\":[{\"marker\":{\"pattern\":{\"fillmode\":\"overlay\",\"size\":10,\"solidity\":0.2}},\"type\":\"histogram\"}],\"scattergl\":[{\"type\":\"scattergl\",\"marker\":{\"colorbar\":{\"outlinewidth\":0,\"ticks\":\"\"}}}],\"scatter3d\":[{\"type\":\"scatter3d\",\"line\":{\"colorbar\":{\"outlinewidth\":0,\"ticks\":\"\"}},\"marker\":{\"colorbar\":{\"outlinewidth\":0,\"ticks\":\"\"}}}],\"scattermapbox\":[{\"type\":\"scattermapbox\",\"marker\":{\"colorbar\":{\"outlinewidth\":0,\"ticks\":\"\"}}}],\"scatterternary\":[{\"type\":\"scatterternary\",\"marker\":{\"colorbar\":{\"outlinewidth\":0,\"ticks\":\"\"}}}],\"scattercarpet\":[{\"type\":\"scattercarpet\",\"marker\":{\"colorbar\":{\"outlinewidth\":0,\"ticks\":\"\"}}}],\"carpet\":[{\"aaxis\":{\"endlinecolor\":\"#2a3f5f\",\"gridcolor\":\"white\",\"linecolor\":\"white\",\"minorgridcolor\":\"white\",\"startlinecolor\":\"#2a3f5f\"},\"baxis\":{\"endlinecolor\":\"#2a3f5f\",\"gridcolor\":\"white\",\"linecolor\":\"white\",\"minorgridcolor\":\"white\",\"startlinecolor\":\"#2a3f5f\"},\"type\":\"carpet\"}],\"table\":[{\"cells\":{\"fill\":{\"color\":\"#EBF0F8\"},\"line\":{\"color\":\"white\"}},\"header\":{\"fill\":{\"color\":\"#C8D4E3\"},\"line\":{\"color\":\"white\"}},\"type\":\"table\"}],\"barpolar\":[{\"marker\":{\"line\":{\"color\":\"#E5ECF6\",\"width\":0.5},\"pattern\":{\"fillmode\":\"overlay\",\"size\":10,\"solidity\":0.2}},\"type\":\"barpolar\"}],\"pie\":[{\"automargin\":true,\"type\":\"pie\"}]},\"layout\":{\"autotypenumbers\":\"strict\",\"colorway\":[\"#636efa\",\"#EF553B\",\"#00cc96\",\"#ab63fa\",\"#FFA15A\",\"#19d3f3\",\"#FF6692\",\"#B6E880\",\"#FF97FF\",\"#FECB52\"],\"font\":{\"color\":\"#2a3f5f\"},\"hovermode\":\"closest\",\"hoverlabel\":{\"align\":\"left\"},\"paper_bgcolor\":\"white\",\"plot_bgcolor\":\"#E5ECF6\",\"polar\":{\"bgcolor\":\"#E5ECF6\",\"angularaxis\":{\"gridcolor\":\"white\",\"linecolor\":\"white\",\"ticks\":\"\"},\"radialaxis\":{\"gridcolor\":\"white\",\"linecolor\":\"white\",\"ticks\":\"\"}},\"ternary\":{\"bgcolor\":\"#E5ECF6\",\"aaxis\":{\"gridcolor\":\"white\",\"linecolor\":\"white\",\"ticks\":\"\"},\"baxis\":{\"gridcolor\":\"white\",\"linecolor\":\"white\",\"ticks\":\"\"},\"caxis\":{\"gridcolor\":\"white\",\"linecolor\":\"white\",\"ticks\":\"\"}},\"coloraxis\":{\"colorbar\":{\"outlinewidth\":0,\"ticks\":\"\"}},\"colorscale\":{\"sequential\":[[0.0,\"#0d0887\"],[0.1111111111111111,\"#46039f\"],[0.2222222222222222,\"#7201a8\"],[0.3333333333333333,\"#9c179e\"],[0.4444444444444444,\"#bd3786\"],[0.5555555555555556,\"#d8576b\"],[0.6666666666666666,\"#ed7953\"],[0.7777777777777778,\"#fb9f3a\"],[0.8888888888888888,\"#fdca26\"],[1.0,\"#f0f921\"]],\"sequentialminus\":[[0.0,\"#0d0887\"],[0.1111111111111111,\"#46039f\"],[0.2222222222222222,\"#7201a8\"],[0.3333333333333333,\"#9c179e\"],[0.4444444444444444,\"#bd3786\"],[0.5555555555555556,\"#d8576b\"],[0.6666666666666666,\"#ed7953\"],[0.7777777777777778,\"#fb9f3a\"],[0.8888888888888888,\"#fdca26\"],[1.0,\"#f0f921\"]],\"diverging\":[[0,\"#8e0152\"],[0.1,\"#c51b7d\"],[0.2,\"#de77ae\"],[0.3,\"#f1b6da\"],[0.4,\"#fde0ef\"],[0.5,\"#f7f7f7\"],[0.6,\"#e6f5d0\"],[0.7,\"#b8e186\"],[0.8,\"#7fbc41\"],[0.9,\"#4d9221\"],[1,\"#276419\"]]},\"xaxis\":{\"gridcolor\":\"white\",\"linecolor\":\"white\",\"ticks\":\"\",\"title\":{\"standoff\":15},\"zerolinecolor\":\"white\",\"automargin\":true,\"zerolinewidth\":2},\"yaxis\":{\"gridcolor\":\"white\",\"linecolor\":\"white\",\"ticks\":\"\",\"title\":{\"standoff\":15},\"zerolinecolor\":\"white\",\"automargin\":true,\"zerolinewidth\":2},\"scene\":{\"xaxis\":{\"backgroundcolor\":\"#E5ECF6\",\"gridcolor\":\"white\",\"linecolor\":\"white\",\"showbackground\":true,\"ticks\":\"\",\"zerolinecolor\":\"white\",\"gridwidth\":2},\"yaxis\":{\"backgroundcolor\":\"#E5ECF6\",\"gridcolor\":\"white\",\"linecolor\":\"white\",\"showbackground\":true,\"ticks\":\"\",\"zerolinecolor\":\"white\",\"gridwidth\":2},\"zaxis\":{\"backgroundcolor\":\"#E5ECF6\",\"gridcolor\":\"white\",\"linecolor\":\"white\",\"showbackground\":true,\"ticks\":\"\",\"zerolinecolor\":\"white\",\"gridwidth\":2}},\"shapedefaults\":{\"line\":{\"color\":\"#2a3f5f\"}},\"annotationdefaults\":{\"arrowcolor\":\"#2a3f5f\",\"arrowhead\":0,\"arrowwidth\":1},\"geo\":{\"bgcolor\":\"white\",\"landcolor\":\"#E5ECF6\",\"subunitcolor\":\"white\",\"showland\":true,\"showlakes\":true,\"lakecolor\":\"white\"},\"title\":{\"x\":0.05},\"mapbox\":{\"style\":\"light\"}}},\"title\":{\"text\":\"Accuracy for each size of prediction sets\"},\"xaxis\":{\"title\":{\"text\":\"Size of Prediction Set\"}},\"yaxis\":{\"title\":{\"text\":\"Accuracy\"}}},                        {\"responsive\": true}                    ).then(function(){\n",
              "                            \n",
              "var gd = document.getElementById('1e942ea6-ca6a-45b1-8011-63e94aed11c0');\n",
              "var x = new MutationObserver(function (mutations, observer) {{\n",
              "        var display = window.getComputedStyle(gd).display;\n",
              "        if (!display || display === 'none') {{\n",
              "            console.log([gd, 'removed!']);\n",
              "            Plotly.purge(gd);\n",
              "            observer.disconnect();\n",
              "        }}\n",
              "}});\n",
              "\n",
              "// Listen for the removal of the full notebook cells\n",
              "var notebookContainer = gd.closest('#notebook-container');\n",
              "if (notebookContainer) {{\n",
              "    x.observe(notebookContainer, {childList: true});\n",
              "}}\n",
              "\n",
              "// Listen for the clearing of the current output cell\n",
              "var outputEl = gd.closest('.output');\n",
              "if (outputEl) {{\n",
              "    x.observe(outputEl, {childList: true});\n",
              "}}\n",
              "\n",
              "                        })                };                            </script>        </div>\n",
              "</body>\n",
              "</html>"
            ]
          },
          "metadata": {}
        }
      ]
    },
    {
      "cell_type": "code",
      "source": [],
      "metadata": {
        "id": "3Ew4FIW4Ge49"
      },
      "execution_count": null,
      "outputs": []
    }
  ],
  "metadata": {
    "accelerator": "GPU",
    "colab": {
      "gpuType": "T4",
      "provenance": []
    },
    "kernelspec": {
      "display_name": "mapie-llm-oz4A_AfW-py3.10",
      "language": "python",
      "name": "python3"
    },
    "language_info": {
      "codemirror_mode": {
        "name": "ipython",
        "version": 3
      },
      "file_extension": ".py",
      "mimetype": "text/x-python",
      "name": "python",
      "nbconvert_exporter": "python",
      "pygments_lexer": "ipython3",
      "version": "3.10.15"
    }
  },
  "nbformat": 4,
  "nbformat_minor": 0
}