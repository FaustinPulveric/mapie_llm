{
  "cells": [
    {
      "cell_type": "markdown",
      "metadata": {
        "id": "YaoZI6H_SfaB"
      },
      "source": [
        "# MAPIE and Conformal Predictions with a LLM.\n",
        "\n",
        "## Overview\n",
        "\n",
        "This notebook demonstrates how to use MAPIE for conformal predictions with a Large Language Model (LLM). The goal is to evaluate prediction sets for a multiple-choice question-answering task using conformal prediction techniques. This notebook is based on the work presented in [Benchmarking LLMs via Uncertainty Quantification](https://arxiv.org/abs/2401.12794). Parts of the code come from this [Github repo](https://github.com/smartyfh/LLM-Uncertainty-Bench).\n",
        "\n",
        "## Key Components\n",
        "\n",
        "- **Dataset**: The CosmosQA dataset, a benchmark for commonsense reasoning.\n",
        "- **LLM**: The notebook utilizes the `Mistral-7B-Instruct-v0.3` model for predictions.\n",
        "- **MAPIE for Conformal Prediction**: The `SplitConformalClassifier` from MAPIE is used to generate prediction sets with a given confidence level.\n",
        "\n",
        "## Steps Covered\n",
        "\n",
        "1. **Setup & Installation**\n",
        "   - Clone the repository and install required dependencies.\n",
        "   - Authenticate with Hugging Face Hub to access the LLM.\n",
        "\n",
        "2. **Data Preprocessing**\n",
        "   - Load and transform CosmosQA data into a format suitable for the model.\n",
        "\n",
        "3. **Model Loading**\n",
        "   - Load the `Mistral-7B` model and its tokenizer.\n",
        "   - Define an `LLMClassifier` wrapper to make predictions in a structured format.\n",
        "\n",
        "4. **Conformal Prediction with MAPIE**\n",
        "   - Use `SplitConformalClassifier` to calibrate the model on a subset of the data.\n",
        "   - Generate prediction sets with a 95% confidence level.\n",
        "\n",
        "5. **Evaluation & Visualization**\n",
        "   - Compute accuracy scores and coverage metrics.\n",
        "   - Visualize the size distribution of prediction sets.\n",
        "   - Plot accuracy per prediction set size.\n",
        "\n",
        "## Results\n",
        "\n",
        "- The LLM achieves an accuracy of approximately **86%** on the test set.\n",
        "- Prediction sets provide calibrated uncertainty estimates, enhancing reliability in decision-making.\n",
        "- The more uncertain the model is (i.e., the larger the prediction sets), the lower the accuracy.\n",
        "\n",
        "## Conclusion\n",
        "\n",
        "This notebook illustrates how conformal prediction techniques can be applied to LLMs for more trustworthy AI systems. The approach can be extended to other question-answering datasets and models to assess confidence in model predictions.\n",
        "\n"
      ]
    },
    {
      "cell_type": "markdown",
      "metadata": {
        "id": "wVeXxF3wl1hx"
      },
      "source": [
        "# First step : install and import dependencies"
      ]
    },
    {
      "cell_type": "code",
      "execution_count": 1,
      "metadata": {
        "colab": {
          "base_uri": "https://localhost:8080/"
        },
        "id": "h1EFUzkJNAeU",
        "outputId": "cf1a8d33-248d-4021-bc27-9e79e2541c6b"
      },
      "outputs": [
        {
          "name": "stdout",
          "output_type": "stream",
          "text": [
            "Cloning into 'mapie_llm'...\n",
            "remote: Enumerating objects: 128, done.\u001b[K\n",
            "remote: Counting objects: 100% (128/128), done.\u001b[K\n",
            "remote: Compressing objects: 100% (108/108), done.\u001b[K\n",
            "remote: Total 128 (delta 68), reused 46 (delta 15), pack-reused 0 (from 0)\u001b[K\n",
            "Receiving objects: 100% (128/128), 2.58 MiB | 9.22 MiB/s, done.\n",
            "Resolving deltas: 100% (68/68), done.\n"
          ]
        }
      ],
      "source": [
        "!rm -rf /content/mapie_llm\n",
        "!git clone https://github.com/gmartinonQM/mapie_llm"
      ]
    },
    {
      "cell_type": "code",
      "execution_count": 2,
      "metadata": {
        "colab": {
          "base_uri": "https://localhost:8080/"
        },
        "id": "CbQtjgak5Ue6",
        "outputId": "484854ca-e511-49bf-d176-08fa371a338d"
      },
      "outputs": [
        {
          "name": "stdout",
          "output_type": "stream",
          "text": [
            "Collecting mapie\n",
            "  Downloading mapie-1.0.1-py3-none-any.whl.metadata (11 kB)\n",
            "Requirement already satisfied: scikit-learn>=1.4 in /usr/local/lib/python3.11/dist-packages (from mapie) (1.6.1)\n",
            "Requirement already satisfied: scipy in /usr/local/lib/python3.11/dist-packages (from mapie) (1.15.3)\n",
            "Requirement already satisfied: numpy>=1.23 in /usr/local/lib/python3.11/dist-packages (from mapie) (2.0.2)\n",
            "Requirement already satisfied: joblib>=1.2.0 in /usr/local/lib/python3.11/dist-packages (from scikit-learn>=1.4->mapie) (1.5.0)\n",
            "Requirement already satisfied: threadpoolctl>=3.1.0 in /usr/local/lib/python3.11/dist-packages (from scikit-learn>=1.4->mapie) (3.6.0)\n",
            "Downloading mapie-1.0.1-py3-none-any.whl (173 kB)\n",
            "\u001b[2K   \u001b[90m━━━━━━━━━━━━━━━━━━━━━━━━━━━━━━━━━━━━━━━━\u001b[0m \u001b[32m173.2/173.2 kB\u001b[0m \u001b[31m5.6 MB/s\u001b[0m eta \u001b[36m0:00:00\u001b[0m\n",
            "\u001b[?25hInstalling collected packages: mapie\n",
            "Successfully installed mapie-1.0.1\n"
          ]
        }
      ],
      "source": [
        "!pip install mapie"
      ]
    },
    {
      "cell_type": "code",
      "execution_count": 3,
      "metadata": {
        "id": "s8HJhWksM00M"
      },
      "outputs": [],
      "source": [
        "import json\n",
        "import sys\n",
        "\n",
        "sys.path.append('/content/mapie_llm')\n",
        "\n",
        "import matplotlib.pyplot as plt\n",
        "import numpy as np\n",
        "import torch\n",
        "import torch.nn.functional as F\n",
        "from google.colab import userdata\n",
        "from huggingface_hub import login\n",
        "from mapie.classification import SplitConformalClassifier\n",
        "from mapie.metrics.classification import (\n",
        "    classification_coverage_score,\n",
        "    classification_mean_width_score,\n",
        ")\n",
        "from sklearn.metrics import accuracy_score\n",
        "from sklearn.model_selection import train_test_split\n",
        "from tqdm import tqdm\n",
        "from transformers import AutoModelForCausalLM, AutoTokenizer\n",
        "\n",
        "from utils.cosmosqa import TransformCosmosQA\n"
      ]
    },
    {
      "cell_type": "markdown",
      "metadata": {
        "id": "9Sw4d0jhG5Vk"
      },
      "source": [
        "Do not forget to register your HuggingFace token in your colab secrets, and make it visible to this notebook."
      ]
    },
    {
      "cell_type": "code",
      "execution_count": 4,
      "metadata": {
        "id": "AxaKG4EjFZj_"
      },
      "outputs": [],
      "source": [
        "login(token=userdata.get(\"HF_TOKEN\"))"
      ]
    },
    {
      "cell_type": "markdown",
      "metadata": {
        "id": "jp8s7ab35vN7"
      },
      "source": [
        "# Notebook parameters\n",
        "We retain `N_OBS` CosmosQA examples to conformalize and evaluate our LLM. `CONFIDENCE_LEVEL` drives the size of the prediction sets we will output for each answer."
      ]
    },
    {
      "cell_type": "code",
      "execution_count": 5,
      "metadata": {
        "id": "CDnM_F2mCE8v"
      },
      "outputs": [],
      "source": [
        "N_OBS = 1000\n",
        "CONFIDENCE_LEVEL = 0.95"
      ]
    },
    {
      "cell_type": "markdown",
      "metadata": {
        "id": "FRIT-c13M00N"
      },
      "source": [
        "# Load data and transform it to X, y (X being a prompt)\n",
        "\n",
        "The prompts are composed of:\n",
        "- Fewshot examples (questions with answers)\n",
        "- Context\n",
        "- Question regarding the context\n",
        "\n",
        "Labels are one-hot encoded (i.e. labels are 0, 1, 2 or 3). In the prompts, two more labels are proposed (\"None of the above\" and \"I don't know\"). As none of those answers are in the possible labels, we chose to discard them."
      ]
    },
    {
      "cell_type": "code",
      "execution_count": 6,
      "metadata": {
        "id": "qS2xXaGaM00O"
      },
      "outputs": [],
      "source": [
        "data = json.load(open(\"/content/mapie_llm/cosmosqa_10k.json\"))"
      ]
    },
    {
      "cell_type": "markdown",
      "metadata": {
        "id": "fRojbYC36tFj"
      },
      "source": [
        "We observe that the dataset contains 10 thousands questions with their context and answer."
      ]
    },
    {
      "cell_type": "code",
      "execution_count": 7,
      "metadata": {
        "colab": {
          "base_uri": "https://localhost:8080/"
        },
        "id": "xupUQ4zW6m0w",
        "outputId": "537a3f26-440f-4492-9f6c-4f334ed3c556"
      },
      "outputs": [
        {
          "data": {
            "text/plain": [
              "10000"
            ]
          },
          "execution_count": 7,
          "metadata": {},
          "output_type": "execute_result"
        }
      ],
      "source": [
        "len(data)"
      ]
    },
    {
      "cell_type": "markdown",
      "metadata": {
        "id": "JCDkBDWM61vP"
      },
      "source": [
        "Here is what an example looks like."
      ]
    },
    {
      "cell_type": "code",
      "execution_count": 8,
      "metadata": {
        "colab": {
          "base_uri": "https://localhost:8080/"
        },
        "id": "H1vtpPEO6fec",
        "outputId": "4d4eb672-456d-47d8-d6f5-8f1867454b9a"
      },
      "outputs": [
        {
          "data": {
            "text/plain": [
              "{'source': 'CosmosQA',\n",
              " 'task': 'commonsense-based reading comprehension',\n",
              " 'context': \"My house is constantly getting messy and I ca n't keep up . I am starting at a new school with no one I know and it is 4 times bigger than UAF . I am now going to have to balance school , homework , kids , bill paying , appointment making and cleaning when I can barely keep up without the school and homework ( keep in mind this is a full time GRADUATE program at a fairly prestigious school ) . We are in financial crisis .\",\n",
              " 'question': \"What is causing the narrator 's recent stress ?\",\n",
              " 'choices': {'A': 'They are moving to a new house .',\n",
              "  'B': 'I would have tried to guess their password and alternatively gone to a coffee shop for wifi',\n",
              "  'C': 'They are moving to a new university .',\n",
              "  'D': 'They are moving to a new house for the kids .',\n",
              "  'E': \"I don't know\",\n",
              "  'F': 'None of the above'},\n",
              " 'answer': 'C',\n",
              " 'id': 3}"
            ]
          },
          "execution_count": 8,
          "metadata": {},
          "output_type": "execute_result"
        }
      ],
      "source": [
        "data[3]"
      ]
    },
    {
      "cell_type": "markdown",
      "metadata": {
        "id": "wx1WkR__7q9_"
      },
      "source": [
        "Now we format all these examples into nicely formatted questions to be answered by the LLM (`X`), together with the ground truth (`y`). We add 5 few-shot examples on top of each question, as well as some instructions."
      ]
    },
    {
      "cell_type": "code",
      "execution_count": 9,
      "metadata": {
        "id": "wmiS6xU-M00O"
      },
      "outputs": [],
      "source": [
        "data_transformer = TransformCosmosQA(data)\n",
        "X, y = data_transformer.transform_data()"
      ]
    },
    {
      "cell_type": "markdown",
      "metadata": {
        "id": "R0xD9LZ58LBc"
      },
      "source": [
        "Here is what our previous example now looks like."
      ]
    },
    {
      "cell_type": "code",
      "execution_count": 10,
      "metadata": {
        "colab": {
          "base_uri": "https://localhost:8080/"
        },
        "id": "wJpvuXPc7i2Y",
        "outputId": "60344673-76dd-4fca-c1d1-5205be1b0272"
      },
      "outputs": [
        {
          "name": "stdout",
          "output_type": "stream",
          "text": [
            "\n",
            "The following is a multiple-choice question about reading comprehension.\n",
            "You should answer the question based on the given context and you can use\n",
            "commonsense reasoning when necessary. Please reason step-by-step and select\n",
            "the correct answer. You only need to output the option.\n",
            "\n",
            "\n",
            "Context: It 's got character . You know what they say : ' If it ai n't too broke , do n't fix it ' . \" Howard stood up in his pyjamas that smelled of Vince , and looked out of the window . He repeated Vince 's aphorism over and over until his heartbeat settled a little .\n",
            "Question: What was Howard doing when he walked to the window\n",
            "Choices:\n",
            "A. He was sneezing\n",
            "B. He was chewing gum\n",
            "C. He was scratching his lap\n",
            "D. He was thinking\n",
            "E. I don't know\n",
            "F. None of the above\n",
            "Answer: D\n",
            "Context: My house is constantly getting messy and I ca n't keep up . I am starting at a new school with no one I know and it is 4 times bigger than UAF . I am now going to have to balance school , homework , kids , bill paying , appointment making and cleaning when I can barely keep up without the school and homework ( keep in mind this is a full time GRADUATE program at a fairly prestigious school ) . We are in financial crisis .\n",
            "Question: What is causing the narrator 's recent stress ?\n",
            "Choices:\n",
            "A. They are moving to a new house .\n",
            "B. I would have tried to guess their password and alternatively gone to a coffee shop for wifi\n",
            "C. They are moving to a new university .\n",
            "D. They are moving to a new house for the kids .\n",
            "E. I don't know\n",
            "F. None of the above\n",
            "Answer: C\n",
            "Context: O.O Then he and Jocelyne put the kid on the ground . The kid continued to eat grass as he lay on the ground by the truck , but the man began to tie his front legs together and the kid started to struggle . We calmed him down , but after he tied the rear legs and then began to tie the rear legs to the front legs the kid started screaming and thrashing and would not stop . Finally , the man dumped the kid in the back of his pick up ( moving several hack - saws and broken beer bottles to the side ) and asked if he could buy some goats milk .\n",
            "Question: Why was the child eating grass ?\n",
            "Choices:\n",
            "A. He 's behaving properly .\n",
            "B. He 's being naughty\n",
            "C. It 's the only food .\n",
            "D. They are high schoolers .\n",
            "E. I don't know\n",
            "F. None of the above\n",
            "Answer: B\n",
            "Context: Friends - only CAMPS story : I chaperoned a bus to CAMPS . The list of campers I had was all wrong , so I had them write their names on a sheet of paper as they boarded . As one young lady , last name Manchester , signed the sheet , the pen ran out . I got another pen and moved on to the next person .\n",
            "Question: Why did they need to hand - write all of the names ?\n",
            "Choices:\n",
            "A. They like the way it looks better by hand .\n",
            "B. They did n't want to use a computer to type it .\n",
            "C. They needed the names to be corrected .\n",
            "D. I had a fever and the suppositories took care of that while the prunes helped rehydrate me\n",
            "E. I don't know\n",
            "F. None of the above\n",
            "Answer: C\n",
            "Context: Other StuffWell , that about wraps up my day . Tricia and I finally bought a bookshelf , and the bulk of my books are now put away , praise the Lord . We also took my desktop computer in for diagnostics and an estimate on the repairs .\n",
            "Question: What may I have done before installing the bookshelf ?\n",
            "Choices:\n",
            "A. Because she made a bad decision about the haircut for the writer 's son .\n",
            "B. Take the computer for repairs\n",
            "C. Try to shop for a new computer\n",
            "D. Take the car to get serviced\n",
            "E. I don't know\n",
            "F. None of the above\n",
            "Answer: B\n",
            "Context: My house is constantly getting messy and I ca n't keep up . I am starting at a new school with no one I know and it is 4 times bigger than UAF . I am now going to have to balance school , homework , kids , bill paying , appointment making and cleaning when I can barely keep up without the school and homework ( keep in mind this is a full time GRADUATE program at a fairly prestigious school ) . We are in financial crisis .\n",
            "Question: What is causing the narrator 's recent stress ?\n",
            "Choices:\n",
            "A. They are moving to a new house .\n",
            "B. I would have tried to guess their password and alternatively gone to a coffee shop for wifi\n",
            "C. They are moving to a new university .\n",
            "D. They are moving to a new house for the kids .\n",
            "E. I don't know\n",
            "F. None of the above\n",
            "Answer:\n"
          ]
        }
      ],
      "source": [
        "print(X[3])"
      ]
    },
    {
      "cell_type": "markdown",
      "metadata": {
        "id": "eFfHDiv18gS9"
      },
      "source": [
        "As for the ground truth, it has been label encoded to integers."
      ]
    },
    {
      "cell_type": "code",
      "execution_count": 11,
      "metadata": {
        "colab": {
          "base_uri": "https://localhost:8080/"
        },
        "id": "YFvHCgE28XQW",
        "outputId": "945e810b-4157-4ea5-a80c-3f263dce59f8"
      },
      "outputs": [
        {
          "name": "stdout",
          "output_type": "stream",
          "text": [
            "2\n"
          ]
        }
      ],
      "source": [
        "print(y[3])"
      ]
    },
    {
      "cell_type": "markdown",
      "metadata": {
        "id": "GzCtF-krDlum"
      },
      "source": [
        "For the rest of this notebook, we only use a subset of the whole dataset."
      ]
    },
    {
      "cell_type": "code",
      "execution_count": 12,
      "metadata": {
        "colab": {
          "base_uri": "https://localhost:8080/"
        },
        "id": "Ghcu1QB9BvdX",
        "outputId": "f63f4688-bc03-48b7-8466-1c7173682b78"
      },
      "outputs": [
        {
          "name": "stdout",
          "output_type": "stream",
          "text": [
            "1000\n"
          ]
        }
      ],
      "source": [
        "X_small, y_small = X[-N_OBS:], y[-N_OBS:]\n",
        "print(len(X_small))"
      ]
    },
    {
      "cell_type": "markdown",
      "metadata": {
        "id": "3TwI1CqOD0iD"
      },
      "source": [
        "Following standard conformal prediction practices, we set aside a conformalization set to conformalize the predictions. This allows us to get valid prediction sets on the testing set."
      ]
    },
    {
      "cell_type": "code",
      "execution_count": null,
      "metadata": {
        "colab": {
          "base_uri": "https://localhost:8080/"
        },
        "id": "WNu67X2kCJW0",
        "outputId": "a0a5baf3-b405-4db2-f6c7-3c28b8a44984"
      },
      "outputs": [
        {
          "name": "stdout",
          "output_type": "stream",
          "text": [
            "500\n",
            "500\n"
          ]
        }
      ],
      "source": [
        "X_conf, X_test, y_conf, y_test = train_test_split(X_small, y_small, train_size=0.5, random_state=1)\n",
        "print(len(X_conf))\n",
        "print(len(X_test))"
      ]
    },
    {
      "cell_type": "markdown",
      "metadata": {
        "id": "sM4zaOfkM00O"
      },
      "source": [
        "# Load the model and its tokenizer\n",
        "\n",
        "We now download the weights from an open-source LLM. You may need to request access directly on HuggingFace website."
      ]
    },
    {
      "cell_type": "code",
      "execution_count": 14,
      "metadata": {
        "colab": {
          "base_uri": "https://localhost:8080/",
          "height": 419,
          "referenced_widgets": [
            "13ff58b9ba244c65840a48d7c3a92c11",
            "41ccbb4153824002979232c7754e7138",
            "24d7eefd48f54198ae2d376a354d66e3",
            "9440f579acda4061a3564667552d30e7",
            "10975730103b42dc93f2385be4cb26cc",
            "306b8b0ee751451cbf25999ecc1d0b63",
            "f49f03842234439a97148fff07dd20b6",
            "a4a5e7afa16b4b00b52e57a176e5f5c7",
            "8217ffc8197842f38290cbf835f463d9",
            "dd5b385738d24506af26964633805638",
            "035cff48d95b43f48481db632ed1d37c",
            "807499514ef445dba5680f9c7ee948c8",
            "a7e3ac47e0da43d88caa6ec04d57a6bf",
            "f79e5fcc8eec4eddb966c21e5fd9d2a6",
            "2f1a4b81bc054441be387850dec75689",
            "1c2fe9516e1645bf9a9d9256865af691",
            "ae983dc080ba4aac96f5afda5218d6f5",
            "17b9037e79d349869ceefab84860e52f",
            "9888b0134bbe4ce384dbfb0e369176a1",
            "642613f97c8d492092ab986ddf80bf4a",
            "504456c72a80475cb22116a60642e87b",
            "cefd7bf8fa604743adcfde7adbebb108",
            "b8c774bdc824449ba26dcc80d3aecb39",
            "1f5c385ac3df44e48ff6ae15cc115213",
            "b6ec528a1fa7432fa6ec85be186a8950",
            "b0fc1cf1ea2d45b7a76a2a5c38573a50",
            "b7ee950718964384a91a333ac394bae4",
            "487f1b9b0a0e4fd4aeb0b76744a6d76f",
            "dcf31c6566dd4c8fa48cbc702010d7e8",
            "3cd4d36f078d4376b976bdd6dddfd9d2",
            "b2cdf26534844fd8bc13aad55d99c6db",
            "4e886975e1b74509800a1a973298c2c3",
            "e77b24ebd94748e18f9f2a1ccb782f7f",
            "b1fb211068ad4a8db817e44c0f61fa0d",
            "389f4238468e4cc4b10a947317e490b0",
            "e7161b6ba87c4935a534041f4df2a113",
            "8e7057442b2a411d976008e664d61298",
            "efc7a0c30e724ed890772047c91e3401",
            "10f503e6a8f943c0a63da9b815e9d618",
            "b77e3c7d22844623a2b2ab0c67d11b81",
            "0690b8c5bff642c3a2ed36a01df20e32",
            "c318fb0d24c240fc8d4a6eb33c6d26aa",
            "e93ac58a94964623b827e3754590a27a",
            "894b0887690f4c5b886fcfa16b775a48",
            "4c458a00d82e4ab69641396f0557e5a2",
            "b37e13a2099145e1a325e69e4847db11",
            "fca2ec9a72f64eed9e94ca67e910091d",
            "3dc8bb54f5eb403abd8e100256b243a6",
            "39e9c9d92afa4927bc3263a43df18abd",
            "c0202a1c176249169131e41c4c2ea5c1",
            "8ac9d4f81eaf4891afb52f92dc4d8937",
            "19688caab60c4beeb294ad8f340fd839",
            "fbb5ae2f8bf640668a3d7e239cd32d53",
            "672fb15fd84b494dacd4fd169a511fa6",
            "4afc4c8258da468c9679ffebd4b7786c",
            "3ca4e53ea0f14299946c56d02f035df1",
            "9deeffbf430141cfa746331972315fa8",
            "50fe93515fed4a0e88967002577abdc5",
            "2b8506579d6f4058b0b589911abfbb66",
            "54684d36a6e84bfbb5a734f403368330",
            "2a0d897b81134b54bc90359349b5508b",
            "c4888cf0abc04fdd805ec543bac32db3",
            "820b09cfb86d4e65821abd52297e78e7",
            "0575d68d69b84e75b51d237a9aa04ffd",
            "59fa82f4900d4fd888dca754e0cc3960",
            "e6dfe343961041dc8333e367cddaa8e4",
            "74239689ab8244d584a6a1376a77afff",
            "2d35ce767e264818ad57c49452d11267",
            "8a7278c440134bba946a8f745550d16e",
            "d6bce7551646476aba682c92975d16ff",
            "43ca11053cc04e0994a0dc580128ad43",
            "7045e2de38944e2a85056239c43281d8",
            "d4f3876669574a16acd8014cdff0093f",
            "803a9a05e3214e338da2595ba74c3642",
            "4a4eee77a51e4221a6e8332d12db49ed",
            "8cfbe60e8e434dd09eb2e2dedc127304",
            "59e4a593335046d9ad076da3a98ea6a2",
            "32bb14c3a4454033be517f92720c1e9f",
            "bcfa3335a9c1462db14366bc9e8748e6",
            "bc63c62d6bbd43c1a6d844d1094d0922",
            "c69a9c5d1f544c88831dc37ab7412573",
            "6c002ff64d604587963d92cc6bf2409a",
            "cdea388ac4514e2ca26576cdd3b409a9",
            "ab2a84c9ed6f44c494e1b717a9247b1d",
            "fcd0d3b732c2432ebf172ee9b32037b4",
            "5d3dce6832c14288a78b4bf52d539095",
            "f88ea1408571409b875e62c86cddefdd",
            "8422c4e59321423fafa9efa7dd13d3d7",
            "6d3002592a674aa898d384fed1d75ca8",
            "73c666174c33493389df8f581290facb",
            "89518c62cc59432cb8170853cca99b93",
            "c517d992e8a149178aa19888ddbfa27a",
            "d5ee0a6e5fd04b2ca0cd9d4b44dc95df",
            "49a69863b0d346f7a0925f3c5f39818c",
            "52691efd505444eb81b31d55c6cc7f06",
            "430ede9dda474c23ba82b5bd499cfb3e",
            "5cd93b7e0f7247889db05da0e50b6782",
            "5a08a04ae23940678a21d0f2f37697a0",
            "e73fbbbf4aa248d2bd8ec988f451aabe",
            "0505352887db41cb8f4bc1bebebab3a7",
            "5d7ebd26894a42af8afb04cf8d5c283e",
            "b5e77c321a0a4eff943cce340b797103",
            "676243fd68da4f37b7c21aab87cbfaef",
            "c77cacb010544c1c885345b4541c9e01",
            "7127d120086341d6bc2cef66812c1790",
            "4e466d74101343b1b2650175263d433b",
            "abd2d214521d49c7bcb1c027c351e46d",
            "aa14da39edfb48f0bfca87c8bf46ce20",
            "a5b48a9199b3405a8d1f39dc28dfe4f3",
            "d63f513f1e9d44e4a26dea771001589e",
            "c48ccb4be2a448d9b4974a6bf8fdc744",
            "73b77548c40647f19816e1ecee219d80",
            "6d699b9b586b465dbc23863db7d13ce5",
            "b07e1d09227f422780afa67bf829e94c",
            "e7b3cd80963f4d8284aa0df76c404ce5",
            "f5e0403357c24db19451b5800fbe80ea",
            "8d0bc6c6773e412ea6e9e248e85f23a3",
            "db360a4a6e6d49a7990ad16e6f13bd71",
            "a167bd33726e4eff8ac5662ef4def126",
            "8440c19c047c49048f85c3b914d817d9",
            "ec191b2c251d4376b5946a41ee8e7edc",
            "3444a0d2410c4aecb24294eabdd7c186",
            "6bac55a4c72c4c879c24f3d1881e8f75",
            "c099e6bcec2e4859b157bc6bae0dedb6",
            "cf3842c4357744c2aa29cfe505e63e94",
            "4129081c4b6e453d8af9a032215a44c1",
            "b90084fa0122466fafa76d0d9a52928a",
            "f4cda8f325a040209f2141b4e70b64f3",
            "759b20946ff74e7db2e1ea3f2c42598f",
            "df3c9616b0cb4d79bd19a44fca839f98",
            "b2e3160873cf4bd28bcd561bfe393cae",
            "8668a5556ce2431ba26129f2dc574ddf"
          ]
        },
        "id": "VTIlHUxiM00O",
        "outputId": "5953fdb3-301f-4dca-8453-3ebc9b048466"
      },
      "outputs": [
        {
          "data": {
            "application/vnd.jupyter.widget-view+json": {
              "model_id": "13ff58b9ba244c65840a48d7c3a92c11",
              "version_major": 2,
              "version_minor": 0
            },
            "text/plain": [
              "tokenizer_config.json:   0%|          | 0.00/141k [00:00<?, ?B/s]"
            ]
          },
          "metadata": {},
          "output_type": "display_data"
        },
        {
          "data": {
            "application/vnd.jupyter.widget-view+json": {
              "model_id": "807499514ef445dba5680f9c7ee948c8",
              "version_major": 2,
              "version_minor": 0
            },
            "text/plain": [
              "tokenizer.model:   0%|          | 0.00/587k [00:00<?, ?B/s]"
            ]
          },
          "metadata": {},
          "output_type": "display_data"
        },
        {
          "data": {
            "application/vnd.jupyter.widget-view+json": {
              "model_id": "b8c774bdc824449ba26dcc80d3aecb39",
              "version_major": 2,
              "version_minor": 0
            },
            "text/plain": [
              "tokenizer.json:   0%|          | 0.00/1.96M [00:00<?, ?B/s]"
            ]
          },
          "metadata": {},
          "output_type": "display_data"
        },
        {
          "data": {
            "application/vnd.jupyter.widget-view+json": {
              "model_id": "b1fb211068ad4a8db817e44c0f61fa0d",
              "version_major": 2,
              "version_minor": 0
            },
            "text/plain": [
              "special_tokens_map.json:   0%|          | 0.00/414 [00:00<?, ?B/s]"
            ]
          },
          "metadata": {},
          "output_type": "display_data"
        },
        {
          "data": {
            "application/vnd.jupyter.widget-view+json": {
              "model_id": "4c458a00d82e4ab69641396f0557e5a2",
              "version_major": 2,
              "version_minor": 0
            },
            "text/plain": [
              "config.json:   0%|          | 0.00/601 [00:00<?, ?B/s]"
            ]
          },
          "metadata": {},
          "output_type": "display_data"
        },
        {
          "data": {
            "application/vnd.jupyter.widget-view+json": {
              "model_id": "3ca4e53ea0f14299946c56d02f035df1",
              "version_major": 2,
              "version_minor": 0
            },
            "text/plain": [
              "model.safetensors.index.json:   0%|          | 0.00/23.9k [00:00<?, ?B/s]"
            ]
          },
          "metadata": {},
          "output_type": "display_data"
        },
        {
          "data": {
            "application/vnd.jupyter.widget-view+json": {
              "model_id": "74239689ab8244d584a6a1376a77afff",
              "version_major": 2,
              "version_minor": 0
            },
            "text/plain": [
              "Fetching 3 files:   0%|          | 0/3 [00:00<?, ?it/s]"
            ]
          },
          "metadata": {},
          "output_type": "display_data"
        },
        {
          "data": {
            "application/vnd.jupyter.widget-view+json": {
              "model_id": "32bb14c3a4454033be517f92720c1e9f",
              "version_major": 2,
              "version_minor": 0
            },
            "text/plain": [
              "model-00002-of-00003.safetensors:   0%|          | 0.00/5.00G [00:00<?, ?B/s]"
            ]
          },
          "metadata": {},
          "output_type": "display_data"
        },
        {
          "data": {
            "application/vnd.jupyter.widget-view+json": {
              "model_id": "6d3002592a674aa898d384fed1d75ca8",
              "version_major": 2,
              "version_minor": 0
            },
            "text/plain": [
              "model-00001-of-00003.safetensors:   0%|          | 0.00/4.95G [00:00<?, ?B/s]"
            ]
          },
          "metadata": {},
          "output_type": "display_data"
        },
        {
          "data": {
            "application/vnd.jupyter.widget-view+json": {
              "model_id": "0505352887db41cb8f4bc1bebebab3a7",
              "version_major": 2,
              "version_minor": 0
            },
            "text/plain": [
              "model-00003-of-00003.safetensors:   0%|          | 0.00/4.55G [00:00<?, ?B/s]"
            ]
          },
          "metadata": {},
          "output_type": "display_data"
        },
        {
          "data": {
            "application/vnd.jupyter.widget-view+json": {
              "model_id": "c48ccb4be2a448d9b4974a6bf8fdc744",
              "version_major": 2,
              "version_minor": 0
            },
            "text/plain": [
              "Loading checkpoint shards:   0%|          | 0/3 [00:00<?, ?it/s]"
            ]
          },
          "metadata": {},
          "output_type": "display_data"
        },
        {
          "data": {
            "application/vnd.jupyter.widget-view+json": {
              "model_id": "3444a0d2410c4aecb24294eabdd7c186",
              "version_major": 2,
              "version_minor": 0
            },
            "text/plain": [
              "generation_config.json:   0%|          | 0.00/116 [00:00<?, ?B/s]"
            ]
          },
          "metadata": {},
          "output_type": "display_data"
        },
        {
          "name": "stderr",
          "output_type": "stream",
          "text": [
            "WARNING:accelerate.big_modeling:Some parameters are on the meta device because they were offloaded to the cpu.\n"
          ]
        }
      ],
      "source": [
        "def load_model(model_name):\n",
        "    tokenizer = AutoTokenizer.from_pretrained(model_name)\n",
        "    model = AutoModelForCausalLM.from_pretrained(model_name, torch_dtype=torch.float16, device_map=\"auto\")\n",
        "    model.eval()\n",
        "    return tokenizer, model\n",
        "\n",
        "tokenizer, model = load_model(\"mistralai/Mistral-7B-Instruct-v0.3\")"
      ]
    },
    {
      "cell_type": "markdown",
      "metadata": {
        "id": "jm2Y53g7M00P"
      },
      "source": [
        "# Wrap the model\n",
        "\n",
        "In order to make the model compatible with MAPIE, it needs to have ```fit```, ```predict_proba``` and ```predict```methods as well as ```is_fitted```and ```classes_``` attributes."
      ]
    },
    {
      "cell_type": "code",
      "execution_count": 15,
      "metadata": {
        "id": "afvIn7AbM00P"
      },
      "outputs": [],
      "source": [
        "class LLMClassifier:\n",
        "\n",
        "    def __init__(self, tokenizer, model):\n",
        "        self.tokenizer = tokenizer\n",
        "        self.model = model\n",
        "        self.options = [\"Answer: A\", \"Answer: B\", \"Answer: C\", \"Answer: D\"]\n",
        "        self.tokenizer.pad_token = self.tokenizer.eos_token\n",
        "        self.options_ids = [self.tokenizer.encode(opt)[-1] for opt in self.options]\n",
        "        self.is_fitted_ = True\n",
        "        self.classes_ = [0, 1, 2, 3]\n",
        "\n",
        "    def fit(self):\n",
        "      pass\n",
        "\n",
        "    def predict_proba(self, prompts):\n",
        "        if isinstance(prompts, str):\n",
        "            prompts = [prompts]  # Convert single prompt to list\n",
        "        pred_probas = []\n",
        "        for prompt in tqdm(prompts):\n",
        "            prompt = [prompt]\n",
        "            inputs = self._prepare_inputs(prompt)\n",
        "            with torch.no_grad():\n",
        "                outputs = self.model(**inputs)\n",
        "            logits = outputs.logits[:, -1, :]  # Extract logits for the last token, [batch_size, vocab_size]\n",
        "            logits_options = logits[:, self.options_ids]  # Select logits corresponding to answer options\n",
        "            logits_options = logits_options.type(torch.float32)  # Ensure correct precision during softmax\n",
        "            probabilities = F.softmax(logits_options, dim=-1).cpu().numpy().flatten()\n",
        "            probabilities /= probabilities.sum() # Ensure that the sum is exaclty equal to 1, which may not be true in some cases\n",
        "            pred_probas.append(probabilities)\n",
        "        return np.array(pred_probas)\n",
        "\n",
        "    def predict(self, prompts):\n",
        "        probas = self.predict_proba(prompts)\n",
        "        return np.argmax(probas, axis=-1)\n",
        "\n",
        "    def _prepare_inputs(self, prompts):\n",
        "        inputs = self.tokenizer(prompts, return_tensors=\"pt\", truncation=True)\n",
        "        for k in inputs:\n",
        "            if torch.is_tensor(inputs[k]):\n",
        "                inputs[k] = inputs[k].to(\"cuda\")\n",
        "        return inputs"
      ]
    },
    {
      "cell_type": "code",
      "execution_count": 16,
      "metadata": {
        "id": "8SYKs-Hm5G-Y"
      },
      "outputs": [],
      "source": [
        "llm = LLMClassifier(tokenizer, model)"
      ]
    },
    {
      "cell_type": "markdown",
      "metadata": {
        "id": "wCZShpTT7Vrv"
      },
      "source": [
        "# Run the LLM with MAPIE\n",
        "\n",
        "**Exercice 1**: Now that the wrapper has been created, let us determine the prediction sets thanks to MAPIE!\n",
        "- Call ```SplitConformalClasifier``` with your model and define `CONFIDENCE_LEVEL` as the confidence level.\n",
        "- Then, call the `conformalize` method with your conformalization set: it will compute the conformity scores and their quantiles. This step may take several minutes.\n",
        "- Finally, call the `predict_set` method with the test data to output predictions and prediction sets."
      ]
    },
    {
      "cell_type": "code",
      "execution_count": 17,
      "metadata": {
        "colab": {
          "base_uri": "https://localhost:8080/"
        },
        "id": "hyc2LdGEM00d",
        "outputId": "171f1222-85c8-4c38-a1ee-00b624b93a70"
      },
      "outputs": [
        {
          "name": "stderr",
          "output_type": "stream",
          "text": [
            "  0%|          | 0/500 [00:00<?, ?it/s]Asking to truncate to max_length but no maximum length is provided and the model has no predefined maximum length. Default to no truncation.\n",
            "100%|██████████| 500/500 [08:44<00:00,  1.05s/it]\n",
            "100%|██████████| 500/500 [08:45<00:00,  1.05s/it]\n",
            "100%|██████████| 500/500 [08:44<00:00,  1.05s/it]\n"
          ]
        }
      ],
      "source": [
        "scc = SplitConformalClassifier(estimator=llm, confidence_level=CONFIDENCE_LEVEL)  # correction\n",
        "scc.conformalize(X_conf, y_conf)  # correction\n",
        "y_pred, y_pred_set = scc.predict_set(X_test)  # correction"
      ]
    },
    {
      "cell_type": "markdown",
      "metadata": {
        "id": "QXPuhLY-FwDc"
      },
      "source": [
        "And that's it!\n",
        "\n",
        "Let's have a look at the prediction of our previous example."
      ]
    },
    {
      "cell_type": "code",
      "execution_count": 18,
      "metadata": {
        "colab": {
          "base_uri": "https://localhost:8080/"
        },
        "id": "umJuKxG_PWKQ",
        "outputId": "4237865a-8440-463f-c847-b1c70464d1f2"
      },
      "outputs": [
        {
          "name": "stdout",
          "output_type": "stream",
          "text": [
            "1\n",
            "1\n",
            "B\n"
          ]
        }
      ],
      "source": [
        "truth = y_test[3]\n",
        "label_int = y_pred[3]\n",
        "label_str = data_transformer.label_encoder.inverse_transform([label_int])[0]\n",
        "print(truth)\n",
        "print(label_int)\n",
        "print(label_str)"
      ]
    },
    {
      "cell_type": "markdown",
      "metadata": {
        "id": "3F8YaROHPnvn"
      },
      "source": [
        "This looks correct ! And what about the prediction set?"
      ]
    },
    {
      "cell_type": "code",
      "execution_count": 19,
      "metadata": {
        "colab": {
          "base_uri": "https://localhost:8080/"
        },
        "id": "ZEYeh1HCPe1i",
        "outputId": "d07995a8-0754-47b5-89b4-01d2b1dedd06"
      },
      "outputs": [
        {
          "data": {
            "text/plain": [
              "array([[False],\n",
              "       [ True],\n",
              "       [False],\n",
              "       [False]])"
            ]
          },
          "execution_count": 19,
          "metadata": {},
          "output_type": "execute_result"
        }
      ],
      "source": [
        "y_pred_set[3]"
      ]
    },
    {
      "cell_type": "markdown",
      "metadata": {
        "id": "EP6v98RhPsRM"
      },
      "source": [
        "The prediction set is an array of boolean, indicating which label is in the set. Here, it turns out that our prediction set is reduced to a singleton. This means that our model is pretty certain of its answer. Let's dive deeper!"
      ]
    },
    {
      "cell_type": "markdown",
      "metadata": {
        "id": "Nmckz4aY-xOq"
      },
      "source": [
        "# Check the results and visualize the prediction sets\n",
        "\n",
        "**Exercice 2**: Let's examine how many times did our model find the right answer.\n",
        "- Compute the accuracy score of the model on the test data."
      ]
    },
    {
      "cell_type": "code",
      "execution_count": 20,
      "metadata": {
        "id": "63xToRRb5G-Z"
      },
      "outputs": [],
      "source": [
        "accuracy = accuracy_score(y_test, y_pred)  # correction"
      ]
    },
    {
      "cell_type": "code",
      "execution_count": 21,
      "metadata": {
        "colab": {
          "base_uri": "https://localhost:8080/"
        },
        "id": "sA-3Ukvu5G-Z",
        "outputId": "7764a3bf-dc23-45f5-9ba4-d9ae73ea187f"
      },
      "outputs": [
        {
          "data": {
            "text/plain": [
              "0.872"
            ]
          },
          "execution_count": 21,
          "metadata": {},
          "output_type": "execute_result"
        }
      ],
      "source": [
        "accuracy"
      ]
    },
    {
      "cell_type": "markdown",
      "metadata": {
        "id": "rbGbgGnKgKar"
      },
      "source": [
        "We get an accuracy around 86% on the test set: not bad!"
      ]
    },
    {
      "cell_type": "markdown",
      "metadata": {
        "id": "5PbvwHo-5G-Z"
      },
      "source": [
        "**Exercice 3**: Since we also have prediction sets, a standard metric evaluating their efficiency is the coverage score. It tells us how many times the ground truth did fall into the prediction set. It should match closely our `CONFIDENCE_LEVEL` given to our `SplitConformalClassifier` earlier, since it is a statistical guarantee offered by MAPIE.\n",
        "- Compute the coverage score of the prediction sets."
      ]
    },
    {
      "cell_type": "code",
      "execution_count": 22,
      "metadata": {
        "id": "mWvISOiY5G-Z"
      },
      "outputs": [],
      "source": [
        "coverage = classification_coverage_score(y_test, y_pred_set[:, :, 0])  # correction"
      ]
    },
    {
      "cell_type": "code",
      "execution_count": 23,
      "metadata": {
        "colab": {
          "base_uri": "https://localhost:8080/"
        },
        "id": "LfM7TZGp5G-Z",
        "outputId": "f86a76f4-da56-4f27-f680-b3672decceba"
      },
      "outputs": [
        {
          "data": {
            "text/plain": [
              "array([0.944])"
            ]
          },
          "execution_count": 23,
          "metadata": {},
          "output_type": "execute_result"
        }
      ],
      "source": [
        "coverage"
      ]
    },
    {
      "cell_type": "markdown",
      "metadata": {
        "id": "Sey8rJ6NgotS"
      },
      "source": [
        "**Exercice 4**: Last but not least, we would like to evaluate if our prediction sets manage to reach our coverage while being informative, i.e. not being too large. The mean width should thus be much smaller than 4, which is the maximum prediction set size, given there are only 4 choices per question.\n",
        "- Compute the mean width of the prediction sets."
      ]
    },
    {
      "cell_type": "code",
      "execution_count": 24,
      "metadata": {
        "id": "ECFhiHNh5G-Z"
      },
      "outputs": [],
      "source": [
        "mean_width = classification_mean_width_score(y_pred_set[:, :, 0])  # correction"
      ]
    },
    {
      "cell_type": "code",
      "execution_count": 25,
      "metadata": {
        "colab": {
          "base_uri": "https://localhost:8080/"
        },
        "id": "kYvO1jzL5G-Z",
        "outputId": "8f5d6818-4179-43bb-8d99-2be92d7e1a44"
      },
      "outputs": [
        {
          "data": {
            "text/plain": [
              "np.float64(1.324)"
            ]
          },
          "execution_count": 25,
          "metadata": {},
          "output_type": "execute_result"
        }
      ],
      "source": [
        "mean_width"
      ]
    },
    {
      "cell_type": "markdown",
      "metadata": {
        "id": "WoLaERFhir26"
      },
      "source": [
        "These global metrics look good! Now let's look deeper in some examples. The following function picks randomly one example for each prediction set size, from most certain answers (prediction set of size 1) to most uncertain ones (prediction set of size 4)."
      ]
    },
    {
      "cell_type": "code",
      "execution_count": 26,
      "metadata": {
        "id": "b3LejaSiLzkd"
      },
      "outputs": [],
      "source": [
        "def print_examples_and_prediction_set(data_transformer, X, y, y_pred, y_pred_set):\n",
        "  sizes = y_pred_set.sum(axis=1)\n",
        "  unique_sizes = np.unique(sizes)\n",
        "  for size in unique_sizes:\n",
        "    all_idx_size = np.argwhere(sizes == size)[:, 0]  # Indices of all answers having the current prediction set size\n",
        "    random_idx = np.random.choice(all_idx_size, 1)[0] # Random index among these to use hereafter\n",
        "    prompt_without_few_shot = X[random_idx].split(\"Answer:\")[-2][3:]  # Retrieve only the question of interest from the prompt\n",
        "    label = y[random_idx]\n",
        "    pred = y_pred[random_idx]\n",
        "    pred_set = np.argwhere(y_pred_set[random_idx][:, 0]).ravel()\n",
        "    # We need to inverse transform all class numbers to our well-known strings \"A\", \"B\", \"C\" and \"D\"\n",
        "    print(\n",
        "        \"==========================================\",\n",
        "        prompt_without_few_shot,\n",
        "        f\"Correct answer: {data_transformer.label_encoder.inverse_transform([label])[0]}\",\n",
        "        f\"Prediction: {data_transformer.label_encoder.inverse_transform([pred])[0]}\",\n",
        "        f\"Prediction set: {data_transformer.label_encoder.inverse_transform(pred_set)}\",\n",
        "        sep=\"\\n\"\n",
        "    )"
      ]
    },
    {
      "cell_type": "code",
      "execution_count": 27,
      "metadata": {
        "colab": {
          "base_uri": "https://localhost:8080/"
        },
        "id": "fX74CHtfOHmS",
        "outputId": "9b8e6ed8-c0b7-4276-c64a-3fa472c5ddb0"
      },
      "outputs": [
        {
          "name": "stdout",
          "output_type": "stream",
          "text": [
            "==========================================\n",
            "Context: In that posting , I described how to disable autorun for Windows XP and Windows 2000 and I just revised it to include Vista . In his December blog , Abrams writes , \" Fundamentally , there are two types of readers here . The first type will disable autorun and be more secure . The second type will eventually be victims . \" Do n't be a victim , disable autorun ( also known as autoplay ) for all devices .\n",
            "Question: Why would someone disable autorun on the computer ?\n",
            "Choices:\n",
            "A. Computer experts encourage the use of Autorun .\n",
            "B. Autorun is considered effective by computer experts .\n",
            "C. Computer experts think people are victims if they do n't use autorun .\n",
            "D. Autorun disabling is recommended by computer experts .\n",
            "E. I don't know\n",
            "F. None of the above\n",
            "\n",
            "Correct answer: D\n",
            "Prediction: D\n",
            "Prediction set: ['D']\n",
            "==========================================\n",
            "Context: Dear David , I saw your little eyes today in my mind . I saw your red tearful eyes . I remembered the way you looked up at the ceiling ... trying so hard to be a big boy and not cry . Its okay my baby .\n",
            "Question: Who is the narrator to David ?\n",
            "Choices:\n",
            "A. The narrator is David 's big boy .\n",
            "B. The narrator is David 's baby .\n",
            "C. The narrator is David 's son .\n",
            "D. The narrator is David 's mother .\n",
            "E. I don't know\n",
            "F. None of the above\n",
            "\n",
            "Correct answer: D\n",
            "Prediction: C\n",
            "Prediction set: ['C' 'D']\n",
            "==========================================\n",
            "Context: There 's some crap in a can called trans flush ? ? This is the first time I ' ve worked on an auto . Also , do I just run some air through the lines from the air compressor ?\n",
            "Question: Why is the narrator seemingly so befuddled ?\n",
            "Choices:\n",
            "A. This is the first time working on a ship .\n",
            "B. This is the first time working on a trans .\n",
            "C. This is the first time working on a can .\n",
            "D. This is the first time working on a car .\n",
            "E. I don't know\n",
            "F. None of the above\n",
            "\n",
            "Correct answer: D\n",
            "Prediction: D\n",
            "Prediction set: ['A' 'B' 'D']\n",
            "==========================================\n",
            "Context: You have never tell me and assured me before that you will never ever like her and will only wholeheartly love me , only me . how do you expect me not to worry not to think likewise ? I told you i had a bad dream last night , and today you suddenly told me that you are going out with her ?\n",
            "Question: What might happen to my relationship with him in the future ?\n",
            "Choices:\n",
            "A. I might break up with him for cheating on me .\n",
            "B. She might break up with me for cheating on him .\n",
            "C. I might break up with him for cheating on her .\n",
            "D. He might break up with me for cheating on her .\n",
            "E. I don't know\n",
            "F. None of the above\n",
            "\n",
            "Correct answer: A\n",
            "Prediction: A\n",
            "Prediction set: ['A' 'B' 'C' 'D']\n"
          ]
        }
      ],
      "source": [
        "print_examples_and_prediction_set(data_transformer, X_test, y_test, y_pred, y_pred_set)"
      ]
    },
    {
      "cell_type": "markdown",
      "metadata": {
        "id": "meGQf6D5jLXG"
      },
      "source": [
        "Now that we have inspected some examples with different prediction set sizes, a natural question is how many answers have a given prediction set size? This is what the next function calculates and plots."
      ]
    },
    {
      "cell_type": "code",
      "execution_count": 28,
      "metadata": {
        "id": "Y7kaDFGpLDJ3"
      },
      "outputs": [],
      "source": [
        "def plot_prediction_set_sizes(y_pred_set):\n",
        "    pred_set_size_per_sample = np.sum(y_pred_set, axis=1)\n",
        "    min_number = np.min(pred_set_size_per_sample)\n",
        "    max_number = np.max(pred_set_size_per_sample)\n",
        "    plt.figure(figsize=(10, 6))\n",
        "    plt.hist(pred_set_size_per_sample, bins=range(min_number, max_number + 2), align=\"left\", rwidth=0.8)\n",
        "    plt.title(\"Distribution of prediction sets sizes\")\n",
        "    plt.xlabel(\"Prediction set size\")\n",
        "    plt.ylabel(\"Number of answers\")\n",
        "    plt.xticks(range(min_number, max_number + 1))\n",
        "    plt.show()\n"
      ]
    },
    {
      "cell_type": "code",
      "execution_count": 29,
      "metadata": {
        "colab": {
          "base_uri": "https://localhost:8080/",
          "height": 564
        },
        "id": "dWu-sYJCblWR",
        "outputId": "0deed247-01c4-4c1d-82d7-b52b60a0542b"
      },
      "outputs": [
        {
          "data": {
            "image/png": "[encoded data removed]",
            "text/plain": [
              "<Figure size 1000x600 with 1 Axes>"
            ]
          },
          "metadata": {},
          "output_type": "display_data"
        }
      ],
      "source": [
        "plot_prediction_set_sizes(y_pred_set[:, :, 0])"
      ]
    },
    {
      "cell_type": "markdown",
      "metadata": {
        "id": "hj7hbLLYjtUV"
      },
      "source": [
        "We see that there is a large majority of singletons, which means that our model is pretty certain on all these answers, good news! Besides, we can now easily spot all the answers for which the model is more uncertain (prediction set size of 2) or completely lost (prediction set of size 3 to 4). Indeed, larger prediction set sizes means larger entropy logits."
      ]
    },
    {
      "cell_type": "markdown",
      "metadata": {
        "id": "eei1wilnkprl"
      },
      "source": [
        "At this point, you might wonder: is there a gap in accuracy between answers of different uncertainty? Let's investigate with the following function, that calculates and plots the accuracy for each group of answers, from most certain to most uncertain ones."
      ]
    },
    {
      "cell_type": "code",
      "execution_count": 30,
      "metadata": {
        "id": "LS3m6Uv6KsYb"
      },
      "outputs": [],
      "source": [
        "def plot_accuracy_per_size(y_test, y_pred_set):\n",
        "    sizes = y_pred_set.sum(axis=1)\n",
        "    unique_sizes = np.unique(sizes)\n",
        "    accuracies = []\n",
        "    for size in unique_sizes:\n",
        "        indices = np.where(sizes == size)[0]  # Indices where the prediction set size is equal to the current size\n",
        "        true_labels = y_test[indices]  # True labels for the current size\n",
        "        predictions = y_pred[indices]  # Predictions for the current size\n",
        "        accuracy = accuracy_score(true_labels, predictions)  # Accuracy calculation for the current size\n",
        "        print(f\"Prediction set size: {size} - Accuracy: {accuracy:.2f} - Number of answers: {len(indices)}\")\n",
        "        accuracies.append(accuracy)\n",
        "\n",
        "    accuracy_global = accuracy_score(y_test, y_pred)  # Overall accuracy\n",
        "\n",
        "    plt.figure(figsize=(10, 6))  # Adjust figure size as needed\n",
        "\n",
        "    # plot horizontal line for global accuracy\n",
        "    plt.axhline(y=accuracy_global, color='r', linestyle='--', label=\"Global Accuracy\")\n",
        "\n",
        "    plt.bar(unique_sizes.astype(int), accuracies)\n",
        "    plt.title(\"Accuracy for each size of prediction sets\")\n",
        "    plt.xlabel(\"Size of Prediction Set\")\n",
        "    plt.ylabel(\"Accuracy\")\n",
        "    plt.xticks(unique_sizes.astype(int)) # set xticks to integers\n",
        "    plt.show()\n"
      ]
    },
    {
      "cell_type": "code",
      "execution_count": 31,
      "metadata": {
        "colab": {
          "base_uri": "https://localhost:8080/",
          "height": 635
        },
        "id": "uR2w3XsIGLMl",
        "outputId": "42bf7206-2e41-4676-bb2f-20151985b308"
      },
      "outputs": [
        {
          "name": "stdout",
          "output_type": "stream",
          "text": [
            "Prediction set size: 1 - Accuracy: 0.94 - Number of answers: 383\n",
            "Prediction set size: 2 - Accuracy: 0.69 - Number of answers: 80\n",
            "Prediction set size: 3 - Accuracy: 0.55 - Number of answers: 29\n",
            "Prediction set size: 4 - Accuracy: 0.62 - Number of answers: 8\n"
          ]
        },
        {
          "data": {
            "image/png": "[encoded data removed]",
            "text/plain": [
              "<Figure size 1000x600 with 1 Axes>"
            ]
          },
          "metadata": {},
          "output_type": "display_data"
        }
      ],
      "source": [
        "plot_accuracy_per_size(y_test, y_pred_set[:, :, 0])\n"
      ]
    },
    {
      "cell_type": "markdown",
      "metadata": {
        "id": "3uKu7zVBonHD"
      },
      "source": [
        "Interesting! You see that the prediction set size highly correlates with accuracy. In particular, we can separate a high-performing group of almost 350 answers for which the accuracy is no less than 96%! On the other hand, we can directly considers answers with predictions sets sizes of 3-4 as being quite risky, with less than 70% accuracy.\n",
        "\n",
        "In practice, this means that you can directly treats larger uncertainties answers as higher risks of errors, and thus process them differently (e.g. discarding the answer, warning the user, delegating the answer to a human or a more powerfull LLM, and so on)."
      ]
    },
    {
      "cell_type": "code",
      "execution_count": 31,
      "metadata": {
        "id": "w8cwZu01cEw0"
      },
      "outputs": [],
      "source": []
    }
  ],
  "metadata": {
    "accelerator": "GPU",
    "colab": {
      "gpuType": "T4",
      "provenance": []
    },
    "kernelspec": {
      "display_name": "Python 3",
      "name": "python3"
    },
    "language_info": {
      "codemirror_mode": {
        "name": "ipython",
        "version": 3
      },
      "file_extension": ".py",
      "mimetype": "text/x-python",
      "name": "python",
      "nbconvert_exporter": "python",
      "pygments_lexer": "ipython3",
      "version": "3.10.15"
    },
    "widgets": {
      "application/vnd.jupyter.widget-state+json": {
        "035cff48d95b43f48481db632ed1d37c": {
          "model_module": "@jupyter-widgets/controls",
          "model_module_version": "1.5.0",
          "model_name": "DescriptionStyleModel",
          "state": {
            "_model_module": "@jupyter-widgets/controls",
            "_model_module_version": "1.5.0",
            "_model_name": "DescriptionStyleModel",
            "_view_count": null,
            "_view_module": "@jupyter-widgets/base",
            "_view_module_version": "1.2.0",
            "_view_name": "StyleView",
            "description_width": ""
          }
        },
        "0505352887db41cb8f4bc1bebebab3a7": {
          "model_module": "@jupyter-widgets/controls",
          "model_module_version": "1.5.0",
          "model_name": "HBoxModel",
          "state": {
            "_dom_classes": [],
            "_model_module": "@jupyter-widgets/controls",
            "_model_module_version": "1.5.0",
            "_model_name": "HBoxModel",
            "_view_count": null,
            "_view_module": "@jupyter-widgets/controls",
            "_view_module_version": "1.5.0",
            "_view_name": "HBoxView",
            "box_style": "",
            "children": [
              "IPY_MODEL_5d7ebd26894a42af8afb04cf8d5c283e",
              "IPY_MODEL_b5e77c321a0a4eff943cce340b797103",
              "IPY_MODEL_676243fd68da4f37b7c21aab87cbfaef"
            ],
            "layout": "IPY_MODEL_c77cacb010544c1c885345b4541c9e01"
          }
        },
        "0575d68d69b84e75b51d237a9aa04ffd": {
          "model_module": "@jupyter-widgets/controls",
          "model_module_version": "1.5.0",
          "model_name": "ProgressStyleModel",
          "state": {
            "_model_module": "@jupyter-widgets/controls",
            "_model_module_version": "1.5.0",
            "_model_name": "ProgressStyleModel",
            "_view_count": null,
            "_view_module": "@jupyter-widgets/base",
            "_view_module_version": "1.2.0",
            "_view_name": "StyleView",
            "bar_color": null,
            "description_width": ""
          }
        },
        "0690b8c5bff642c3a2ed36a01df20e32": {
          "model_module": "@jupyter-widgets/base",
          "model_module_version": "1.2.0",
          "model_name": "LayoutModel",
          "state": {
            "_model_module": "@jupyter-widgets/base",
            "_model_module_version": "1.2.0",
            "_model_name": "LayoutModel",
            "_view_count": null,
            "_view_module": "@jupyter-widgets/base",
            "_view_module_version": "1.2.0",
            "_view_name": "LayoutView",
            "align_content": null,
            "align_items": null,
            "align_self": null,
            "border": null,
            "bottom": null,
            "display": null,
            "flex": null,
            "flex_flow": null,
            "grid_area": null,
            "grid_auto_columns": null,
            "grid_auto_flow": null,
            "grid_auto_rows": null,
            "grid_column": null,
            "grid_gap": null,
            "grid_row": null,
            "grid_template_areas": null,
            "grid_template_columns": null,
            "grid_template_rows": null,
            "height": null,
            "justify_content": null,
            "justify_items": null,
            "left": null,
            "margin": null,
            "max_height": null,
            "max_width": null,
            "min_height": null,
            "min_width": null,
            "object_fit": null,
            "object_position": null,
            "order": null,
            "overflow": null,
            "overflow_x": null,
            "overflow_y": null,
            "padding": null,
            "right": null,
            "top": null,
            "visibility": null,
            "width": null
          }
        },
        "10975730103b42dc93f2385be4cb26cc": {
          "model_module": "@jupyter-widgets/base",
          "model_module_version": "1.2.0",
          "model_name": "LayoutModel",
          "state": {
            "_model_module": "@jupyter-widgets/base",
            "_model_module_version": "1.2.0",
            "_model_name": "LayoutModel",
            "_view_count": null,
            "_view_module": "@jupyter-widgets/base",
            "_view_module_version": "1.2.0",
            "_view_name": "LayoutView",
            "align_content": null,
            "align_items": null,
            "align_self": null,
            "border": null,
            "bottom": null,
            "display": null,
            "flex": null,
            "flex_flow": null,
            "grid_area": null,
            "grid_auto_columns": null,
            "grid_auto_flow": null,
            "grid_auto_rows": null,
            "grid_column": null,
            "grid_gap": null,
            "grid_row": null,
            "grid_template_areas": null,
            "grid_template_columns": null,
            "grid_template_rows": null,
            "height": null,
            "justify_content": null,
            "justify_items": null,
            "left": null,
            "margin": null,
            "max_height": null,
            "max_width": null,
            "min_height": null,
            "min_width": null,
            "object_fit": null,
            "object_position": null,
            "order": null,
            "overflow": null,
            "overflow_x": null,
            "overflow_y": null,
            "padding": null,
            "right": null,
            "top": null,
            "visibility": null,
            "width": null
          }
        },
        "10f503e6a8f943c0a63da9b815e9d618": {
          "model_module": "@jupyter-widgets/base",
          "model_module_version": "1.2.0",
          "model_name": "LayoutModel",
          "state": {
            "_model_module": "@jupyter-widgets/base",
            "_model_module_version": "1.2.0",
            "_model_name": "LayoutModel",
            "_view_count": null,
            "_view_module": "@jupyter-widgets/base",
            "_view_module_version": "1.2.0",
            "_view_name": "LayoutView",
            "align_content": null,
            "align_items": null,
            "align_self": null,
            "border": null,
            "bottom": null,
            "display": null,
            "flex": null,
            "flex_flow": null,
            "grid_area": null,
            "grid_auto_columns": null,
            "grid_auto_flow": null,
            "grid_auto_rows": null,
            "grid_column": null,
            "grid_gap": null,
            "grid_row": null,
            "grid_template_areas": null,
            "grid_template_columns": null,
            "grid_template_rows": null,
            "height": null,
            "justify_content": null,
            "justify_items": null,
            "left": null,
            "margin": null,
            "max_height": null,
            "max_width": null,
            "min_height": null,
            "min_width": null,
            "object_fit": null,
            "object_position": null,
            "order": null,
            "overflow": null,
            "overflow_x": null,
            "overflow_y": null,
            "padding": null,
            "right": null,
            "top": null,
            "visibility": null,
            "width": null
          }
        },
        "13ff58b9ba244c65840a48d7c3a92c11": {
          "model_module": "@jupyter-widgets/controls",
          "model_module_version": "1.5.0",
          "model_name": "HBoxModel",
          "state": {
            "_dom_classes": [],
            "_model_module": "@jupyter-widgets/controls",
            "_model_module_version": "1.5.0",
            "_model_name": "HBoxModel",
            "_view_count": null,
            "_view_module": "@jupyter-widgets/controls",
            "_view_module_version": "1.5.0",
            "_view_name": "HBoxView",
            "box_style": "",
            "children": [
              "IPY_MODEL_41ccbb4153824002979232c7754e7138",
              "IPY_MODEL_24d7eefd48f54198ae2d376a354d66e3",
              "IPY_MODEL_9440f579acda4061a3564667552d30e7"
            ],
            "layout": "IPY_MODEL_10975730103b42dc93f2385be4cb26cc"
          }
        },
        "17b9037e79d349869ceefab84860e52f": {
          "model_module": "@jupyter-widgets/controls",
          "model_module_version": "1.5.0",
          "model_name": "DescriptionStyleModel",
          "state": {
            "_model_module": "@jupyter-widgets/controls",
            "_model_module_version": "1.5.0",
            "_model_name": "DescriptionStyleModel",
            "_view_count": null,
            "_view_module": "@jupyter-widgets/base",
            "_view_module_version": "1.2.0",
            "_view_name": "StyleView",
            "description_width": ""
          }
        },
        "19688caab60c4beeb294ad8f340fd839": {
          "model_module": "@jupyter-widgets/base",
          "model_module_version": "1.2.0",
          "model_name": "LayoutModel",
          "state": {
            "_model_module": "@jupyter-widgets/base",
            "_model_module_version": "1.2.0",
            "_model_name": "LayoutModel",
            "_view_count": null,
            "_view_module": "@jupyter-widgets/base",
            "_view_module_version": "1.2.0",
            "_view_name": "LayoutView",
            "align_content": null,
            "align_items": null,
            "align_self": null,
            "border": null,
            "bottom": null,
            "display": null,
            "flex": null,
            "flex_flow": null,
            "grid_area": null,
            "grid_auto_columns": null,
            "grid_auto_flow": null,
            "grid_auto_rows": null,
            "grid_column": null,
            "grid_gap": null,
            "grid_row": null,
            "grid_template_areas": null,
            "grid_template_columns": null,
            "grid_template_rows": null,
            "height": null,
            "justify_content": null,
            "justify_items": null,
            "left": null,
            "margin": null,
            "max_height": null,
            "max_width": null,
            "min_height": null,
            "min_width": null,
            "object_fit": null,
            "object_position": null,
            "order": null,
            "overflow": null,
            "overflow_x": null,
            "overflow_y": null,
            "padding": null,
            "right": null,
            "top": null,
            "visibility": null,
            "width": null
          }
        },
        "1c2fe9516e1645bf9a9d9256865af691": {
          "model_module": "@jupyter-widgets/base",
          "model_module_version": "1.2.0",
          "model_name": "LayoutModel",
          "state": {
            "_model_module": "@jupyter-widgets/base",
            "_model_module_version": "1.2.0",
            "_model_name": "LayoutModel",
            "_view_count": null,
            "_view_module": "@jupyter-widgets/base",
            "_view_module_version": "1.2.0",
            "_view_name": "LayoutView",
            "align_content": null,
            "align_items": null,
            "align_self": null,
            "border": null,
            "bottom": null,
            "display": null,
            "flex": null,
            "flex_flow": null,
            "grid_area": null,
            "grid_auto_columns": null,
            "grid_auto_flow": null,
            "grid_auto_rows": null,
            "grid_column": null,
            "grid_gap": null,
            "grid_row": null,
            "grid_template_areas": null,
            "grid_template_columns": null,
            "grid_template_rows": null,
            "height": null,
            "justify_content": null,
            "justify_items": null,
            "left": null,
            "margin": null,
            "max_height": null,
            "max_width": null,
            "min_height": null,
            "min_width": null,
            "object_fit": null,
            "object_position": null,
            "order": null,
            "overflow": null,
            "overflow_x": null,
            "overflow_y": null,
            "padding": null,
            "right": null,
            "top": null,
            "visibility": null,
            "width": null
          }
        },
        "1f5c385ac3df44e48ff6ae15cc115213": {
          "model_module": "@jupyter-widgets/controls",
          "model_module_version": "1.5.0",
          "model_name": "HTMLModel",
          "state": {
            "_dom_classes": [],
            "_model_module": "@jupyter-widgets/controls",
            "_model_module_version": "1.5.0",
            "_model_name": "HTMLModel",
            "_view_count": null,
            "_view_module": "@jupyter-widgets/controls",
            "_view_module_version": "1.5.0",
            "_view_name": "HTMLView",
            "description": "",
            "description_tooltip": null,
            "layout": "IPY_MODEL_487f1b9b0a0e4fd4aeb0b76744a6d76f",
            "placeholder": "​",
            "style": "IPY_MODEL_dcf31c6566dd4c8fa48cbc702010d7e8",
            "value": "tokenizer.json: 100%"
          }
        },
        "24d7eefd48f54198ae2d376a354d66e3": {
          "model_module": "@jupyter-widgets/controls",
          "model_module_version": "1.5.0",
          "model_name": "FloatProgressModel",
          "state": {
            "_dom_classes": [],
            "_model_module": "@jupyter-widgets/controls",
            "_model_module_version": "1.5.0",
            "_model_name": "FloatProgressModel",
            "_view_count": null,
            "_view_module": "@jupyter-widgets/controls",
            "_view_module_version": "1.5.0",
            "_view_name": "ProgressView",
            "bar_style": "success",
            "description": "",
            "description_tooltip": null,
            "layout": "IPY_MODEL_a4a5e7afa16b4b00b52e57a176e5f5c7",
            "max": 140874,
            "min": 0,
            "orientation": "horizontal",
            "style": "IPY_MODEL_8217ffc8197842f38290cbf835f463d9",
            "value": 140874
          }
        },
        "2a0d897b81134b54bc90359349b5508b": {
          "model_module": "@jupyter-widgets/base",
          "model_module_version": "1.2.0",
          "model_name": "LayoutModel",
          "state": {
            "_model_module": "@jupyter-widgets/base",
            "_model_module_version": "1.2.0",
            "_model_name": "LayoutModel",
            "_view_count": null,
            "_view_module": "@jupyter-widgets/base",
            "_view_module_version": "1.2.0",
            "_view_name": "LayoutView",
            "align_content": null,
            "align_items": null,
            "align_self": null,
            "border": null,
            "bottom": null,
            "display": null,
            "flex": null,
            "flex_flow": null,
            "grid_area": null,
            "grid_auto_columns": null,
            "grid_auto_flow": null,
            "grid_auto_rows": null,
            "grid_column": null,
            "grid_gap": null,
            "grid_row": null,
            "grid_template_areas": null,
            "grid_template_columns": null,
            "grid_template_rows": null,
            "height": null,
            "justify_content": null,
            "justify_items": null,
            "left": null,
            "margin": null,
            "max_height": null,
            "max_width": null,
            "min_height": null,
            "min_width": null,
            "object_fit": null,
            "object_position": null,
            "order": null,
            "overflow": null,
            "overflow_x": null,
            "overflow_y": null,
            "padding": null,
            "right": null,
            "top": null,
            "visibility": null,
            "width": null
          }
        },
        "2b8506579d6f4058b0b589911abfbb66": {
          "model_module": "@jupyter-widgets/controls",
          "model_module_version": "1.5.0",
          "model_name": "HTMLModel",
          "state": {
            "_dom_classes": [],
            "_model_module": "@jupyter-widgets/controls",
            "_model_module_version": "1.5.0",
            "_model_name": "HTMLModel",
            "_view_count": null,
            "_view_module": "@jupyter-widgets/controls",
            "_view_module_version": "1.5.0",
            "_view_name": "HTMLView",
            "description": "",
            "description_tooltip": null,
            "layout": "IPY_MODEL_59fa82f4900d4fd888dca754e0cc3960",
            "placeholder": "​",
            "style": "IPY_MODEL_e6dfe343961041dc8333e367cddaa8e4",
            "value": " 23.9k/23.9k [00:00&lt;00:00, 1.30MB/s]"
          }
        },
        "2d35ce767e264818ad57c49452d11267": {
          "model_module": "@jupyter-widgets/controls",
          "model_module_version": "1.5.0",
          "model_name": "HTMLModel",
          "state": {
            "_dom_classes": [],
            "_model_module": "@jupyter-widgets/controls",
            "_model_module_version": "1.5.0",
            "_model_name": "HTMLModel",
            "_view_count": null,
            "_view_module": "@jupyter-widgets/controls",
            "_view_module_version": "1.5.0",
            "_view_name": "HTMLView",
            "description": "",
            "description_tooltip": null,
            "layout": "IPY_MODEL_7045e2de38944e2a85056239c43281d8",
            "placeholder": "​",
            "style": "IPY_MODEL_d4f3876669574a16acd8014cdff0093f",
            "value": "Fetching 3 files: 100%"
          }
        },
        "2f1a4b81bc054441be387850dec75689": {
          "model_module": "@jupyter-widgets/controls",
          "model_module_version": "1.5.0",
          "model_name": "HTMLModel",
          "state": {
            "_dom_classes": [],
            "_model_module": "@jupyter-widgets/controls",
            "_model_module_version": "1.5.0",
            "_model_name": "HTMLModel",
            "_view_count": null,
            "_view_module": "@jupyter-widgets/controls",
            "_view_module_version": "1.5.0",
            "_view_name": "HTMLView",
            "description": "",
            "description_tooltip": null,
            "layout": "IPY_MODEL_504456c72a80475cb22116a60642e87b",
            "placeholder": "​",
            "style": "IPY_MODEL_cefd7bf8fa604743adcfde7adbebb108",
            "value": " 587k/587k [00:00&lt;00:00, 9.53MB/s]"
          }
        },
        "306b8b0ee751451cbf25999ecc1d0b63": {
          "model_module": "@jupyter-widgets/base",
          "model_module_version": "1.2.0",
          "model_name": "LayoutModel",
          "state": {
            "_model_module": "@jupyter-widgets/base",
            "_model_module_version": "1.2.0",
            "_model_name": "LayoutModel",
            "_view_count": null,
            "_view_module": "@jupyter-widgets/base",
            "_view_module_version": "1.2.0",
            "_view_name": "LayoutView",
            "align_content": null,
            "align_items": null,
            "align_self": null,
            "border": null,
            "bottom": null,
            "display": null,
            "flex": null,
            "flex_flow": null,
            "grid_area": null,
            "grid_auto_columns": null,
            "grid_auto_flow": null,
            "grid_auto_rows": null,
            "grid_column": null,
            "grid_gap": null,
            "grid_row": null,
            "grid_template_areas": null,
            "grid_template_columns": null,
            "grid_template_rows": null,
            "height": null,
            "justify_content": null,
            "justify_items": null,
            "left": null,
            "margin": null,
            "max_height": null,
            "max_width": null,
            "min_height": null,
            "min_width": null,
            "object_fit": null,
            "object_position": null,
            "order": null,
            "overflow": null,
            "overflow_x": null,
            "overflow_y": null,
            "padding": null,
            "right": null,
            "top": null,
            "visibility": null,
            "width": null
          }
        },
        "32bb14c3a4454033be517f92720c1e9f": {
          "model_module": "@jupyter-widgets/controls",
          "model_module_version": "1.5.0",
          "model_name": "HBoxModel",
          "state": {
            "_dom_classes": [],
            "_model_module": "@jupyter-widgets/controls",
            "_model_module_version": "1.5.0",
            "_model_name": "HBoxModel",
            "_view_count": null,
            "_view_module": "@jupyter-widgets/controls",
            "_view_module_version": "1.5.0",
            "_view_name": "HBoxView",
            "box_style": "",
            "children": [
              "IPY_MODEL_bcfa3335a9c1462db14366bc9e8748e6",
              "IPY_MODEL_bc63c62d6bbd43c1a6d844d1094d0922",
              "IPY_MODEL_c69a9c5d1f544c88831dc37ab7412573"
            ],
            "layout": "IPY_MODEL_6c002ff64d604587963d92cc6bf2409a"
          }
        },
        "3444a0d2410c4aecb24294eabdd7c186": {
          "model_module": "@jupyter-widgets/controls",
          "model_module_version": "1.5.0",
          "model_name": "HBoxModel",
          "state": {
            "_dom_classes": [],
            "_model_module": "@jupyter-widgets/controls",
            "_model_module_version": "1.5.0",
            "_model_name": "HBoxModel",
            "_view_count": null,
            "_view_module": "@jupyter-widgets/controls",
            "_view_module_version": "1.5.0",
            "_view_name": "HBoxView",
            "box_style": "",
            "children": [
              "IPY_MODEL_6bac55a4c72c4c879c24f3d1881e8f75",
              "IPY_MODEL_c099e6bcec2e4859b157bc6bae0dedb6",
              "IPY_MODEL_cf3842c4357744c2aa29cfe505e63e94"
            ],
            "layout": "IPY_MODEL_4129081c4b6e453d8af9a032215a44c1"
          }
        },
        "389f4238468e4cc4b10a947317e490b0": {
          "model_module": "@jupyter-widgets/controls",
          "model_module_version": "1.5.0",
          "model_name": "HTMLModel",
          "state": {
            "_dom_classes": [],
            "_model_module": "@jupyter-widgets/controls",
            "_model_module_version": "1.5.0",
            "_model_name": "HTMLModel",
            "_view_count": null,
            "_view_module": "@jupyter-widgets/controls",
            "_view_module_version": "1.5.0",
            "_view_name": "HTMLView",
            "description": "",
            "description_tooltip": null,
            "layout": "IPY_MODEL_10f503e6a8f943c0a63da9b815e9d618",
            "placeholder": "​",
            "style": "IPY_MODEL_b77e3c7d22844623a2b2ab0c67d11b81",
            "value": "special_tokens_map.json: 100%"
          }
        },
        "39e9c9d92afa4927bc3263a43df18abd": {
          "model_module": "@jupyter-widgets/base",
          "model_module_version": "1.2.0",
          "model_name": "LayoutModel",
          "state": {
            "_model_module": "@jupyter-widgets/base",
            "_model_module_version": "1.2.0",
            "_model_name": "LayoutModel",
            "_view_count": null,
            "_view_module": "@jupyter-widgets/base",
            "_view_module_version": "1.2.0",
            "_view_name": "LayoutView",
            "align_content": null,
            "align_items": null,
            "align_self": null,
            "border": null,
            "bottom": null,
            "display": null,
            "flex": null,
            "flex_flow": null,
            "grid_area": null,
            "grid_auto_columns": null,
            "grid_auto_flow": null,
            "grid_auto_rows": null,
            "grid_column": null,
            "grid_gap": null,
            "grid_row": null,
            "grid_template_areas": null,
            "grid_template_columns": null,
            "grid_template_rows": null,
            "height": null,
            "justify_content": null,
            "justify_items": null,
            "left": null,
            "margin": null,
            "max_height": null,
            "max_width": null,
            "min_height": null,
            "min_width": null,
            "object_fit": null,
            "object_position": null,
            "order": null,
            "overflow": null,
            "overflow_x": null,
            "overflow_y": null,
            "padding": null,
            "right": null,
            "top": null,
            "visibility": null,
            "width": null
          }
        },
        "3ca4e53ea0f14299946c56d02f035df1": {
          "model_module": "@jupyter-widgets/controls",
          "model_module_version": "1.5.0",
          "model_name": "HBoxModel",
          "state": {
            "_dom_classes": [],
            "_model_module": "@jupyter-widgets/controls",
            "_model_module_version": "1.5.0",
            "_model_name": "HBoxModel",
            "_view_count": null,
            "_view_module": "@jupyter-widgets/controls",
            "_view_module_version": "1.5.0",
            "_view_name": "HBoxView",
            "box_style": "",
            "children": [
              "IPY_MODEL_9deeffbf430141cfa746331972315fa8",
              "IPY_MODEL_50fe93515fed4a0e88967002577abdc5",
              "IPY_MODEL_2b8506579d6f4058b0b589911abfbb66"
            ],
            "layout": "IPY_MODEL_54684d36a6e84bfbb5a734f403368330"
          }
        },
        "3cd4d36f078d4376b976bdd6dddfd9d2": {
          "model_module": "@jupyter-widgets/base",
          "model_module_version": "1.2.0",
          "model_name": "LayoutModel",
          "state": {
            "_model_module": "@jupyter-widgets/base",
            "_model_module_version": "1.2.0",
            "_model_name": "LayoutModel",
            "_view_count": null,
            "_view_module": "@jupyter-widgets/base",
            "_view_module_version": "1.2.0",
            "_view_name": "LayoutView",
            "align_content": null,
            "align_items": null,
            "align_self": null,
            "border": null,
            "bottom": null,
            "display": null,
            "flex": null,
            "flex_flow": null,
            "grid_area": null,
            "grid_auto_columns": null,
            "grid_auto_flow": null,
            "grid_auto_rows": null,
            "grid_column": null,
            "grid_gap": null,
            "grid_row": null,
            "grid_template_areas": null,
            "grid_template_columns": null,
            "grid_template_rows": null,
            "height": null,
            "justify_content": null,
            "justify_items": null,
            "left": null,
            "margin": null,
            "max_height": null,
            "max_width": null,
            "min_height": null,
            "min_width": null,
            "object_fit": null,
            "object_position": null,
            "order": null,
            "overflow": null,
            "overflow_x": null,
            "overflow_y": null,
            "padding": null,
            "right": null,
            "top": null,
            "visibility": null,
            "width": null
          }
        },
        "3dc8bb54f5eb403abd8e100256b243a6": {
          "model_module": "@jupyter-widgets/controls",
          "model_module_version": "1.5.0",
          "model_name": "HTMLModel",
          "state": {
            "_dom_classes": [],
            "_model_module": "@jupyter-widgets/controls",
            "_model_module_version": "1.5.0",
            "_model_name": "HTMLModel",
            "_view_count": null,
            "_view_module": "@jupyter-widgets/controls",
            "_view_module_version": "1.5.0",
            "_view_name": "HTMLView",
            "description": "",
            "description_tooltip": null,
            "layout": "IPY_MODEL_672fb15fd84b494dacd4fd169a511fa6",
            "placeholder": "​",
            "style": "IPY_MODEL_4afc4c8258da468c9679ffebd4b7786c",
            "value": " 601/601 [00:00&lt;00:00, 35.2kB/s]"
          }
        },
        "4129081c4b6e453d8af9a032215a44c1": {
          "model_module": "@jupyter-widgets/base",
          "model_module_version": "1.2.0",
          "model_name": "LayoutModel",
          "state": {
            "_model_module": "@jupyter-widgets/base",
            "_model_module_version": "1.2.0",
            "_model_name": "LayoutModel",
            "_view_count": null,
            "_view_module": "@jupyter-widgets/base",
            "_view_module_version": "1.2.0",
            "_view_name": "LayoutView",
            "align_content": null,
            "align_items": null,
            "align_self": null,
            "border": null,
            "bottom": null,
            "display": null,
            "flex": null,
            "flex_flow": null,
            "grid_area": null,
            "grid_auto_columns": null,
            "grid_auto_flow": null,
            "grid_auto_rows": null,
            "grid_column": null,
            "grid_gap": null,
            "grid_row": null,
            "grid_template_areas": null,
            "grid_template_columns": null,
            "grid_template_rows": null,
            "height": null,
            "justify_content": null,
            "justify_items": null,
            "left": null,
            "margin": null,
            "max_height": null,
            "max_width": null,
            "min_height": null,
            "min_width": null,
            "object_fit": null,
            "object_position": null,
            "order": null,
            "overflow": null,
            "overflow_x": null,
            "overflow_y": null,
            "padding": null,
            "right": null,
            "top": null,
            "visibility": null,
            "width": null
          }
        },
        "41ccbb4153824002979232c7754e7138": {
          "model_module": "@jupyter-widgets/controls",
          "model_module_version": "1.5.0",
          "model_name": "HTMLModel",
          "state": {
            "_dom_classes": [],
            "_model_module": "@jupyter-widgets/controls",
            "_model_module_version": "1.5.0",
            "_model_name": "HTMLModel",
            "_view_count": null,
            "_view_module": "@jupyter-widgets/controls",
            "_view_module_version": "1.5.0",
            "_view_name": "HTMLView",
            "description": "",
            "description_tooltip": null,
            "layout": "IPY_MODEL_306b8b0ee751451cbf25999ecc1d0b63",
            "placeholder": "​",
            "style": "IPY_MODEL_f49f03842234439a97148fff07dd20b6",
            "value": "tokenizer_config.json: 100%"
          }
        },
        "430ede9dda474c23ba82b5bd499cfb3e": {
          "model_module": "@jupyter-widgets/base",
          "model_module_version": "1.2.0",
          "model_name": "LayoutModel",
          "state": {
            "_model_module": "@jupyter-widgets/base",
            "_model_module_version": "1.2.0",
            "_model_name": "LayoutModel",
            "_view_count": null,
            "_view_module": "@jupyter-widgets/base",
            "_view_module_version": "1.2.0",
            "_view_name": "LayoutView",
            "align_content": null,
            "align_items": null,
            "align_self": null,
            "border": null,
            "bottom": null,
            "display": null,
            "flex": null,
            "flex_flow": null,
            "grid_area": null,
            "grid_auto_columns": null,
            "grid_auto_flow": null,
            "grid_auto_rows": null,
            "grid_column": null,
            "grid_gap": null,
            "grid_row": null,
            "grid_template_areas": null,
            "grid_template_columns": null,
            "grid_template_rows": null,
            "height": null,
            "justify_content": null,
            "justify_items": null,
            "left": null,
            "margin": null,
            "max_height": null,
            "max_width": null,
            "min_height": null,
            "min_width": null,
            "object_fit": null,
            "object_position": null,
            "order": null,
            "overflow": null,
            "overflow_x": null,
            "overflow_y": null,
            "padding": null,
            "right": null,
            "top": null,
            "visibility": null,
            "width": null
          }
        },
        "43ca11053cc04e0994a0dc580128ad43": {
          "model_module": "@jupyter-widgets/base",
          "model_module_version": "1.2.0",
          "model_name": "LayoutModel",
          "state": {
            "_model_module": "@jupyter-widgets/base",
            "_model_module_version": "1.2.0",
            "_model_name": "LayoutModel",
            "_view_count": null,
            "_view_module": "@jupyter-widgets/base",
            "_view_module_version": "1.2.0",
            "_view_name": "LayoutView",
            "align_content": null,
            "align_items": null,
            "align_self": null,
            "border": null,
            "bottom": null,
            "display": null,
            "flex": null,
            "flex_flow": null,
            "grid_area": null,
            "grid_auto_columns": null,
            "grid_auto_flow": null,
            "grid_auto_rows": null,
            "grid_column": null,
            "grid_gap": null,
            "grid_row": null,
            "grid_template_areas": null,
            "grid_template_columns": null,
            "grid_template_rows": null,
            "height": null,
            "justify_content": null,
            "justify_items": null,
            "left": null,
            "margin": null,
            "max_height": null,
            "max_width": null,
            "min_height": null,
            "min_width": null,
            "object_fit": null,
            "object_position": null,
            "order": null,
            "overflow": null,
            "overflow_x": null,
            "overflow_y": null,
            "padding": null,
            "right": null,
            "top": null,
            "visibility": null,
            "width": null
          }
        },
        "487f1b9b0a0e4fd4aeb0b76744a6d76f": {
          "model_module": "@jupyter-widgets/base",
          "model_module_version": "1.2.0",
          "model_name": "LayoutModel",
          "state": {
            "_model_module": "@jupyter-widgets/base",
            "_model_module_version": "1.2.0",
            "_model_name": "LayoutModel",
            "_view_count": null,
            "_view_module": "@jupyter-widgets/base",
            "_view_module_version": "1.2.0",
            "_view_name": "LayoutView",
            "align_content": null,
            "align_items": null,
            "align_self": null,
            "border": null,
            "bottom": null,
            "display": null,
            "flex": null,
            "flex_flow": null,
            "grid_area": null,
            "grid_auto_columns": null,
            "grid_auto_flow": null,
            "grid_auto_rows": null,
            "grid_column": null,
            "grid_gap": null,
            "grid_row": null,
            "grid_template_areas": null,
            "grid_template_columns": null,
            "grid_template_rows": null,
            "height": null,
            "justify_content": null,
            "justify_items": null,
            "left": null,
            "margin": null,
            "max_height": null,
            "max_width": null,
            "min_height": null,
            "min_width": null,
            "object_fit": null,
            "object_position": null,
            "order": null,
            "overflow": null,
            "overflow_x": null,
            "overflow_y": null,
            "padding": null,
            "right": null,
            "top": null,
            "visibility": null,
            "width": null
          }
        },
        "49a69863b0d346f7a0925f3c5f39818c": {
          "model_module": "@jupyter-widgets/base",
          "model_module_version": "1.2.0",
          "model_name": "LayoutModel",
          "state": {
            "_model_module": "@jupyter-widgets/base",
            "_model_module_version": "1.2.0",
            "_model_name": "LayoutModel",
            "_view_count": null,
            "_view_module": "@jupyter-widgets/base",
            "_view_module_version": "1.2.0",
            "_view_name": "LayoutView",
            "align_content": null,
            "align_items": null,
            "align_self": null,
            "border": null,
            "bottom": null,
            "display": null,
            "flex": null,
            "flex_flow": null,
            "grid_area": null,
            "grid_auto_columns": null,
            "grid_auto_flow": null,
            "grid_auto_rows": null,
            "grid_column": null,
            "grid_gap": null,
            "grid_row": null,
            "grid_template_areas": null,
            "grid_template_columns": null,
            "grid_template_rows": null,
            "height": null,
            "justify_content": null,
            "justify_items": null,
            "left": null,
            "margin": null,
            "max_height": null,
            "max_width": null,
            "min_height": null,
            "min_width": null,
            "object_fit": null,
            "object_position": null,
            "order": null,
            "overflow": null,
            "overflow_x": null,
            "overflow_y": null,
            "padding": null,
            "right": null,
            "top": null,
            "visibility": null,
            "width": null
          }
        },
        "4a4eee77a51e4221a6e8332d12db49ed": {
          "model_module": "@jupyter-widgets/controls",
          "model_module_version": "1.5.0",
          "model_name": "ProgressStyleModel",
          "state": {
            "_model_module": "@jupyter-widgets/controls",
            "_model_module_version": "1.5.0",
            "_model_name": "ProgressStyleModel",
            "_view_count": null,
            "_view_module": "@jupyter-widgets/base",
            "_view_module_version": "1.2.0",
            "_view_name": "StyleView",
            "bar_color": null,
            "description_width": ""
          }
        },
        "4afc4c8258da468c9679ffebd4b7786c": {
          "model_module": "@jupyter-widgets/controls",
          "model_module_version": "1.5.0",
          "model_name": "DescriptionStyleModel",
          "state": {
            "_model_module": "@jupyter-widgets/controls",
            "_model_module_version": "1.5.0",
            "_model_name": "DescriptionStyleModel",
            "_view_count": null,
            "_view_module": "@jupyter-widgets/base",
            "_view_module_version": "1.2.0",
            "_view_name": "StyleView",
            "description_width": ""
          }
        },
        "4c458a00d82e4ab69641396f0557e5a2": {
          "model_module": "@jupyter-widgets/controls",
          "model_module_version": "1.5.0",
          "model_name": "HBoxModel",
          "state": {
            "_dom_classes": [],
            "_model_module": "@jupyter-widgets/controls",
            "_model_module_version": "1.5.0",
            "_model_name": "HBoxModel",
            "_view_count": null,
            "_view_module": "@jupyter-widgets/controls",
            "_view_module_version": "1.5.0",
            "_view_name": "HBoxView",
            "box_style": "",
            "children": [
              "IPY_MODEL_b37e13a2099145e1a325e69e4847db11",
              "IPY_MODEL_fca2ec9a72f64eed9e94ca67e910091d",
              "IPY_MODEL_3dc8bb54f5eb403abd8e100256b243a6"
            ],
            "layout": "IPY_MODEL_39e9c9d92afa4927bc3263a43df18abd"
          }
        },
        "4e466d74101343b1b2650175263d433b": {
          "model_module": "@jupyter-widgets/controls",
          "model_module_version": "1.5.0",
          "model_name": "DescriptionStyleModel",
          "state": {
            "_model_module": "@jupyter-widgets/controls",
            "_model_module_version": "1.5.0",
            "_model_name": "DescriptionStyleModel",
            "_view_count": null,
            "_view_module": "@jupyter-widgets/base",
            "_view_module_version": "1.2.0",
            "_view_name": "StyleView",
            "description_width": ""
          }
        },
        "4e886975e1b74509800a1a973298c2c3": {
          "model_module": "@jupyter-widgets/base",
          "model_module_version": "1.2.0",
          "model_name": "LayoutModel",
          "state": {
            "_model_module": "@jupyter-widgets/base",
            "_model_module_version": "1.2.0",
            "_model_name": "LayoutModel",
            "_view_count": null,
            "_view_module": "@jupyter-widgets/base",
            "_view_module_version": "1.2.0",
            "_view_name": "LayoutView",
            "align_content": null,
            "align_items": null,
            "align_self": null,
            "border": null,
            "bottom": null,
            "display": null,
            "flex": null,
            "flex_flow": null,
            "grid_area": null,
            "grid_auto_columns": null,
            "grid_auto_flow": null,
            "grid_auto_rows": null,
            "grid_column": null,
            "grid_gap": null,
            "grid_row": null,
            "grid_template_areas": null,
            "grid_template_columns": null,
            "grid_template_rows": null,
            "height": null,
            "justify_content": null,
            "justify_items": null,
            "left": null,
            "margin": null,
            "max_height": null,
            "max_width": null,
            "min_height": null,
            "min_width": null,
            "object_fit": null,
            "object_position": null,
            "order": null,
            "overflow": null,
            "overflow_x": null,
            "overflow_y": null,
            "padding": null,
            "right": null,
            "top": null,
            "visibility": null,
            "width": null
          }
        },
        "504456c72a80475cb22116a60642e87b": {
          "model_module": "@jupyter-widgets/base",
          "model_module_version": "1.2.0",
          "model_name": "LayoutModel",
          "state": {
            "_model_module": "@jupyter-widgets/base",
            "_model_module_version": "1.2.0",
            "_model_name": "LayoutModel",
            "_view_count": null,
            "_view_module": "@jupyter-widgets/base",
            "_view_module_version": "1.2.0",
            "_view_name": "LayoutView",
            "align_content": null,
            "align_items": null,
            "align_self": null,
            "border": null,
            "bottom": null,
            "display": null,
            "flex": null,
            "flex_flow": null,
            "grid_area": null,
            "grid_auto_columns": null,
            "grid_auto_flow": null,
            "grid_auto_rows": null,
            "grid_column": null,
            "grid_gap": null,
            "grid_row": null,
            "grid_template_areas": null,
            "grid_template_columns": null,
            "grid_template_rows": null,
            "height": null,
            "justify_content": null,
            "justify_items": null,
            "left": null,
            "margin": null,
            "max_height": null,
            "max_width": null,
            "min_height": null,
            "min_width": null,
            "object_fit": null,
            "object_position": null,
            "order": null,
            "overflow": null,
            "overflow_x": null,
            "overflow_y": null,
            "padding": null,
            "right": null,
            "top": null,
            "visibility": null,
            "width": null
          }
        },
        "50fe93515fed4a0e88967002577abdc5": {
          "model_module": "@jupyter-widgets/controls",
          "model_module_version": "1.5.0",
          "model_name": "FloatProgressModel",
          "state": {
            "_dom_classes": [],
            "_model_module": "@jupyter-widgets/controls",
            "_model_module_version": "1.5.0",
            "_model_name": "FloatProgressModel",
            "_view_count": null,
            "_view_module": "@jupyter-widgets/controls",
            "_view_module_version": "1.5.0",
            "_view_name": "ProgressView",
            "bar_style": "success",
            "description": "",
            "description_tooltip": null,
            "layout": "IPY_MODEL_820b09cfb86d4e65821abd52297e78e7",
            "max": 23950,
            "min": 0,
            "orientation": "horizontal",
            "style": "IPY_MODEL_0575d68d69b84e75b51d237a9aa04ffd",
            "value": 23950
          }
        },
        "52691efd505444eb81b31d55c6cc7f06": {
          "model_module": "@jupyter-widgets/controls",
          "model_module_version": "1.5.0",
          "model_name": "DescriptionStyleModel",
          "state": {
            "_model_module": "@jupyter-widgets/controls",
            "_model_module_version": "1.5.0",
            "_model_name": "DescriptionStyleModel",
            "_view_count": null,
            "_view_module": "@jupyter-widgets/base",
            "_view_module_version": "1.2.0",
            "_view_name": "StyleView",
            "description_width": ""
          }
        },
        "54684d36a6e84bfbb5a734f403368330": {
          "model_module": "@jupyter-widgets/base",
          "model_module_version": "1.2.0",
          "model_name": "LayoutModel",
          "state": {
            "_model_module": "@jupyter-widgets/base",
            "_model_module_version": "1.2.0",
            "_model_name": "LayoutModel",
            "_view_count": null,
            "_view_module": "@jupyter-widgets/base",
            "_view_module_version": "1.2.0",
            "_view_name": "LayoutView",
            "align_content": null,
            "align_items": null,
            "align_self": null,
            "border": null,
            "bottom": null,
            "display": null,
            "flex": null,
            "flex_flow": null,
            "grid_area": null,
            "grid_auto_columns": null,
            "grid_auto_flow": null,
            "grid_auto_rows": null,
            "grid_column": null,
            "grid_gap": null,
            "grid_row": null,
            "grid_template_areas": null,
            "grid_template_columns": null,
            "grid_template_rows": null,
            "height": null,
            "justify_content": null,
            "justify_items": null,
            "left": null,
            "margin": null,
            "max_height": null,
            "max_width": null,
            "min_height": null,
            "min_width": null,
            "object_fit": null,
            "object_position": null,
            "order": null,
            "overflow": null,
            "overflow_x": null,
            "overflow_y": null,
            "padding": null,
            "right": null,
            "top": null,
            "visibility": null,
            "width": null
          }
        },
        "59e4a593335046d9ad076da3a98ea6a2": {
          "model_module": "@jupyter-widgets/controls",
          "model_module_version": "1.5.0",
          "model_name": "DescriptionStyleModel",
          "state": {
            "_model_module": "@jupyter-widgets/controls",
            "_model_module_version": "1.5.0",
            "_model_name": "DescriptionStyleModel",
            "_view_count": null,
            "_view_module": "@jupyter-widgets/base",
            "_view_module_version": "1.2.0",
            "_view_name": "StyleView",
            "description_width": ""
          }
        },
        "59fa82f4900d4fd888dca754e0cc3960": {
          "model_module": "@jupyter-widgets/base",
          "model_module_version": "1.2.0",
          "model_name": "LayoutModel",
          "state": {
            "_model_module": "@jupyter-widgets/base",
            "_model_module_version": "1.2.0",
            "_model_name": "LayoutModel",
            "_view_count": null,
            "_view_module": "@jupyter-widgets/base",
            "_view_module_version": "1.2.0",
            "_view_name": "LayoutView",
            "align_content": null,
            "align_items": null,
            "align_self": null,
            "border": null,
            "bottom": null,
            "display": null,
            "flex": null,
            "flex_flow": null,
            "grid_area": null,
            "grid_auto_columns": null,
            "grid_auto_flow": null,
            "grid_auto_rows": null,
            "grid_column": null,
            "grid_gap": null,
            "grid_row": null,
            "grid_template_areas": null,
            "grid_template_columns": null,
            "grid_template_rows": null,
            "height": null,
            "justify_content": null,
            "justify_items": null,
            "left": null,
            "margin": null,
            "max_height": null,
            "max_width": null,
            "min_height": null,
            "min_width": null,
            "object_fit": null,
            "object_position": null,
            "order": null,
            "overflow": null,
            "overflow_x": null,
            "overflow_y": null,
            "padding": null,
            "right": null,
            "top": null,
            "visibility": null,
            "width": null
          }
        },
        "5a08a04ae23940678a21d0f2f37697a0": {
          "model_module": "@jupyter-widgets/base",
          "model_module_version": "1.2.0",
          "model_name": "LayoutModel",
          "state": {
            "_model_module": "@jupyter-widgets/base",
            "_model_module_version": "1.2.0",
            "_model_name": "LayoutModel",
            "_view_count": null,
            "_view_module": "@jupyter-widgets/base",
            "_view_module_version": "1.2.0",
            "_view_name": "LayoutView",
            "align_content": null,
            "align_items": null,
            "align_self": null,
            "border": null,
            "bottom": null,
            "display": null,
            "flex": null,
            "flex_flow": null,
            "grid_area": null,
            "grid_auto_columns": null,
            "grid_auto_flow": null,
            "grid_auto_rows": null,
            "grid_column": null,
            "grid_gap": null,
            "grid_row": null,
            "grid_template_areas": null,
            "grid_template_columns": null,
            "grid_template_rows": null,
            "height": null,
            "justify_content": null,
            "justify_items": null,
            "left": null,
            "margin": null,
            "max_height": null,
            "max_width": null,
            "min_height": null,
            "min_width": null,
            "object_fit": null,
            "object_position": null,
            "order": null,
            "overflow": null,
            "overflow_x": null,
            "overflow_y": null,
            "padding": null,
            "right": null,
            "top": null,
            "visibility": null,
            "width": null
          }
        },
        "5cd93b7e0f7247889db05da0e50b6782": {
          "model_module": "@jupyter-widgets/controls",
          "model_module_version": "1.5.0",
          "model_name": "ProgressStyleModel",
          "state": {
            "_model_module": "@jupyter-widgets/controls",
            "_model_module_version": "1.5.0",
            "_model_name": "ProgressStyleModel",
            "_view_count": null,
            "_view_module": "@jupyter-widgets/base",
            "_view_module_version": "1.2.0",
            "_view_name": "StyleView",
            "bar_color": null,
            "description_width": ""
          }
        },
        "5d3dce6832c14288a78b4bf52d539095": {
          "model_module": "@jupyter-widgets/controls",
          "model_module_version": "1.5.0",
          "model_name": "ProgressStyleModel",
          "state": {
            "_model_module": "@jupyter-widgets/controls",
            "_model_module_version": "1.5.0",
            "_model_name": "ProgressStyleModel",
            "_view_count": null,
            "_view_module": "@jupyter-widgets/base",
            "_view_module_version": "1.2.0",
            "_view_name": "StyleView",
            "bar_color": null,
            "description_width": ""
          }
        },
        "5d7ebd26894a42af8afb04cf8d5c283e": {
          "model_module": "@jupyter-widgets/controls",
          "model_module_version": "1.5.0",
          "model_name": "HTMLModel",
          "state": {
            "_dom_classes": [],
            "_model_module": "@jupyter-widgets/controls",
            "_model_module_version": "1.5.0",
            "_model_name": "HTMLModel",
            "_view_count": null,
            "_view_module": "@jupyter-widgets/controls",
            "_view_module_version": "1.5.0",
            "_view_name": "HTMLView",
            "description": "",
            "description_tooltip": null,
            "layout": "IPY_MODEL_7127d120086341d6bc2cef66812c1790",
            "placeholder": "​",
            "style": "IPY_MODEL_4e466d74101343b1b2650175263d433b",
            "value": "model-00003-of-00003.safetensors: 100%"
          }
        },
        "642613f97c8d492092ab986ddf80bf4a": {
          "model_module": "@jupyter-widgets/controls",
          "model_module_version": "1.5.0",
          "model_name": "ProgressStyleModel",
          "state": {
            "_model_module": "@jupyter-widgets/controls",
            "_model_module_version": "1.5.0",
            "_model_name": "ProgressStyleModel",
            "_view_count": null,
            "_view_module": "@jupyter-widgets/base",
            "_view_module_version": "1.2.0",
            "_view_name": "StyleView",
            "bar_color": null,
            "description_width": ""
          }
        },
        "672fb15fd84b494dacd4fd169a511fa6": {
          "model_module": "@jupyter-widgets/base",
          "model_module_version": "1.2.0",
          "model_name": "LayoutModel",
          "state": {
            "_model_module": "@jupyter-widgets/base",
            "_model_module_version": "1.2.0",
            "_model_name": "LayoutModel",
            "_view_count": null,
            "_view_module": "@jupyter-widgets/base",
            "_view_module_version": "1.2.0",
            "_view_name": "LayoutView",
            "align_content": null,
            "align_items": null,
            "align_self": null,
            "border": null,
            "bottom": null,
            "display": null,
            "flex": null,
            "flex_flow": null,
            "grid_area": null,
            "grid_auto_columns": null,
            "grid_auto_flow": null,
            "grid_auto_rows": null,
            "grid_column": null,
            "grid_gap": null,
            "grid_row": null,
            "grid_template_areas": null,
            "grid_template_columns": null,
            "grid_template_rows": null,
            "height": null,
            "justify_content": null,
            "justify_items": null,
            "left": null,
            "margin": null,
            "max_height": null,
            "max_width": null,
            "min_height": null,
            "min_width": null,
            "object_fit": null,
            "object_position": null,
            "order": null,
            "overflow": null,
            "overflow_x": null,
            "overflow_y": null,
            "padding": null,
            "right": null,
            "top": null,
            "visibility": null,
            "width": null
          }
        },
        "676243fd68da4f37b7c21aab87cbfaef": {
          "model_module": "@jupyter-widgets/controls",
          "model_module_version": "1.5.0",
          "model_name": "HTMLModel",
          "state": {
            "_dom_classes": [],
            "_model_module": "@jupyter-widgets/controls",
            "_model_module_version": "1.5.0",
            "_model_name": "HTMLModel",
            "_view_count": null,
            "_view_module": "@jupyter-widgets/controls",
            "_view_module_version": "1.5.0",
            "_view_name": "HTMLView",
            "description": "",
            "description_tooltip": null,
            "layout": "IPY_MODEL_a5b48a9199b3405a8d1f39dc28dfe4f3",
            "placeholder": "​",
            "style": "IPY_MODEL_d63f513f1e9d44e4a26dea771001589e",
            "value": " 4.55G/4.55G [01:32&lt;00:00, 82.8MB/s]"
          }
        },
        "6bac55a4c72c4c879c24f3d1881e8f75": {
          "model_module": "@jupyter-widgets/controls",
          "model_module_version": "1.5.0",
          "model_name": "HTMLModel",
          "state": {
            "_dom_classes": [],
            "_model_module": "@jupyter-widgets/controls",
            "_model_module_version": "1.5.0",
            "_model_name": "HTMLModel",
            "_view_count": null,
            "_view_module": "@jupyter-widgets/controls",
            "_view_module_version": "1.5.0",
            "_view_name": "HTMLView",
            "description": "",
            "description_tooltip": null,
            "layout": "IPY_MODEL_b90084fa0122466fafa76d0d9a52928a",
            "placeholder": "​",
            "style": "IPY_MODEL_f4cda8f325a040209f2141b4e70b64f3",
            "value": "generation_config.json: 100%"
          }
        },
        "6c002ff64d604587963d92cc6bf2409a": {
          "model_module": "@jupyter-widgets/base",
          "model_module_version": "1.2.0",
          "model_name": "LayoutModel",
          "state": {
            "_model_module": "@jupyter-widgets/base",
            "_model_module_version": "1.2.0",
            "_model_name": "LayoutModel",
            "_view_count": null,
            "_view_module": "@jupyter-widgets/base",
            "_view_module_version": "1.2.0",
            "_view_name": "LayoutView",
            "align_content": null,
            "align_items": null,
            "align_self": null,
            "border": null,
            "bottom": null,
            "display": null,
            "flex": null,
            "flex_flow": null,
            "grid_area": null,
            "grid_auto_columns": null,
            "grid_auto_flow": null,
            "grid_auto_rows": null,
            "grid_column": null,
            "grid_gap": null,
            "grid_row": null,
            "grid_template_areas": null,
            "grid_template_columns": null,
            "grid_template_rows": null,
            "height": null,
            "justify_content": null,
            "justify_items": null,
            "left": null,
            "margin": null,
            "max_height": null,
            "max_width": null,
            "min_height": null,
            "min_width": null,
            "object_fit": null,
            "object_position": null,
            "order": null,
            "overflow": null,
            "overflow_x": null,
            "overflow_y": null,
            "padding": null,
            "right": null,
            "top": null,
            "visibility": null,
            "width": null
          }
        },
        "6d3002592a674aa898d384fed1d75ca8": {
          "model_module": "@jupyter-widgets/controls",
          "model_module_version": "1.5.0",
          "model_name": "HBoxModel",
          "state": {
            "_dom_classes": [],
            "_model_module": "@jupyter-widgets/controls",
            "_model_module_version": "1.5.0",
            "_model_name": "HBoxModel",
            "_view_count": null,
            "_view_module": "@jupyter-widgets/controls",
            "_view_module_version": "1.5.0",
            "_view_name": "HBoxView",
            "box_style": "",
            "children": [
              "IPY_MODEL_73c666174c33493389df8f581290facb",
              "IPY_MODEL_89518c62cc59432cb8170853cca99b93",
              "IPY_MODEL_c517d992e8a149178aa19888ddbfa27a"
            ],
            "layout": "IPY_MODEL_d5ee0a6e5fd04b2ca0cd9d4b44dc95df"
          }
        },
        "6d699b9b586b465dbc23863db7d13ce5": {
          "model_module": "@jupyter-widgets/controls",
          "model_module_version": "1.5.0",
          "model_name": "FloatProgressModel",
          "state": {
            "_dom_classes": [],
            "_model_module": "@jupyter-widgets/controls",
            "_model_module_version": "1.5.0",
            "_model_name": "FloatProgressModel",
            "_view_count": null,
            "_view_module": "@jupyter-widgets/controls",
            "_view_module_version": "1.5.0",
            "_view_name": "ProgressView",
            "bar_style": "success",
            "description": "",
            "description_tooltip": null,
            "layout": "IPY_MODEL_db360a4a6e6d49a7990ad16e6f13bd71",
            "max": 3,
            "min": 0,
            "orientation": "horizontal",
            "style": "IPY_MODEL_a167bd33726e4eff8ac5662ef4def126",
            "value": 3
          }
        },
        "7045e2de38944e2a85056239c43281d8": {
          "model_module": "@jupyter-widgets/base",
          "model_module_version": "1.2.0",
          "model_name": "LayoutModel",
          "state": {
            "_model_module": "@jupyter-widgets/base",
            "_model_module_version": "1.2.0",
            "_model_name": "LayoutModel",
            "_view_count": null,
            "_view_module": "@jupyter-widgets/base",
            "_view_module_version": "1.2.0",
            "_view_name": "LayoutView",
            "align_content": null,
            "align_items": null,
            "align_self": null,
            "border": null,
            "bottom": null,
            "display": null,
            "flex": null,
            "flex_flow": null,
            "grid_area": null,
            "grid_auto_columns": null,
            "grid_auto_flow": null,
            "grid_auto_rows": null,
            "grid_column": null,
            "grid_gap": null,
            "grid_row": null,
            "grid_template_areas": null,
            "grid_template_columns": null,
            "grid_template_rows": null,
            "height": null,
            "justify_content": null,
            "justify_items": null,
            "left": null,
            "margin": null,
            "max_height": null,
            "max_width": null,
            "min_height": null,
            "min_width": null,
            "object_fit": null,
            "object_position": null,
            "order": null,
            "overflow": null,
            "overflow_x": null,
            "overflow_y": null,
            "padding": null,
            "right": null,
            "top": null,
            "visibility": null,
            "width": null
          }
        },
        "7127d120086341d6bc2cef66812c1790": {
          "model_module": "@jupyter-widgets/base",
          "model_module_version": "1.2.0",
          "model_name": "LayoutModel",
          "state": {
            "_model_module": "@jupyter-widgets/base",
            "_model_module_version": "1.2.0",
            "_model_name": "LayoutModel",
            "_view_count": null,
            "_view_module": "@jupyter-widgets/base",
            "_view_module_version": "1.2.0",
            "_view_name": "LayoutView",
            "align_content": null,
            "align_items": null,
            "align_self": null,
            "border": null,
            "bottom": null,
            "display": null,
            "flex": null,
            "flex_flow": null,
            "grid_area": null,
            "grid_auto_columns": null,
            "grid_auto_flow": null,
            "grid_auto_rows": null,
            "grid_column": null,
            "grid_gap": null,
            "grid_row": null,
            "grid_template_areas": null,
            "grid_template_columns": null,
            "grid_template_rows": null,
            "height": null,
            "justify_content": null,
            "justify_items": null,
            "left": null,
            "margin": null,
            "max_height": null,
            "max_width": null,
            "min_height": null,
            "min_width": null,
            "object_fit": null,
            "object_position": null,
            "order": null,
            "overflow": null,
            "overflow_x": null,
            "overflow_y": null,
            "padding": null,
            "right": null,
            "top": null,
            "visibility": null,
            "width": null
          }
        },
        "73b77548c40647f19816e1ecee219d80": {
          "model_module": "@jupyter-widgets/controls",
          "model_module_version": "1.5.0",
          "model_name": "HTMLModel",
          "state": {
            "_dom_classes": [],
            "_model_module": "@jupyter-widgets/controls",
            "_model_module_version": "1.5.0",
            "_model_name": "HTMLModel",
            "_view_count": null,
            "_view_module": "@jupyter-widgets/controls",
            "_view_module_version": "1.5.0",
            "_view_name": "HTMLView",
            "description": "",
            "description_tooltip": null,
            "layout": "IPY_MODEL_f5e0403357c24db19451b5800fbe80ea",
            "placeholder": "​",
            "style": "IPY_MODEL_8d0bc6c6773e412ea6e9e248e85f23a3",
            "value": "Loading checkpoint shards: 100%"
          }
        },
        "73c666174c33493389df8f581290facb": {
          "model_module": "@jupyter-widgets/controls",
          "model_module_version": "1.5.0",
          "model_name": "HTMLModel",
          "state": {
            "_dom_classes": [],
            "_model_module": "@jupyter-widgets/controls",
            "_model_module_version": "1.5.0",
            "_model_name": "HTMLModel",
            "_view_count": null,
            "_view_module": "@jupyter-widgets/controls",
            "_view_module_version": "1.5.0",
            "_view_name": "HTMLView",
            "description": "",
            "description_tooltip": null,
            "layout": "IPY_MODEL_49a69863b0d346f7a0925f3c5f39818c",
            "placeholder": "​",
            "style": "IPY_MODEL_52691efd505444eb81b31d55c6cc7f06",
            "value": "model-00001-of-00003.safetensors: 100%"
          }
        },
        "74239689ab8244d584a6a1376a77afff": {
          "model_module": "@jupyter-widgets/controls",
          "model_module_version": "1.5.0",
          "model_name": "HBoxModel",
          "state": {
            "_dom_classes": [],
            "_model_module": "@jupyter-widgets/controls",
            "_model_module_version": "1.5.0",
            "_model_name": "HBoxModel",
            "_view_count": null,
            "_view_module": "@jupyter-widgets/controls",
            "_view_module_version": "1.5.0",
            "_view_name": "HBoxView",
            "box_style": "",
            "children": [
              "IPY_MODEL_2d35ce767e264818ad57c49452d11267",
              "IPY_MODEL_8a7278c440134bba946a8f745550d16e",
              "IPY_MODEL_d6bce7551646476aba682c92975d16ff"
            ],
            "layout": "IPY_MODEL_43ca11053cc04e0994a0dc580128ad43"
          }
        },
        "759b20946ff74e7db2e1ea3f2c42598f": {
          "model_module": "@jupyter-widgets/base",
          "model_module_version": "1.2.0",
          "model_name": "LayoutModel",
          "state": {
            "_model_module": "@jupyter-widgets/base",
            "_model_module_version": "1.2.0",
            "_model_name": "LayoutModel",
            "_view_count": null,
            "_view_module": "@jupyter-widgets/base",
            "_view_module_version": "1.2.0",
            "_view_name": "LayoutView",
            "align_content": null,
            "align_items": null,
            "align_self": null,
            "border": null,
            "bottom": null,
            "display": null,
            "flex": null,
            "flex_flow": null,
            "grid_area": null,
            "grid_auto_columns": null,
            "grid_auto_flow": null,
            "grid_auto_rows": null,
            "grid_column": null,
            "grid_gap": null,
            "grid_row": null,
            "grid_template_areas": null,
            "grid_template_columns": null,
            "grid_template_rows": null,
            "height": null,
            "justify_content": null,
            "justify_items": null,
            "left": null,
            "margin": null,
            "max_height": null,
            "max_width": null,
            "min_height": null,
            "min_width": null,
            "object_fit": null,
            "object_position": null,
            "order": null,
            "overflow": null,
            "overflow_x": null,
            "overflow_y": null,
            "padding": null,
            "right": null,
            "top": null,
            "visibility": null,
            "width": null
          }
        },
        "803a9a05e3214e338da2595ba74c3642": {
          "model_module": "@jupyter-widgets/base",
          "model_module_version": "1.2.0",
          "model_name": "LayoutModel",
          "state": {
            "_model_module": "@jupyter-widgets/base",
            "_model_module_version": "1.2.0",
            "_model_name": "LayoutModel",
            "_view_count": null,
            "_view_module": "@jupyter-widgets/base",
            "_view_module_version": "1.2.0",
            "_view_name": "LayoutView",
            "align_content": null,
            "align_items": null,
            "align_self": null,
            "border": null,
            "bottom": null,
            "display": null,
            "flex": null,
            "flex_flow": null,
            "grid_area": null,
            "grid_auto_columns": null,
            "grid_auto_flow": null,
            "grid_auto_rows": null,
            "grid_column": null,
            "grid_gap": null,
            "grid_row": null,
            "grid_template_areas": null,
            "grid_template_columns": null,
            "grid_template_rows": null,
            "height": null,
            "justify_content": null,
            "justify_items": null,
            "left": null,
            "margin": null,
            "max_height": null,
            "max_width": null,
            "min_height": null,
            "min_width": null,
            "object_fit": null,
            "object_position": null,
            "order": null,
            "overflow": null,
            "overflow_x": null,
            "overflow_y": null,
            "padding": null,
            "right": null,
            "top": null,
            "visibility": null,
            "width": null
          }
        },
        "807499514ef445dba5680f9c7ee948c8": {
          "model_module": "@jupyter-widgets/controls",
          "model_module_version": "1.5.0",
          "model_name": "HBoxModel",
          "state": {
            "_dom_classes": [],
            "_model_module": "@jupyter-widgets/controls",
            "_model_module_version": "1.5.0",
            "_model_name": "HBoxModel",
            "_view_count": null,
            "_view_module": "@jupyter-widgets/controls",
            "_view_module_version": "1.5.0",
            "_view_name": "HBoxView",
            "box_style": "",
            "children": [
              "IPY_MODEL_a7e3ac47e0da43d88caa6ec04d57a6bf",
              "IPY_MODEL_f79e5fcc8eec4eddb966c21e5fd9d2a6",
              "IPY_MODEL_2f1a4b81bc054441be387850dec75689"
            ],
            "layout": "IPY_MODEL_1c2fe9516e1645bf9a9d9256865af691"
          }
        },
        "820b09cfb86d4e65821abd52297e78e7": {
          "model_module": "@jupyter-widgets/base",
          "model_module_version": "1.2.0",
          "model_name": "LayoutModel",
          "state": {
            "_model_module": "@jupyter-widgets/base",
            "_model_module_version": "1.2.0",
            "_model_name": "LayoutModel",
            "_view_count": null,
            "_view_module": "@jupyter-widgets/base",
            "_view_module_version": "1.2.0",
            "_view_name": "LayoutView",
            "align_content": null,
            "align_items": null,
            "align_self": null,
            "border": null,
            "bottom": null,
            "display": null,
            "flex": null,
            "flex_flow": null,
            "grid_area": null,
            "grid_auto_columns": null,
            "grid_auto_flow": null,
            "grid_auto_rows": null,
            "grid_column": null,
            "grid_gap": null,
            "grid_row": null,
            "grid_template_areas": null,
            "grid_template_columns": null,
            "grid_template_rows": null,
            "height": null,
            "justify_content": null,
            "justify_items": null,
            "left": null,
            "margin": null,
            "max_height": null,
            "max_width": null,
            "min_height": null,
            "min_width": null,
            "object_fit": null,
            "object_position": null,
            "order": null,
            "overflow": null,
            "overflow_x": null,
            "overflow_y": null,
            "padding": null,
            "right": null,
            "top": null,
            "visibility": null,
            "width": null
          }
        },
        "8217ffc8197842f38290cbf835f463d9": {
          "model_module": "@jupyter-widgets/controls",
          "model_module_version": "1.5.0",
          "model_name": "ProgressStyleModel",
          "state": {
            "_model_module": "@jupyter-widgets/controls",
            "_model_module_version": "1.5.0",
            "_model_name": "ProgressStyleModel",
            "_view_count": null,
            "_view_module": "@jupyter-widgets/base",
            "_view_module_version": "1.2.0",
            "_view_name": "StyleView",
            "bar_color": null,
            "description_width": ""
          }
        },
        "8422c4e59321423fafa9efa7dd13d3d7": {
          "model_module": "@jupyter-widgets/controls",
          "model_module_version": "1.5.0",
          "model_name": "DescriptionStyleModel",
          "state": {
            "_model_module": "@jupyter-widgets/controls",
            "_model_module_version": "1.5.0",
            "_model_name": "DescriptionStyleModel",
            "_view_count": null,
            "_view_module": "@jupyter-widgets/base",
            "_view_module_version": "1.2.0",
            "_view_name": "StyleView",
            "description_width": ""
          }
        },
        "8440c19c047c49048f85c3b914d817d9": {
          "model_module": "@jupyter-widgets/base",
          "model_module_version": "1.2.0",
          "model_name": "LayoutModel",
          "state": {
            "_model_module": "@jupyter-widgets/base",
            "_model_module_version": "1.2.0",
            "_model_name": "LayoutModel",
            "_view_count": null,
            "_view_module": "@jupyter-widgets/base",
            "_view_module_version": "1.2.0",
            "_view_name": "LayoutView",
            "align_content": null,
            "align_items": null,
            "align_self": null,
            "border": null,
            "bottom": null,
            "display": null,
            "flex": null,
            "flex_flow": null,
            "grid_area": null,
            "grid_auto_columns": null,
            "grid_auto_flow": null,
            "grid_auto_rows": null,
            "grid_column": null,
            "grid_gap": null,
            "grid_row": null,
            "grid_template_areas": null,
            "grid_template_columns": null,
            "grid_template_rows": null,
            "height": null,
            "justify_content": null,
            "justify_items": null,
            "left": null,
            "margin": null,
            "max_height": null,
            "max_width": null,
            "min_height": null,
            "min_width": null,
            "object_fit": null,
            "object_position": null,
            "order": null,
            "overflow": null,
            "overflow_x": null,
            "overflow_y": null,
            "padding": null,
            "right": null,
            "top": null,
            "visibility": null,
            "width": null
          }
        },
        "8668a5556ce2431ba26129f2dc574ddf": {
          "model_module": "@jupyter-widgets/controls",
          "model_module_version": "1.5.0",
          "model_name": "DescriptionStyleModel",
          "state": {
            "_model_module": "@jupyter-widgets/controls",
            "_model_module_version": "1.5.0",
            "_model_name": "DescriptionStyleModel",
            "_view_count": null,
            "_view_module": "@jupyter-widgets/base",
            "_view_module_version": "1.2.0",
            "_view_name": "StyleView",
            "description_width": ""
          }
        },
        "894b0887690f4c5b886fcfa16b775a48": {
          "model_module": "@jupyter-widgets/controls",
          "model_module_version": "1.5.0",
          "model_name": "DescriptionStyleModel",
          "state": {
            "_model_module": "@jupyter-widgets/controls",
            "_model_module_version": "1.5.0",
            "_model_name": "DescriptionStyleModel",
            "_view_count": null,
            "_view_module": "@jupyter-widgets/base",
            "_view_module_version": "1.2.0",
            "_view_name": "StyleView",
            "description_width": ""
          }
        },
        "89518c62cc59432cb8170853cca99b93": {
          "model_module": "@jupyter-widgets/controls",
          "model_module_version": "1.5.0",
          "model_name": "FloatProgressModel",
          "state": {
            "_dom_classes": [],
            "_model_module": "@jupyter-widgets/controls",
            "_model_module_version": "1.5.0",
            "_model_name": "FloatProgressModel",
            "_view_count": null,
            "_view_module": "@jupyter-widgets/controls",
            "_view_module_version": "1.5.0",
            "_view_name": "ProgressView",
            "bar_style": "success",
            "description": "",
            "description_tooltip": null,
            "layout": "IPY_MODEL_430ede9dda474c23ba82b5bd499cfb3e",
            "max": 4949453792,
            "min": 0,
            "orientation": "horizontal",
            "style": "IPY_MODEL_5cd93b7e0f7247889db05da0e50b6782",
            "value": 4949453792
          }
        },
        "8a7278c440134bba946a8f745550d16e": {
          "model_module": "@jupyter-widgets/controls",
          "model_module_version": "1.5.0",
          "model_name": "FloatProgressModel",
          "state": {
            "_dom_classes": [],
            "_model_module": "@jupyter-widgets/controls",
            "_model_module_version": "1.5.0",
            "_model_name": "FloatProgressModel",
            "_view_count": null,
            "_view_module": "@jupyter-widgets/controls",
            "_view_module_version": "1.5.0",
            "_view_name": "ProgressView",
            "bar_style": "success",
            "description": "",
            "description_tooltip": null,
            "layout": "IPY_MODEL_803a9a05e3214e338da2595ba74c3642",
            "max": 3,
            "min": 0,
            "orientation": "horizontal",
            "style": "IPY_MODEL_4a4eee77a51e4221a6e8332d12db49ed",
            "value": 3
          }
        },
        "8ac9d4f81eaf4891afb52f92dc4d8937": {
          "model_module": "@jupyter-widgets/controls",
          "model_module_version": "1.5.0",
          "model_name": "DescriptionStyleModel",
          "state": {
            "_model_module": "@jupyter-widgets/controls",
            "_model_module_version": "1.5.0",
            "_model_name": "DescriptionStyleModel",
            "_view_count": null,
            "_view_module": "@jupyter-widgets/base",
            "_view_module_version": "1.2.0",
            "_view_name": "StyleView",
            "description_width": ""
          }
        },
        "8cfbe60e8e434dd09eb2e2dedc127304": {
          "model_module": "@jupyter-widgets/base",
          "model_module_version": "1.2.0",
          "model_name": "LayoutModel",
          "state": {
            "_model_module": "@jupyter-widgets/base",
            "_model_module_version": "1.2.0",
            "_model_name": "LayoutModel",
            "_view_count": null,
            "_view_module": "@jupyter-widgets/base",
            "_view_module_version": "1.2.0",
            "_view_name": "LayoutView",
            "align_content": null,
            "align_items": null,
            "align_self": null,
            "border": null,
            "bottom": null,
            "display": null,
            "flex": null,
            "flex_flow": null,
            "grid_area": null,
            "grid_auto_columns": null,
            "grid_auto_flow": null,
            "grid_auto_rows": null,
            "grid_column": null,
            "grid_gap": null,
            "grid_row": null,
            "grid_template_areas": null,
            "grid_template_columns": null,
            "grid_template_rows": null,
            "height": null,
            "justify_content": null,
            "justify_items": null,
            "left": null,
            "margin": null,
            "max_height": null,
            "max_width": null,
            "min_height": null,
            "min_width": null,
            "object_fit": null,
            "object_position": null,
            "order": null,
            "overflow": null,
            "overflow_x": null,
            "overflow_y": null,
            "padding": null,
            "right": null,
            "top": null,
            "visibility": null,
            "width": null
          }
        },
        "8d0bc6c6773e412ea6e9e248e85f23a3": {
          "model_module": "@jupyter-widgets/controls",
          "model_module_version": "1.5.0",
          "model_name": "DescriptionStyleModel",
          "state": {
            "_model_module": "@jupyter-widgets/controls",
            "_model_module_version": "1.5.0",
            "_model_name": "DescriptionStyleModel",
            "_view_count": null,
            "_view_module": "@jupyter-widgets/base",
            "_view_module_version": "1.2.0",
            "_view_name": "StyleView",
            "description_width": ""
          }
        },
        "8e7057442b2a411d976008e664d61298": {
          "model_module": "@jupyter-widgets/controls",
          "model_module_version": "1.5.0",
          "model_name": "HTMLModel",
          "state": {
            "_dom_classes": [],
            "_model_module": "@jupyter-widgets/controls",
            "_model_module_version": "1.5.0",
            "_model_name": "HTMLModel",
            "_view_count": null,
            "_view_module": "@jupyter-widgets/controls",
            "_view_module_version": "1.5.0",
            "_view_name": "HTMLView",
            "description": "",
            "description_tooltip": null,
            "layout": "IPY_MODEL_e93ac58a94964623b827e3754590a27a",
            "placeholder": "​",
            "style": "IPY_MODEL_894b0887690f4c5b886fcfa16b775a48",
            "value": " 414/414 [00:00&lt;00:00, 24.4kB/s]"
          }
        },
        "9440f579acda4061a3564667552d30e7": {
          "model_module": "@jupyter-widgets/controls",
          "model_module_version": "1.5.0",
          "model_name": "HTMLModel",
          "state": {
            "_dom_classes": [],
            "_model_module": "@jupyter-widgets/controls",
            "_model_module_version": "1.5.0",
            "_model_name": "HTMLModel",
            "_view_count": null,
            "_view_module": "@jupyter-widgets/controls",
            "_view_module_version": "1.5.0",
            "_view_name": "HTMLView",
            "description": "",
            "description_tooltip": null,
            "layout": "IPY_MODEL_dd5b385738d24506af26964633805638",
            "placeholder": "​",
            "style": "IPY_MODEL_035cff48d95b43f48481db632ed1d37c",
            "value": " 141k/141k [00:00&lt;00:00, 863kB/s]"
          }
        },
        "9888b0134bbe4ce384dbfb0e369176a1": {
          "model_module": "@jupyter-widgets/base",
          "model_module_version": "1.2.0",
          "model_name": "LayoutModel",
          "state": {
            "_model_module": "@jupyter-widgets/base",
            "_model_module_version": "1.2.0",
            "_model_name": "LayoutModel",
            "_view_count": null,
            "_view_module": "@jupyter-widgets/base",
            "_view_module_version": "1.2.0",
            "_view_name": "LayoutView",
            "align_content": null,
            "align_items": null,
            "align_self": null,
            "border": null,
            "bottom": null,
            "display": null,
            "flex": null,
            "flex_flow": null,
            "grid_area": null,
            "grid_auto_columns": null,
            "grid_auto_flow": null,
            "grid_auto_rows": null,
            "grid_column": null,
            "grid_gap": null,
            "grid_row": null,
            "grid_template_areas": null,
            "grid_template_columns": null,
            "grid_template_rows": null,
            "height": null,
            "justify_content": null,
            "justify_items": null,
            "left": null,
            "margin": null,
            "max_height": null,
            "max_width": null,
            "min_height": null,
            "min_width": null,
            "object_fit": null,
            "object_position": null,
            "order": null,
            "overflow": null,
            "overflow_x": null,
            "overflow_y": null,
            "padding": null,
            "right": null,
            "top": null,
            "visibility": null,
            "width": null
          }
        },
        "9deeffbf430141cfa746331972315fa8": {
          "model_module": "@jupyter-widgets/controls",
          "model_module_version": "1.5.0",
          "model_name": "HTMLModel",
          "state": {
            "_dom_classes": [],
            "_model_module": "@jupyter-widgets/controls",
            "_model_module_version": "1.5.0",
            "_model_name": "HTMLModel",
            "_view_count": null,
            "_view_module": "@jupyter-widgets/controls",
            "_view_module_version": "1.5.0",
            "_view_name": "HTMLView",
            "description": "",
            "description_tooltip": null,
            "layout": "IPY_MODEL_2a0d897b81134b54bc90359349b5508b",
            "placeholder": "​",
            "style": "IPY_MODEL_c4888cf0abc04fdd805ec543bac32db3",
            "value": "model.safetensors.index.json: 100%"
          }
        },
        "a167bd33726e4eff8ac5662ef4def126": {
          "model_module": "@jupyter-widgets/controls",
          "model_module_version": "1.5.0",
          "model_name": "ProgressStyleModel",
          "state": {
            "_model_module": "@jupyter-widgets/controls",
            "_model_module_version": "1.5.0",
            "_model_name": "ProgressStyleModel",
            "_view_count": null,
            "_view_module": "@jupyter-widgets/base",
            "_view_module_version": "1.2.0",
            "_view_name": "StyleView",
            "bar_color": null,
            "description_width": ""
          }
        },
        "a4a5e7afa16b4b00b52e57a176e5f5c7": {
          "model_module": "@jupyter-widgets/base",
          "model_module_version": "1.2.0",
          "model_name": "LayoutModel",
          "state": {
            "_model_module": "@jupyter-widgets/base",
            "_model_module_version": "1.2.0",
            "_model_name": "LayoutModel",
            "_view_count": null,
            "_view_module": "@jupyter-widgets/base",
            "_view_module_version": "1.2.0",
            "_view_name": "LayoutView",
            "align_content": null,
            "align_items": null,
            "align_self": null,
            "border": null,
            "bottom": null,
            "display": null,
            "flex": null,
            "flex_flow": null,
            "grid_area": null,
            "grid_auto_columns": null,
            "grid_auto_flow": null,
            "grid_auto_rows": null,
            "grid_column": null,
            "grid_gap": null,
            "grid_row": null,
            "grid_template_areas": null,
            "grid_template_columns": null,
            "grid_template_rows": null,
            "height": null,
            "justify_content": null,
            "justify_items": null,
            "left": null,
            "margin": null,
            "max_height": null,
            "max_width": null,
            "min_height": null,
            "min_width": null,
            "object_fit": null,
            "object_position": null,
            "order": null,
            "overflow": null,
            "overflow_x": null,
            "overflow_y": null,
            "padding": null,
            "right": null,
            "top": null,
            "visibility": null,
            "width": null
          }
        },
        "a5b48a9199b3405a8d1f39dc28dfe4f3": {
          "model_module": "@jupyter-widgets/base",
          "model_module_version": "1.2.0",
          "model_name": "LayoutModel",
          "state": {
            "_model_module": "@jupyter-widgets/base",
            "_model_module_version": "1.2.0",
            "_model_name": "LayoutModel",
            "_view_count": null,
            "_view_module": "@jupyter-widgets/base",
            "_view_module_version": "1.2.0",
            "_view_name": "LayoutView",
            "align_content": null,
            "align_items": null,
            "align_self": null,
            "border": null,
            "bottom": null,
            "display": null,
            "flex": null,
            "flex_flow": null,
            "grid_area": null,
            "grid_auto_columns": null,
            "grid_auto_flow": null,
            "grid_auto_rows": null,
            "grid_column": null,
            "grid_gap": null,
            "grid_row": null,
            "grid_template_areas": null,
            "grid_template_columns": null,
            "grid_template_rows": null,
            "height": null,
            "justify_content": null,
            "justify_items": null,
            "left": null,
            "margin": null,
            "max_height": null,
            "max_width": null,
            "min_height": null,
            "min_width": null,
            "object_fit": null,
            "object_position": null,
            "order": null,
            "overflow": null,
            "overflow_x": null,
            "overflow_y": null,
            "padding": null,
            "right": null,
            "top": null,
            "visibility": null,
            "width": null
          }
        },
        "a7e3ac47e0da43d88caa6ec04d57a6bf": {
          "model_module": "@jupyter-widgets/controls",
          "model_module_version": "1.5.0",
          "model_name": "HTMLModel",
          "state": {
            "_dom_classes": [],
            "_model_module": "@jupyter-widgets/controls",
            "_model_module_version": "1.5.0",
            "_model_name": "HTMLModel",
            "_view_count": null,
            "_view_module": "@jupyter-widgets/controls",
            "_view_module_version": "1.5.0",
            "_view_name": "HTMLView",
            "description": "",
            "description_tooltip": null,
            "layout": "IPY_MODEL_ae983dc080ba4aac96f5afda5218d6f5",
            "placeholder": "​",
            "style": "IPY_MODEL_17b9037e79d349869ceefab84860e52f",
            "value": "tokenizer.model: 100%"
          }
        },
        "aa14da39edfb48f0bfca87c8bf46ce20": {
          "model_module": "@jupyter-widgets/controls",
          "model_module_version": "1.5.0",
          "model_name": "ProgressStyleModel",
          "state": {
            "_model_module": "@jupyter-widgets/controls",
            "_model_module_version": "1.5.0",
            "_model_name": "ProgressStyleModel",
            "_view_count": null,
            "_view_module": "@jupyter-widgets/base",
            "_view_module_version": "1.2.0",
            "_view_name": "StyleView",
            "bar_color": null,
            "description_width": ""
          }
        },
        "ab2a84c9ed6f44c494e1b717a9247b1d": {
          "model_module": "@jupyter-widgets/controls",
          "model_module_version": "1.5.0",
          "model_name": "DescriptionStyleModel",
          "state": {
            "_model_module": "@jupyter-widgets/controls",
            "_model_module_version": "1.5.0",
            "_model_name": "DescriptionStyleModel",
            "_view_count": null,
            "_view_module": "@jupyter-widgets/base",
            "_view_module_version": "1.2.0",
            "_view_name": "StyleView",
            "description_width": ""
          }
        },
        "abd2d214521d49c7bcb1c027c351e46d": {
          "model_module": "@jupyter-widgets/base",
          "model_module_version": "1.2.0",
          "model_name": "LayoutModel",
          "state": {
            "_model_module": "@jupyter-widgets/base",
            "_model_module_version": "1.2.0",
            "_model_name": "LayoutModel",
            "_view_count": null,
            "_view_module": "@jupyter-widgets/base",
            "_view_module_version": "1.2.0",
            "_view_name": "LayoutView",
            "align_content": null,
            "align_items": null,
            "align_self": null,
            "border": null,
            "bottom": null,
            "display": null,
            "flex": null,
            "flex_flow": null,
            "grid_area": null,
            "grid_auto_columns": null,
            "grid_auto_flow": null,
            "grid_auto_rows": null,
            "grid_column": null,
            "grid_gap": null,
            "grid_row": null,
            "grid_template_areas": null,
            "grid_template_columns": null,
            "grid_template_rows": null,
            "height": null,
            "justify_content": null,
            "justify_items": null,
            "left": null,
            "margin": null,
            "max_height": null,
            "max_width": null,
            "min_height": null,
            "min_width": null,
            "object_fit": null,
            "object_position": null,
            "order": null,
            "overflow": null,
            "overflow_x": null,
            "overflow_y": null,
            "padding": null,
            "right": null,
            "top": null,
            "visibility": null,
            "width": null
          }
        },
        "ae983dc080ba4aac96f5afda5218d6f5": {
          "model_module": "@jupyter-widgets/base",
          "model_module_version": "1.2.0",
          "model_name": "LayoutModel",
          "state": {
            "_model_module": "@jupyter-widgets/base",
            "_model_module_version": "1.2.0",
            "_model_name": "LayoutModel",
            "_view_count": null,
            "_view_module": "@jupyter-widgets/base",
            "_view_module_version": "1.2.0",
            "_view_name": "LayoutView",
            "align_content": null,
            "align_items": null,
            "align_self": null,
            "border": null,
            "bottom": null,
            "display": null,
            "flex": null,
            "flex_flow": null,
            "grid_area": null,
            "grid_auto_columns": null,
            "grid_auto_flow": null,
            "grid_auto_rows": null,
            "grid_column": null,
            "grid_gap": null,
            "grid_row": null,
            "grid_template_areas": null,
            "grid_template_columns": null,
            "grid_template_rows": null,
            "height": null,
            "justify_content": null,
            "justify_items": null,
            "left": null,
            "margin": null,
            "max_height": null,
            "max_width": null,
            "min_height": null,
            "min_width": null,
            "object_fit": null,
            "object_position": null,
            "order": null,
            "overflow": null,
            "overflow_x": null,
            "overflow_y": null,
            "padding": null,
            "right": null,
            "top": null,
            "visibility": null,
            "width": null
          }
        },
        "b07e1d09227f422780afa67bf829e94c": {
          "model_module": "@jupyter-widgets/controls",
          "model_module_version": "1.5.0",
          "model_name": "HTMLModel",
          "state": {
            "_dom_classes": [],
            "_model_module": "@jupyter-widgets/controls",
            "_model_module_version": "1.5.0",
            "_model_name": "HTMLModel",
            "_view_count": null,
            "_view_module": "@jupyter-widgets/controls",
            "_view_module_version": "1.5.0",
            "_view_name": "HTMLView",
            "description": "",
            "description_tooltip": null,
            "layout": "IPY_MODEL_8440c19c047c49048f85c3b914d817d9",
            "placeholder": "​",
            "style": "IPY_MODEL_ec191b2c251d4376b5946a41ee8e7edc",
            "value": " 3/3 [01:29&lt;00:00, 29.30s/it]"
          }
        },
        "b0fc1cf1ea2d45b7a76a2a5c38573a50": {
          "model_module": "@jupyter-widgets/controls",
          "model_module_version": "1.5.0",
          "model_name": "HTMLModel",
          "state": {
            "_dom_classes": [],
            "_model_module": "@jupyter-widgets/controls",
            "_model_module_version": "1.5.0",
            "_model_name": "HTMLModel",
            "_view_count": null,
            "_view_module": "@jupyter-widgets/controls",
            "_view_module_version": "1.5.0",
            "_view_name": "HTMLView",
            "description": "",
            "description_tooltip": null,
            "layout": "IPY_MODEL_4e886975e1b74509800a1a973298c2c3",
            "placeholder": "​",
            "style": "IPY_MODEL_e77b24ebd94748e18f9f2a1ccb782f7f",
            "value": " 1.96M/1.96M [00:00&lt;00:00, 7.24MB/s]"
          }
        },
        "b1fb211068ad4a8db817e44c0f61fa0d": {
          "model_module": "@jupyter-widgets/controls",
          "model_module_version": "1.5.0",
          "model_name": "HBoxModel",
          "state": {
            "_dom_classes": [],
            "_model_module": "@jupyter-widgets/controls",
            "_model_module_version": "1.5.0",
            "_model_name": "HBoxModel",
            "_view_count": null,
            "_view_module": "@jupyter-widgets/controls",
            "_view_module_version": "1.5.0",
            "_view_name": "HBoxView",
            "box_style": "",
            "children": [
              "IPY_MODEL_389f4238468e4cc4b10a947317e490b0",
              "IPY_MODEL_e7161b6ba87c4935a534041f4df2a113",
              "IPY_MODEL_8e7057442b2a411d976008e664d61298"
            ],
            "layout": "IPY_MODEL_efc7a0c30e724ed890772047c91e3401"
          }
        },
        "b2cdf26534844fd8bc13aad55d99c6db": {
          "model_module": "@jupyter-widgets/controls",
          "model_module_version": "1.5.0",
          "model_name": "ProgressStyleModel",
          "state": {
            "_model_module": "@jupyter-widgets/controls",
            "_model_module_version": "1.5.0",
            "_model_name": "ProgressStyleModel",
            "_view_count": null,
            "_view_module": "@jupyter-widgets/base",
            "_view_module_version": "1.2.0",
            "_view_name": "StyleView",
            "bar_color": null,
            "description_width": ""
          }
        },
        "b2e3160873cf4bd28bcd561bfe393cae": {
          "model_module": "@jupyter-widgets/base",
          "model_module_version": "1.2.0",
          "model_name": "LayoutModel",
          "state": {
            "_model_module": "@jupyter-widgets/base",
            "_model_module_version": "1.2.0",
            "_model_name": "LayoutModel",
            "_view_count": null,
            "_view_module": "@jupyter-widgets/base",
            "_view_module_version": "1.2.0",
            "_view_name": "LayoutView",
            "align_content": null,
            "align_items": null,
            "align_self": null,
            "border": null,
            "bottom": null,
            "display": null,
            "flex": null,
            "flex_flow": null,
            "grid_area": null,
            "grid_auto_columns": null,
            "grid_auto_flow": null,
            "grid_auto_rows": null,
            "grid_column": null,
            "grid_gap": null,
            "grid_row": null,
            "grid_template_areas": null,
            "grid_template_columns": null,
            "grid_template_rows": null,
            "height": null,
            "justify_content": null,
            "justify_items": null,
            "left": null,
            "margin": null,
            "max_height": null,
            "max_width": null,
            "min_height": null,
            "min_width": null,
            "object_fit": null,
            "object_position": null,
            "order": null,
            "overflow": null,
            "overflow_x": null,
            "overflow_y": null,
            "padding": null,
            "right": null,
            "top": null,
            "visibility": null,
            "width": null
          }
        },
        "b37e13a2099145e1a325e69e4847db11": {
          "model_module": "@jupyter-widgets/controls",
          "model_module_version": "1.5.0",
          "model_name": "HTMLModel",
          "state": {
            "_dom_classes": [],
            "_model_module": "@jupyter-widgets/controls",
            "_model_module_version": "1.5.0",
            "_model_name": "HTMLModel",
            "_view_count": null,
            "_view_module": "@jupyter-widgets/controls",
            "_view_module_version": "1.5.0",
            "_view_name": "HTMLView",
            "description": "",
            "description_tooltip": null,
            "layout": "IPY_MODEL_c0202a1c176249169131e41c4c2ea5c1",
            "placeholder": "​",
            "style": "IPY_MODEL_8ac9d4f81eaf4891afb52f92dc4d8937",
            "value": "config.json: 100%"
          }
        },
        "b5e77c321a0a4eff943cce340b797103": {
          "model_module": "@jupyter-widgets/controls",
          "model_module_version": "1.5.0",
          "model_name": "FloatProgressModel",
          "state": {
            "_dom_classes": [],
            "_model_module": "@jupyter-widgets/controls",
            "_model_module_version": "1.5.0",
            "_model_name": "FloatProgressModel",
            "_view_count": null,
            "_view_module": "@jupyter-widgets/controls",
            "_view_module_version": "1.5.0",
            "_view_name": "ProgressView",
            "bar_style": "success",
            "description": "",
            "description_tooltip": null,
            "layout": "IPY_MODEL_abd2d214521d49c7bcb1c027c351e46d",
            "max": 4546807800,
            "min": 0,
            "orientation": "horizontal",
            "style": "IPY_MODEL_aa14da39edfb48f0bfca87c8bf46ce20",
            "value": 4546807800
          }
        },
        "b6ec528a1fa7432fa6ec85be186a8950": {
          "model_module": "@jupyter-widgets/controls",
          "model_module_version": "1.5.0",
          "model_name": "FloatProgressModel",
          "state": {
            "_dom_classes": [],
            "_model_module": "@jupyter-widgets/controls",
            "_model_module_version": "1.5.0",
            "_model_name": "FloatProgressModel",
            "_view_count": null,
            "_view_module": "@jupyter-widgets/controls",
            "_view_module_version": "1.5.0",
            "_view_name": "ProgressView",
            "bar_style": "success",
            "description": "",
            "description_tooltip": null,
            "layout": "IPY_MODEL_3cd4d36f078d4376b976bdd6dddfd9d2",
            "max": 1961548,
            "min": 0,
            "orientation": "horizontal",
            "style": "IPY_MODEL_b2cdf26534844fd8bc13aad55d99c6db",
            "value": 1961548
          }
        },
        "b77e3c7d22844623a2b2ab0c67d11b81": {
          "model_module": "@jupyter-widgets/controls",
          "model_module_version": "1.5.0",
          "model_name": "DescriptionStyleModel",
          "state": {
            "_model_module": "@jupyter-widgets/controls",
            "_model_module_version": "1.5.0",
            "_model_name": "DescriptionStyleModel",
            "_view_count": null,
            "_view_module": "@jupyter-widgets/base",
            "_view_module_version": "1.2.0",
            "_view_name": "StyleView",
            "description_width": ""
          }
        },
        "b7ee950718964384a91a333ac394bae4": {
          "model_module": "@jupyter-widgets/base",
          "model_module_version": "1.2.0",
          "model_name": "LayoutModel",
          "state": {
            "_model_module": "@jupyter-widgets/base",
            "_model_module_version": "1.2.0",
            "_model_name": "LayoutModel",
            "_view_count": null,
            "_view_module": "@jupyter-widgets/base",
            "_view_module_version": "1.2.0",
            "_view_name": "LayoutView",
            "align_content": null,
            "align_items": null,
            "align_self": null,
            "border": null,
            "bottom": null,
            "display": null,
            "flex": null,
            "flex_flow": null,
            "grid_area": null,
            "grid_auto_columns": null,
            "grid_auto_flow": null,
            "grid_auto_rows": null,
            "grid_column": null,
            "grid_gap": null,
            "grid_row": null,
            "grid_template_areas": null,
            "grid_template_columns": null,
            "grid_template_rows": null,
            "height": null,
            "justify_content": null,
            "justify_items": null,
            "left": null,
            "margin": null,
            "max_height": null,
            "max_width": null,
            "min_height": null,
            "min_width": null,
            "object_fit": null,
            "object_position": null,
            "order": null,
            "overflow": null,
            "overflow_x": null,
            "overflow_y": null,
            "padding": null,
            "right": null,
            "top": null,
            "visibility": null,
            "width": null
          }
        },
        "b8c774bdc824449ba26dcc80d3aecb39": {
          "model_module": "@jupyter-widgets/controls",
          "model_module_version": "1.5.0",
          "model_name": "HBoxModel",
          "state": {
            "_dom_classes": [],
            "_model_module": "@jupyter-widgets/controls",
            "_model_module_version": "1.5.0",
            "_model_name": "HBoxModel",
            "_view_count": null,
            "_view_module": "@jupyter-widgets/controls",
            "_view_module_version": "1.5.0",
            "_view_name": "HBoxView",
            "box_style": "",
            "children": [
              "IPY_MODEL_1f5c385ac3df44e48ff6ae15cc115213",
              "IPY_MODEL_b6ec528a1fa7432fa6ec85be186a8950",
              "IPY_MODEL_b0fc1cf1ea2d45b7a76a2a5c38573a50"
            ],
            "layout": "IPY_MODEL_b7ee950718964384a91a333ac394bae4"
          }
        },
        "b90084fa0122466fafa76d0d9a52928a": {
          "model_module": "@jupyter-widgets/base",
          "model_module_version": "1.2.0",
          "model_name": "LayoutModel",
          "state": {
            "_model_module": "@jupyter-widgets/base",
            "_model_module_version": "1.2.0",
            "_model_name": "LayoutModel",
            "_view_count": null,
            "_view_module": "@jupyter-widgets/base",
            "_view_module_version": "1.2.0",
            "_view_name": "LayoutView",
            "align_content": null,
            "align_items": null,
            "align_self": null,
            "border": null,
            "bottom": null,
            "display": null,
            "flex": null,
            "flex_flow": null,
            "grid_area": null,
            "grid_auto_columns": null,
            "grid_auto_flow": null,
            "grid_auto_rows": null,
            "grid_column": null,
            "grid_gap": null,
            "grid_row": null,
            "grid_template_areas": null,
            "grid_template_columns": null,
            "grid_template_rows": null,
            "height": null,
            "justify_content": null,
            "justify_items": null,
            "left": null,
            "margin": null,
            "max_height": null,
            "max_width": null,
            "min_height": null,
            "min_width": null,
            "object_fit": null,
            "object_position": null,
            "order": null,
            "overflow": null,
            "overflow_x": null,
            "overflow_y": null,
            "padding": null,
            "right": null,
            "top": null,
            "visibility": null,
            "width": null
          }
        },
        "bc63c62d6bbd43c1a6d844d1094d0922": {
          "model_module": "@jupyter-widgets/controls",
          "model_module_version": "1.5.0",
          "model_name": "FloatProgressModel",
          "state": {
            "_dom_classes": [],
            "_model_module": "@jupyter-widgets/controls",
            "_model_module_version": "1.5.0",
            "_model_name": "FloatProgressModel",
            "_view_count": null,
            "_view_module": "@jupyter-widgets/controls",
            "_view_module_version": "1.5.0",
            "_view_name": "ProgressView",
            "bar_style": "success",
            "description": "",
            "description_tooltip": null,
            "layout": "IPY_MODEL_fcd0d3b732c2432ebf172ee9b32037b4",
            "max": 4999819336,
            "min": 0,
            "orientation": "horizontal",
            "style": "IPY_MODEL_5d3dce6832c14288a78b4bf52d539095",
            "value": 4999819336
          }
        },
        "bcfa3335a9c1462db14366bc9e8748e6": {
          "model_module": "@jupyter-widgets/controls",
          "model_module_version": "1.5.0",
          "model_name": "HTMLModel",
          "state": {
            "_dom_classes": [],
            "_model_module": "@jupyter-widgets/controls",
            "_model_module_version": "1.5.0",
            "_model_name": "HTMLModel",
            "_view_count": null,
            "_view_module": "@jupyter-widgets/controls",
            "_view_module_version": "1.5.0",
            "_view_name": "HTMLView",
            "description": "",
            "description_tooltip": null,
            "layout": "IPY_MODEL_cdea388ac4514e2ca26576cdd3b409a9",
            "placeholder": "​",
            "style": "IPY_MODEL_ab2a84c9ed6f44c494e1b717a9247b1d",
            "value": "model-00002-of-00003.safetensors: 100%"
          }
        },
        "c0202a1c176249169131e41c4c2ea5c1": {
          "model_module": "@jupyter-widgets/base",
          "model_module_version": "1.2.0",
          "model_name": "LayoutModel",
          "state": {
            "_model_module": "@jupyter-widgets/base",
            "_model_module_version": "1.2.0",
            "_model_name": "LayoutModel",
            "_view_count": null,
            "_view_module": "@jupyter-widgets/base",
            "_view_module_version": "1.2.0",
            "_view_name": "LayoutView",
            "align_content": null,
            "align_items": null,
            "align_self": null,
            "border": null,
            "bottom": null,
            "display": null,
            "flex": null,
            "flex_flow": null,
            "grid_area": null,
            "grid_auto_columns": null,
            "grid_auto_flow": null,
            "grid_auto_rows": null,
            "grid_column": null,
            "grid_gap": null,
            "grid_row": null,
            "grid_template_areas": null,
            "grid_template_columns": null,
            "grid_template_rows": null,
            "height": null,
            "justify_content": null,
            "justify_items": null,
            "left": null,
            "margin": null,
            "max_height": null,
            "max_width": null,
            "min_height": null,
            "min_width": null,
            "object_fit": null,
            "object_position": null,
            "order": null,
            "overflow": null,
            "overflow_x": null,
            "overflow_y": null,
            "padding": null,
            "right": null,
            "top": null,
            "visibility": null,
            "width": null
          }
        },
        "c099e6bcec2e4859b157bc6bae0dedb6": {
          "model_module": "@jupyter-widgets/controls",
          "model_module_version": "1.5.0",
          "model_name": "FloatProgressModel",
          "state": {
            "_dom_classes": [],
            "_model_module": "@jupyter-widgets/controls",
            "_model_module_version": "1.5.0",
            "_model_name": "FloatProgressModel",
            "_view_count": null,
            "_view_module": "@jupyter-widgets/controls",
            "_view_module_version": "1.5.0",
            "_view_name": "ProgressView",
            "bar_style": "success",
            "description": "",
            "description_tooltip": null,
            "layout": "IPY_MODEL_759b20946ff74e7db2e1ea3f2c42598f",
            "max": 116,
            "min": 0,
            "orientation": "horizontal",
            "style": "IPY_MODEL_df3c9616b0cb4d79bd19a44fca839f98",
            "value": 116
          }
        },
        "c318fb0d24c240fc8d4a6eb33c6d26aa": {
          "model_module": "@jupyter-widgets/controls",
          "model_module_version": "1.5.0",
          "model_name": "ProgressStyleModel",
          "state": {
            "_model_module": "@jupyter-widgets/controls",
            "_model_module_version": "1.5.0",
            "_model_name": "ProgressStyleModel",
            "_view_count": null,
            "_view_module": "@jupyter-widgets/base",
            "_view_module_version": "1.2.0",
            "_view_name": "StyleView",
            "bar_color": null,
            "description_width": ""
          }
        },
        "c4888cf0abc04fdd805ec543bac32db3": {
          "model_module": "@jupyter-widgets/controls",
          "model_module_version": "1.5.0",
          "model_name": "DescriptionStyleModel",
          "state": {
            "_model_module": "@jupyter-widgets/controls",
            "_model_module_version": "1.5.0",
            "_model_name": "DescriptionStyleModel",
            "_view_count": null,
            "_view_module": "@jupyter-widgets/base",
            "_view_module_version": "1.2.0",
            "_view_name": "StyleView",
            "description_width": ""
          }
        },
        "c48ccb4be2a448d9b4974a6bf8fdc744": {
          "model_module": "@jupyter-widgets/controls",
          "model_module_version": "1.5.0",
          "model_name": "HBoxModel",
          "state": {
            "_dom_classes": [],
            "_model_module": "@jupyter-widgets/controls",
            "_model_module_version": "1.5.0",
            "_model_name": "HBoxModel",
            "_view_count": null,
            "_view_module": "@jupyter-widgets/controls",
            "_view_module_version": "1.5.0",
            "_view_name": "HBoxView",
            "box_style": "",
            "children": [
              "IPY_MODEL_73b77548c40647f19816e1ecee219d80",
              "IPY_MODEL_6d699b9b586b465dbc23863db7d13ce5",
              "IPY_MODEL_b07e1d09227f422780afa67bf829e94c"
            ],
            "layout": "IPY_MODEL_e7b3cd80963f4d8284aa0df76c404ce5"
          }
        },
        "c517d992e8a149178aa19888ddbfa27a": {
          "model_module": "@jupyter-widgets/controls",
          "model_module_version": "1.5.0",
          "model_name": "HTMLModel",
          "state": {
            "_dom_classes": [],
            "_model_module": "@jupyter-widgets/controls",
            "_model_module_version": "1.5.0",
            "_model_name": "HTMLModel",
            "_view_count": null,
            "_view_module": "@jupyter-widgets/controls",
            "_view_module_version": "1.5.0",
            "_view_name": "HTMLView",
            "description": "",
            "description_tooltip": null,
            "layout": "IPY_MODEL_5a08a04ae23940678a21d0f2f37697a0",
            "placeholder": "​",
            "style": "IPY_MODEL_e73fbbbf4aa248d2bd8ec988f451aabe",
            "value": " 4.95G/4.95G [01:40&lt;00:00, 45.9MB/s]"
          }
        },
        "c69a9c5d1f544c88831dc37ab7412573": {
          "model_module": "@jupyter-widgets/controls",
          "model_module_version": "1.5.0",
          "model_name": "HTMLModel",
          "state": {
            "_dom_classes": [],
            "_model_module": "@jupyter-widgets/controls",
            "_model_module_version": "1.5.0",
            "_model_name": "HTMLModel",
            "_view_count": null,
            "_view_module": "@jupyter-widgets/controls",
            "_view_module_version": "1.5.0",
            "_view_name": "HTMLView",
            "description": "",
            "description_tooltip": null,
            "layout": "IPY_MODEL_f88ea1408571409b875e62c86cddefdd",
            "placeholder": "​",
            "style": "IPY_MODEL_8422c4e59321423fafa9efa7dd13d3d7",
            "value": " 5.00G/5.00G [01:40&lt;00:00, 12.0MB/s]"
          }
        },
        "c77cacb010544c1c885345b4541c9e01": {
          "model_module": "@jupyter-widgets/base",
          "model_module_version": "1.2.0",
          "model_name": "LayoutModel",
          "state": {
            "_model_module": "@jupyter-widgets/base",
            "_model_module_version": "1.2.0",
            "_model_name": "LayoutModel",
            "_view_count": null,
            "_view_module": "@jupyter-widgets/base",
            "_view_module_version": "1.2.0",
            "_view_name": "LayoutView",
            "align_content": null,
            "align_items": null,
            "align_self": null,
            "border": null,
            "bottom": null,
            "display": null,
            "flex": null,
            "flex_flow": null,
            "grid_area": null,
            "grid_auto_columns": null,
            "grid_auto_flow": null,
            "grid_auto_rows": null,
            "grid_column": null,
            "grid_gap": null,
            "grid_row": null,
            "grid_template_areas": null,
            "grid_template_columns": null,
            "grid_template_rows": null,
            "height": null,
            "justify_content": null,
            "justify_items": null,
            "left": null,
            "margin": null,
            "max_height": null,
            "max_width": null,
            "min_height": null,
            "min_width": null,
            "object_fit": null,
            "object_position": null,
            "order": null,
            "overflow": null,
            "overflow_x": null,
            "overflow_y": null,
            "padding": null,
            "right": null,
            "top": null,
            "visibility": null,
            "width": null
          }
        },
        "cdea388ac4514e2ca26576cdd3b409a9": {
          "model_module": "@jupyter-widgets/base",
          "model_module_version": "1.2.0",
          "model_name": "LayoutModel",
          "state": {
            "_model_module": "@jupyter-widgets/base",
            "_model_module_version": "1.2.0",
            "_model_name": "LayoutModel",
            "_view_count": null,
            "_view_module": "@jupyter-widgets/base",
            "_view_module_version": "1.2.0",
            "_view_name": "LayoutView",
            "align_content": null,
            "align_items": null,
            "align_self": null,
            "border": null,
            "bottom": null,
            "display": null,
            "flex": null,
            "flex_flow": null,
            "grid_area": null,
            "grid_auto_columns": null,
            "grid_auto_flow": null,
            "grid_auto_rows": null,
            "grid_column": null,
            "grid_gap": null,
            "grid_row": null,
            "grid_template_areas": null,
            "grid_template_columns": null,
            "grid_template_rows": null,
            "height": null,
            "justify_content": null,
            "justify_items": null,
            "left": null,
            "margin": null,
            "max_height": null,
            "max_width": null,
            "min_height": null,
            "min_width": null,
            "object_fit": null,
            "object_position": null,
            "order": null,
            "overflow": null,
            "overflow_x": null,
            "overflow_y": null,
            "padding": null,
            "right": null,
            "top": null,
            "visibility": null,
            "width": null
          }
        },
        "cefd7bf8fa604743adcfde7adbebb108": {
          "model_module": "@jupyter-widgets/controls",
          "model_module_version": "1.5.0",
          "model_name": "DescriptionStyleModel",
          "state": {
            "_model_module": "@jupyter-widgets/controls",
            "_model_module_version": "1.5.0",
            "_model_name": "DescriptionStyleModel",
            "_view_count": null,
            "_view_module": "@jupyter-widgets/base",
            "_view_module_version": "1.2.0",
            "_view_name": "StyleView",
            "description_width": ""
          }
        },
        "cf3842c4357744c2aa29cfe505e63e94": {
          "model_module": "@jupyter-widgets/controls",
          "model_module_version": "1.5.0",
          "model_name": "HTMLModel",
          "state": {
            "_dom_classes": [],
            "_model_module": "@jupyter-widgets/controls",
            "_model_module_version": "1.5.0",
            "_model_name": "HTMLModel",
            "_view_count": null,
            "_view_module": "@jupyter-widgets/controls",
            "_view_module_version": "1.5.0",
            "_view_name": "HTMLView",
            "description": "",
            "description_tooltip": null,
            "layout": "IPY_MODEL_b2e3160873cf4bd28bcd561bfe393cae",
            "placeholder": "​",
            "style": "IPY_MODEL_8668a5556ce2431ba26129f2dc574ddf",
            "value": " 116/116 [00:00&lt;00:00, 12.1kB/s]"
          }
        },
        "d4f3876669574a16acd8014cdff0093f": {
          "model_module": "@jupyter-widgets/controls",
          "model_module_version": "1.5.0",
          "model_name": "DescriptionStyleModel",
          "state": {
            "_model_module": "@jupyter-widgets/controls",
            "_model_module_version": "1.5.0",
            "_model_name": "DescriptionStyleModel",
            "_view_count": null,
            "_view_module": "@jupyter-widgets/base",
            "_view_module_version": "1.2.0",
            "_view_name": "StyleView",
            "description_width": ""
          }
        },
        "d5ee0a6e5fd04b2ca0cd9d4b44dc95df": {
          "model_module": "@jupyter-widgets/base",
          "model_module_version": "1.2.0",
          "model_name": "LayoutModel",
          "state": {
            "_model_module": "@jupyter-widgets/base",
            "_model_module_version": "1.2.0",
            "_model_name": "LayoutModel",
            "_view_count": null,
            "_view_module": "@jupyter-widgets/base",
            "_view_module_version": "1.2.0",
            "_view_name": "LayoutView",
            "align_content": null,
            "align_items": null,
            "align_self": null,
            "border": null,
            "bottom": null,
            "display": null,
            "flex": null,
            "flex_flow": null,
            "grid_area": null,
            "grid_auto_columns": null,
            "grid_auto_flow": null,
            "grid_auto_rows": null,
            "grid_column": null,
            "grid_gap": null,
            "grid_row": null,
            "grid_template_areas": null,
            "grid_template_columns": null,
            "grid_template_rows": null,
            "height": null,
            "justify_content": null,
            "justify_items": null,
            "left": null,
            "margin": null,
            "max_height": null,
            "max_width": null,
            "min_height": null,
            "min_width": null,
            "object_fit": null,
            "object_position": null,
            "order": null,
            "overflow": null,
            "overflow_x": null,
            "overflow_y": null,
            "padding": null,
            "right": null,
            "top": null,
            "visibility": null,
            "width": null
          }
        },
        "d63f513f1e9d44e4a26dea771001589e": {
          "model_module": "@jupyter-widgets/controls",
          "model_module_version": "1.5.0",
          "model_name": "DescriptionStyleModel",
          "state": {
            "_model_module": "@jupyter-widgets/controls",
            "_model_module_version": "1.5.0",
            "_model_name": "DescriptionStyleModel",
            "_view_count": null,
            "_view_module": "@jupyter-widgets/base",
            "_view_module_version": "1.2.0",
            "_view_name": "StyleView",
            "description_width": ""
          }
        },
        "d6bce7551646476aba682c92975d16ff": {
          "model_module": "@jupyter-widgets/controls",
          "model_module_version": "1.5.0",
          "model_name": "HTMLModel",
          "state": {
            "_dom_classes": [],
            "_model_module": "@jupyter-widgets/controls",
            "_model_module_version": "1.5.0",
            "_model_name": "HTMLModel",
            "_view_count": null,
            "_view_module": "@jupyter-widgets/controls",
            "_view_module_version": "1.5.0",
            "_view_name": "HTMLView",
            "description": "",
            "description_tooltip": null,
            "layout": "IPY_MODEL_8cfbe60e8e434dd09eb2e2dedc127304",
            "placeholder": "​",
            "style": "IPY_MODEL_59e4a593335046d9ad076da3a98ea6a2",
            "value": " 3/3 [01:40&lt;00:00, 100.83s/it]"
          }
        },
        "db360a4a6e6d49a7990ad16e6f13bd71": {
          "model_module": "@jupyter-widgets/base",
          "model_module_version": "1.2.0",
          "model_name": "LayoutModel",
          "state": {
            "_model_module": "@jupyter-widgets/base",
            "_model_module_version": "1.2.0",
            "_model_name": "LayoutModel",
            "_view_count": null,
            "_view_module": "@jupyter-widgets/base",
            "_view_module_version": "1.2.0",
            "_view_name": "LayoutView",
            "align_content": null,
            "align_items": null,
            "align_self": null,
            "border": null,
            "bottom": null,
            "display": null,
            "flex": null,
            "flex_flow": null,
            "grid_area": null,
            "grid_auto_columns": null,
            "grid_auto_flow": null,
            "grid_auto_rows": null,
            "grid_column": null,
            "grid_gap": null,
            "grid_row": null,
            "grid_template_areas": null,
            "grid_template_columns": null,
            "grid_template_rows": null,
            "height": null,
            "justify_content": null,
            "justify_items": null,
            "left": null,
            "margin": null,
            "max_height": null,
            "max_width": null,
            "min_height": null,
            "min_width": null,
            "object_fit": null,
            "object_position": null,
            "order": null,
            "overflow": null,
            "overflow_x": null,
            "overflow_y": null,
            "padding": null,
            "right": null,
            "top": null,
            "visibility": null,
            "width": null
          }
        },
        "dcf31c6566dd4c8fa48cbc702010d7e8": {
          "model_module": "@jupyter-widgets/controls",
          "model_module_version": "1.5.0",
          "model_name": "DescriptionStyleModel",
          "state": {
            "_model_module": "@jupyter-widgets/controls",
            "_model_module_version": "1.5.0",
            "_model_name": "DescriptionStyleModel",
            "_view_count": null,
            "_view_module": "@jupyter-widgets/base",
            "_view_module_version": "1.2.0",
            "_view_name": "StyleView",
            "description_width": ""
          }
        },
        "dd5b385738d24506af26964633805638": {
          "model_module": "@jupyter-widgets/base",
          "model_module_version": "1.2.0",
          "model_name": "LayoutModel",
          "state": {
            "_model_module": "@jupyter-widgets/base",
            "_model_module_version": "1.2.0",
            "_model_name": "LayoutModel",
            "_view_count": null,
            "_view_module": "@jupyter-widgets/base",
            "_view_module_version": "1.2.0",
            "_view_name": "LayoutView",
            "align_content": null,
            "align_items": null,
            "align_self": null,
            "border": null,
            "bottom": null,
            "display": null,
            "flex": null,
            "flex_flow": null,
            "grid_area": null,
            "grid_auto_columns": null,
            "grid_auto_flow": null,
            "grid_auto_rows": null,
            "grid_column": null,
            "grid_gap": null,
            "grid_row": null,
            "grid_template_areas": null,
            "grid_template_columns": null,
            "grid_template_rows": null,
            "height": null,
            "justify_content": null,
            "justify_items": null,
            "left": null,
            "margin": null,
            "max_height": null,
            "max_width": null,
            "min_height": null,
            "min_width": null,
            "object_fit": null,
            "object_position": null,
            "order": null,
            "overflow": null,
            "overflow_x": null,
            "overflow_y": null,
            "padding": null,
            "right": null,
            "top": null,
            "visibility": null,
            "width": null
          }
        },
        "df3c9616b0cb4d79bd19a44fca839f98": {
          "model_module": "@jupyter-widgets/controls",
          "model_module_version": "1.5.0",
          "model_name": "ProgressStyleModel",
          "state": {
            "_model_module": "@jupyter-widgets/controls",
            "_model_module_version": "1.5.0",
            "_model_name": "ProgressStyleModel",
            "_view_count": null,
            "_view_module": "@jupyter-widgets/base",
            "_view_module_version": "1.2.0",
            "_view_name": "StyleView",
            "bar_color": null,
            "description_width": ""
          }
        },
        "e6dfe343961041dc8333e367cddaa8e4": {
          "model_module": "@jupyter-widgets/controls",
          "model_module_version": "1.5.0",
          "model_name": "DescriptionStyleModel",
          "state": {
            "_model_module": "@jupyter-widgets/controls",
            "_model_module_version": "1.5.0",
            "_model_name": "DescriptionStyleModel",
            "_view_count": null,
            "_view_module": "@jupyter-widgets/base",
            "_view_module_version": "1.2.0",
            "_view_name": "StyleView",
            "description_width": ""
          }
        },
        "e7161b6ba87c4935a534041f4df2a113": {
          "model_module": "@jupyter-widgets/controls",
          "model_module_version": "1.5.0",
          "model_name": "FloatProgressModel",
          "state": {
            "_dom_classes": [],
            "_model_module": "@jupyter-widgets/controls",
            "_model_module_version": "1.5.0",
            "_model_name": "FloatProgressModel",
            "_view_count": null,
            "_view_module": "@jupyter-widgets/controls",
            "_view_module_version": "1.5.0",
            "_view_name": "ProgressView",
            "bar_style": "success",
            "description": "",
            "description_tooltip": null,
            "layout": "IPY_MODEL_0690b8c5bff642c3a2ed36a01df20e32",
            "max": 414,
            "min": 0,
            "orientation": "horizontal",
            "style": "IPY_MODEL_c318fb0d24c240fc8d4a6eb33c6d26aa",
            "value": 414
          }
        },
        "e73fbbbf4aa248d2bd8ec988f451aabe": {
          "model_module": "@jupyter-widgets/controls",
          "model_module_version": "1.5.0",
          "model_name": "DescriptionStyleModel",
          "state": {
            "_model_module": "@jupyter-widgets/controls",
            "_model_module_version": "1.5.0",
            "_model_name": "DescriptionStyleModel",
            "_view_count": null,
            "_view_module": "@jupyter-widgets/base",
            "_view_module_version": "1.2.0",
            "_view_name": "StyleView",
            "description_width": ""
          }
        },
        "e77b24ebd94748e18f9f2a1ccb782f7f": {
          "model_module": "@jupyter-widgets/controls",
          "model_module_version": "1.5.0",
          "model_name": "DescriptionStyleModel",
          "state": {
            "_model_module": "@jupyter-widgets/controls",
            "_model_module_version": "1.5.0",
            "_model_name": "DescriptionStyleModel",
            "_view_count": null,
            "_view_module": "@jupyter-widgets/base",
            "_view_module_version": "1.2.0",
            "_view_name": "StyleView",
            "description_width": ""
          }
        },
        "e7b3cd80963f4d8284aa0df76c404ce5": {
          "model_module": "@jupyter-widgets/base",
          "model_module_version": "1.2.0",
          "model_name": "LayoutModel",
          "state": {
            "_model_module": "@jupyter-widgets/base",
            "_model_module_version": "1.2.0",
            "_model_name": "LayoutModel",
            "_view_count": null,
            "_view_module": "@jupyter-widgets/base",
            "_view_module_version": "1.2.0",
            "_view_name": "LayoutView",
            "align_content": null,
            "align_items": null,
            "align_self": null,
            "border": null,
            "bottom": null,
            "display": null,
            "flex": null,
            "flex_flow": null,
            "grid_area": null,
            "grid_auto_columns": null,
            "grid_auto_flow": null,
            "grid_auto_rows": null,
            "grid_column": null,
            "grid_gap": null,
            "grid_row": null,
            "grid_template_areas": null,
            "grid_template_columns": null,
            "grid_template_rows": null,
            "height": null,
            "justify_content": null,
            "justify_items": null,
            "left": null,
            "margin": null,
            "max_height": null,
            "max_width": null,
            "min_height": null,
            "min_width": null,
            "object_fit": null,
            "object_position": null,
            "order": null,
            "overflow": null,
            "overflow_x": null,
            "overflow_y": null,
            "padding": null,
            "right": null,
            "top": null,
            "visibility": null,
            "width": null
          }
        },
        "e93ac58a94964623b827e3754590a27a": {
          "model_module": "@jupyter-widgets/base",
          "model_module_version": "1.2.0",
          "model_name": "LayoutModel",
          "state": {
            "_model_module": "@jupyter-widgets/base",
            "_model_module_version": "1.2.0",
            "_model_name": "LayoutModel",
            "_view_count": null,
            "_view_module": "@jupyter-widgets/base",
            "_view_module_version": "1.2.0",
            "_view_name": "LayoutView",
            "align_content": null,
            "align_items": null,
            "align_self": null,
            "border": null,
            "bottom": null,
            "display": null,
            "flex": null,
            "flex_flow": null,
            "grid_area": null,
            "grid_auto_columns": null,
            "grid_auto_flow": null,
            "grid_auto_rows": null,
            "grid_column": null,
            "grid_gap": null,
            "grid_row": null,
            "grid_template_areas": null,
            "grid_template_columns": null,
            "grid_template_rows": null,
            "height": null,
            "justify_content": null,
            "justify_items": null,
            "left": null,
            "margin": null,
            "max_height": null,
            "max_width": null,
            "min_height": null,
            "min_width": null,
            "object_fit": null,
            "object_position": null,
            "order": null,
            "overflow": null,
            "overflow_x": null,
            "overflow_y": null,
            "padding": null,
            "right": null,
            "top": null,
            "visibility": null,
            "width": null
          }
        },
        "ec191b2c251d4376b5946a41ee8e7edc": {
          "model_module": "@jupyter-widgets/controls",
          "model_module_version": "1.5.0",
          "model_name": "DescriptionStyleModel",
          "state": {
            "_model_module": "@jupyter-widgets/controls",
            "_model_module_version": "1.5.0",
            "_model_name": "DescriptionStyleModel",
            "_view_count": null,
            "_view_module": "@jupyter-widgets/base",
            "_view_module_version": "1.2.0",
            "_view_name": "StyleView",
            "description_width": ""
          }
        },
        "efc7a0c30e724ed890772047c91e3401": {
          "model_module": "@jupyter-widgets/base",
          "model_module_version": "1.2.0",
          "model_name": "LayoutModel",
          "state": {
            "_model_module": "@jupyter-widgets/base",
            "_model_module_version": "1.2.0",
            "_model_name": "LayoutModel",
            "_view_count": null,
            "_view_module": "@jupyter-widgets/base",
            "_view_module_version": "1.2.0",
            "_view_name": "LayoutView",
            "align_content": null,
            "align_items": null,
            "align_self": null,
            "border": null,
            "bottom": null,
            "display": null,
            "flex": null,
            "flex_flow": null,
            "grid_area": null,
            "grid_auto_columns": null,
            "grid_auto_flow": null,
            "grid_auto_rows": null,
            "grid_column": null,
            "grid_gap": null,
            "grid_row": null,
            "grid_template_areas": null,
            "grid_template_columns": null,
            "grid_template_rows": null,
            "height": null,
            "justify_content": null,
            "justify_items": null,
            "left": null,
            "margin": null,
            "max_height": null,
            "max_width": null,
            "min_height": null,
            "min_width": null,
            "object_fit": null,
            "object_position": null,
            "order": null,
            "overflow": null,
            "overflow_x": null,
            "overflow_y": null,
            "padding": null,
            "right": null,
            "top": null,
            "visibility": null,
            "width": null
          }
        },
        "f49f03842234439a97148fff07dd20b6": {
          "model_module": "@jupyter-widgets/controls",
          "model_module_version": "1.5.0",
          "model_name": "DescriptionStyleModel",
          "state": {
            "_model_module": "@jupyter-widgets/controls",
            "_model_module_version": "1.5.0",
            "_model_name": "DescriptionStyleModel",
            "_view_count": null,
            "_view_module": "@jupyter-widgets/base",
            "_view_module_version": "1.2.0",
            "_view_name": "StyleView",
            "description_width": ""
          }
        },
        "f4cda8f325a040209f2141b4e70b64f3": {
          "model_module": "@jupyter-widgets/controls",
          "model_module_version": "1.5.0",
          "model_name": "DescriptionStyleModel",
          "state": {
            "_model_module": "@jupyter-widgets/controls",
            "_model_module_version": "1.5.0",
            "_model_name": "DescriptionStyleModel",
            "_view_count": null,
            "_view_module": "@jupyter-widgets/base",
            "_view_module_version": "1.2.0",
            "_view_name": "StyleView",
            "description_width": ""
          }
        },
        "f5e0403357c24db19451b5800fbe80ea": {
          "model_module": "@jupyter-widgets/base",
          "model_module_version": "1.2.0",
          "model_name": "LayoutModel",
          "state": {
            "_model_module": "@jupyter-widgets/base",
            "_model_module_version": "1.2.0",
            "_model_name": "LayoutModel",
            "_view_count": null,
            "_view_module": "@jupyter-widgets/base",
            "_view_module_version": "1.2.0",
            "_view_name": "LayoutView",
            "align_content": null,
            "align_items": null,
            "align_self": null,
            "border": null,
            "bottom": null,
            "display": null,
            "flex": null,
            "flex_flow": null,
            "grid_area": null,
            "grid_auto_columns": null,
            "grid_auto_flow": null,
            "grid_auto_rows": null,
            "grid_column": null,
            "grid_gap": null,
            "grid_row": null,
            "grid_template_areas": null,
            "grid_template_columns": null,
            "grid_template_rows": null,
            "height": null,
            "justify_content": null,
            "justify_items": null,
            "left": null,
            "margin": null,
            "max_height": null,
            "max_width": null,
            "min_height": null,
            "min_width": null,
            "object_fit": null,
            "object_position": null,
            "order": null,
            "overflow": null,
            "overflow_x": null,
            "overflow_y": null,
            "padding": null,
            "right": null,
            "top": null,
            "visibility": null,
            "width": null
          }
        },
        "f79e5fcc8eec4eddb966c21e5fd9d2a6": {
          "model_module": "@jupyter-widgets/controls",
          "model_module_version": "1.5.0",
          "model_name": "FloatProgressModel",
          "state": {
            "_dom_classes": [],
            "_model_module": "@jupyter-widgets/controls",
            "_model_module_version": "1.5.0",
            "_model_name": "FloatProgressModel",
            "_view_count": null,
            "_view_module": "@jupyter-widgets/controls",
            "_view_module_version": "1.5.0",
            "_view_name": "ProgressView",
            "bar_style": "success",
            "description": "",
            "description_tooltip": null,
            "layout": "IPY_MODEL_9888b0134bbe4ce384dbfb0e369176a1",
            "max": 587404,
            "min": 0,
            "orientation": "horizontal",
            "style": "IPY_MODEL_642613f97c8d492092ab986ddf80bf4a",
            "value": 587404
          }
        },
        "f88ea1408571409b875e62c86cddefdd": {
          "model_module": "@jupyter-widgets/base",
          "model_module_version": "1.2.0",
          "model_name": "LayoutModel",
          "state": {
            "_model_module": "@jupyter-widgets/base",
            "_model_module_version": "1.2.0",
            "_model_name": "LayoutModel",
            "_view_count": null,
            "_view_module": "@jupyter-widgets/base",
            "_view_module_version": "1.2.0",
            "_view_name": "LayoutView",
            "align_content": null,
            "align_items": null,
            "align_self": null,
            "border": null,
            "bottom": null,
            "display": null,
            "flex": null,
            "flex_flow": null,
            "grid_area": null,
            "grid_auto_columns": null,
            "grid_auto_flow": null,
            "grid_auto_rows": null,
            "grid_column": null,
            "grid_gap": null,
            "grid_row": null,
            "grid_template_areas": null,
            "grid_template_columns": null,
            "grid_template_rows": null,
            "height": null,
            "justify_content": null,
            "justify_items": null,
            "left": null,
            "margin": null,
            "max_height": null,
            "max_width": null,
            "min_height": null,
            "min_width": null,
            "object_fit": null,
            "object_position": null,
            "order": null,
            "overflow": null,
            "overflow_x": null,
            "overflow_y": null,
            "padding": null,
            "right": null,
            "top": null,
            "visibility": null,
            "width": null
          }
        },
        "fbb5ae2f8bf640668a3d7e239cd32d53": {
          "model_module": "@jupyter-widgets/controls",
          "model_module_version": "1.5.0",
          "model_name": "ProgressStyleModel",
          "state": {
            "_model_module": "@jupyter-widgets/controls",
            "_model_module_version": "1.5.0",
            "_model_name": "ProgressStyleModel",
            "_view_count": null,
            "_view_module": "@jupyter-widgets/base",
            "_view_module_version": "1.2.0",
            "_view_name": "StyleView",
            "bar_color": null,
            "description_width": ""
          }
        },
        "fca2ec9a72f64eed9e94ca67e910091d": {
          "model_module": "@jupyter-widgets/controls",
          "model_module_version": "1.5.0",
          "model_name": "FloatProgressModel",
          "state": {
            "_dom_classes": [],
            "_model_module": "@jupyter-widgets/controls",
            "_model_module_version": "1.5.0",
            "_model_name": "FloatProgressModel",
            "_view_count": null,
            "_view_module": "@jupyter-widgets/controls",
            "_view_module_version": "1.5.0",
            "_view_name": "ProgressView",
            "bar_style": "success",
            "description": "",
            "description_tooltip": null,
            "layout": "IPY_MODEL_19688caab60c4beeb294ad8f340fd839",
            "max": 601,
            "min": 0,
            "orientation": "horizontal",
            "style": "IPY_MODEL_fbb5ae2f8bf640668a3d7e239cd32d53",
            "value": 601
          }
        },
        "fcd0d3b732c2432ebf172ee9b32037b4": {
          "model_module": "@jupyter-widgets/base",
          "model_module_version": "1.2.0",
          "model_name": "LayoutModel",
          "state": {
            "_model_module": "@jupyter-widgets/base",
            "_model_module_version": "1.2.0",
            "_model_name": "LayoutModel",
            "_view_count": null,
            "_view_module": "@jupyter-widgets/base",
            "_view_module_version": "1.2.0",
            "_view_name": "LayoutView",
            "align_content": null,
            "align_items": null,
            "align_self": null,
            "border": null,
            "bottom": null,
            "display": null,
            "flex": null,
            "flex_flow": null,
            "grid_area": null,
            "grid_auto_columns": null,
            "grid_auto_flow": null,
            "grid_auto_rows": null,
            "grid_column": null,
            "grid_gap": null,
            "grid_row": null,
            "grid_template_areas": null,
            "grid_template_columns": null,
            "grid_template_rows": null,
            "height": null,
            "justify_content": null,
            "justify_items": null,
            "left": null,
            "margin": null,
            "max_height": null,
            "max_width": null,
            "min_height": null,
            "min_width": null,
            "object_fit": null,
            "object_position": null,
            "order": null,
            "overflow": null,
            "overflow_x": null,
            "overflow_y": null,
            "padding": null,
            "right": null,
            "top": null,
            "visibility": null,
            "width": null
          }
        }
      }
    }
  },
  "nbformat": 4,
  "nbformat_minor": 0
}
