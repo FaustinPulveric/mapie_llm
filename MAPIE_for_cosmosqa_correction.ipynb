{
  "cells": [
    {
      "cell_type": "markdown",
      "metadata": {
        "colab_type": "text",
        "id": "view-in-github"
      },
      "source": [
        "<a href=\"https://colab.research.google.com/github/FaustinPulveric/mapie_llm/blob/main/MAPIE_for_cosmosqa_correction.ipynb\" target=\"_parent\"><img src=\"https://colab.research.google.com/assets/colab-badge.svg\" alt=\"Open In Colab\"/></a>"
      ]
    },
    {
      "cell_type": "markdown",
      "metadata": {
        "id": "YaoZI6H_SfaB"
      },
      "source": [
        "# MAPIE and Conformal Predictions with a LLM.\n",
        "\n",
        "## Overview\n",
        "\n",
        "This notebook demonstrates how to use MAPIE for conformal predictions with a Large Language Model (LLM). The goal is to evaluate prediction sets for a multiple-choice question-answering task using conformal prediction techniques. This notebook is based on the work presented in [Benchmarking LLMs via Uncertainty Quantification](https://arxiv.org/abs/2401.12794). Parts of the code come from this [Github repo](https://github.com/smartyfh/LLM-Uncertainty-Bench).\n",
        "\n",
        "## Key Components\n",
        "\n",
        "- **Dataset**: The CosmosQA dataset, a benchmark for commonsense reasoning.\n",
        "- **LLM**: The notebook utilizes the `Mistral-7B-Instruct-v0.3` model for predictions.\n",
        "- **MAPIE for Conformal Prediction**: The `SplitConformalClassifier` from MAPIE is used to generate prediction sets with a given confidence level.\n",
        "\n",
        "## Steps Covered\n",
        "\n",
        "1. **Setup & Installation**\n",
        "   - Clone the repository and install required dependencies.\n",
        "   - Authenticate with Hugging Face Hub to access the LLM.\n",
        "\n",
        "2. **Data Preprocessing**\n",
        "   - Load and transform CosmosQA data into a format suitable for the model.\n",
        "\n",
        "3. **Model Loading**\n",
        "   - Load the `Mistral-7B` model and its tokenizer.\n",
        "   - Define an `LLMClassifier` wrapper to make predictions in a structured format.\n",
        "\n",
        "4. **Conformal Prediction with MAPIE**\n",
        "   - Use `SplitConformalClassifier` to calibrate the model on a subset of the data.\n",
        "   - Generate prediction sets with a 95% confidence level.\n",
        "\n",
        "5. **Evaluation & Visualization**\n",
        "   - Compute accuracy scores and coverage metrics.\n",
        "   - Visualize the size distribution of prediction sets.\n",
        "   - Plot accuracy per prediction set size.\n",
        "\n",
        "## Results\n",
        "\n",
        "- The LLM achieves an accuracy of approximately **86%** on the test set.\n",
        "- Prediction sets provide calibrated uncertainty estimates, enhancing reliability in decision-making.\n",
        "- The more uncertain the model is (i.e., the larger the prediction sets), the lower the accuracy.\n",
        "\n",
        "## Conclusion\n",
        "\n",
        "This notebook illustrates how conformal prediction techniques can be applied to LLMs for more trustworthy AI systems. The approach can be extended to other question-answering datasets and models to assess confidence in model predictions.\n",
        "\n"
      ]
    },
    {
      "cell_type": "markdown",
      "metadata": {
        "id": "wVeXxF3wl1hx"
      },
      "source": [
        "# First step : install and import dependencies"
      ]
    },
    {
      "cell_type": "code",
      "execution_count": 2,
      "metadata": {
        "colab": {
          "base_uri": "https://localhost:8080/"
        },
        "id": "h1EFUzkJNAeU",
        "outputId": "dc95efcc-b6dd-419d-f589-2e87bed939fa"
      },
      "outputs": [
        {
          "name": "stdout",
          "output_type": "stream",
          "text": [
            "Cloning into 'mapie_llm'...\n",
            "remote: Enumerating objects: 115, done.\u001b[K\n",
            "remote: Counting objects: 100% (115/115), done.\u001b[K\n",
            "remote: Compressing objects: 100% (98/98), done.\u001b[K\n",
            "remote: Total 115 (delta 60), reused 40 (delta 12), pack-reused 0 (from 0)\u001b[K\n",
            "Receiving objects: 100% (115/115), 2.48 MiB | 3.76 MiB/s, done.\n",
            "Resolving deltas: 100% (60/60), done.\n"
          ]
        }
      ],
      "source": [
        "!rm -rf /content/mapie_llm\n",
        "!git clone https://github.com/gmartinonQM/mapie_llm"
      ]
    },
    {
      "cell_type": "code",
      "execution_count": 3,
      "metadata": {
        "colab": {
          "base_uri": "https://localhost:8080/"
        },
        "id": "CbQtjgak5Ue6",
        "outputId": "47b6a1a2-f24e-4944-a5f7-37b966d8d557"
      },
      "outputs": [
        {
          "name": "stdout",
          "output_type": "stream",
          "text": [
            "Collecting mapie\n",
            "  Downloading mapie-1.0.1-py3-none-any.whl.metadata (11 kB)\n",
            "Requirement already satisfied: scikit-learn>=1.4 in /usr/local/lib/python3.11/dist-packages (from mapie) (1.6.1)\n",
            "Requirement already satisfied: scipy in /usr/local/lib/python3.11/dist-packages (from mapie) (1.15.3)\n",
            "Requirement already satisfied: numpy>=1.23 in /usr/local/lib/python3.11/dist-packages (from mapie) (2.0.2)\n",
            "Requirement already satisfied: joblib>=1.2.0 in /usr/local/lib/python3.11/dist-packages (from scikit-learn>=1.4->mapie) (1.5.0)\n",
            "Requirement already satisfied: threadpoolctl>=3.1.0 in /usr/local/lib/python3.11/dist-packages (from scikit-learn>=1.4->mapie) (3.6.0)\n",
            "Downloading mapie-1.0.1-py3-none-any.whl (173 kB)\n",
            "\u001b[2K   \u001b[90m━━━━━━━━━━━━━━━━━━━━━━━━━━━━━━━━━━━━━━━━\u001b[0m \u001b[32m173.2/173.2 kB\u001b[0m \u001b[31m6.1 MB/s\u001b[0m eta \u001b[36m0:00:00\u001b[0m\n",
            "\u001b[?25hInstalling collected packages: mapie\n",
            "Successfully installed mapie-1.0.1\n"
          ]
        }
      ],
      "source": [
        "!pip install mapie"
      ]
    },
    {
      "cell_type": "code",
      "execution_count": null,
      "metadata": {
        "id": "s8HJhWksM00M"
      },
      "outputs": [],
      "source": [
        "import json\n",
        "import sys\n",
        "\n",
        "sys.path.append('/content/mapie_llm')\n",
        "\n",
        "import matplotlib.pyplot as plt\n",
        "import numpy as np\n",
        "import torch\n",
        "import torch.nn.functional as F\n",
        "from google.colab import userdata\n",
        "from huggingface_hub import login\n",
        "from mapie.classification import SplitConformalClassifier\n",
        "from mapie.metrics.classification import (\n",
        "    classification_coverage_score,\n",
        "    classification_mean_width_score,\n",
        ")\n",
        "from sklearn.metrics import accuracy_score\n",
        "from sklearn.model_selection import train_test_split\n",
        "from tqdm import tqdm\n",
        "from transformers import AutoModelForCausalLM, AutoTokenizer\n",
        "\n",
        "from utils.cosmosqa import TransformCosmosQA\n"
      ]
    },
    {
      "cell_type": "markdown",
      "metadata": {
        "id": "9Sw4d0jhG5Vk"
      },
      "source": [
        "Do not forget to register your HuggingFace token in your colab secrets, and make it visible to this notebook."
      ]
    },
    {
      "cell_type": "code",
      "execution_count": 62,
      "metadata": {
        "id": "AxaKG4EjFZj_"
      },
      "outputs": [],
      "source": [
        "login(token=userdata.get(\"HF_TOKEN\"))"
      ]
    },
    {
      "cell_type": "markdown",
      "metadata": {
        "id": "jp8s7ab35vN7"
      },
      "source": [
        "# Notebook parameters\n",
        "We retain `N_OBS` CosmosQA examples to conformalize and evaluate our LLM. `CONFIDENCE_LEVEL` drives the size of the prediction sets we will output for each answer."
      ]
    },
    {
      "cell_type": "code",
      "execution_count": 63,
      "metadata": {
        "id": "CDnM_F2mCE8v"
      },
      "outputs": [],
      "source": [
        "N_OBS = 1000\n",
        "CONFIDENCE_LEVEL = 0.95"
      ]
    },
    {
      "cell_type": "markdown",
      "metadata": {
        "id": "FRIT-c13M00N"
      },
      "source": [
        "# Load data and transform it to X, y (X being a prompt)\n",
        "\n",
        "The prompts are composed of:\n",
        "- Fewshot examples (questions with answers)\n",
        "- Context\n",
        "- Question regarding the context\n",
        "\n",
        "Labels are one-hot encoded (i.e. labels are 0, 1, 2 or 3). In the prompts, two more labels are proposed (\"None of the above\" and \"I don't know\"). As none of those answers are in the possible labels, we chose to discard them."
      ]
    },
    {
      "cell_type": "code",
      "execution_count": 64,
      "metadata": {
        "id": "qS2xXaGaM00O"
      },
      "outputs": [],
      "source": [
        "data = json.load(open(\"/content/mapie_llm/cosmosqa_10k.json\"))"
      ]
    },
    {
      "cell_type": "markdown",
      "metadata": {
        "id": "fRojbYC36tFj"
      },
      "source": [
        "We observe that the dataset contains 10 thousands questions with their context and answer."
      ]
    },
    {
      "cell_type": "code",
      "execution_count": 65,
      "metadata": {
        "colab": {
          "base_uri": "https://localhost:8080/"
        },
        "id": "xupUQ4zW6m0w",
        "outputId": "9af24bba-1274-4237-c332-4179fce413c2"
      },
      "outputs": [
        {
          "data": {
            "text/plain": [
              "10000"
            ]
          },
          "execution_count": 65,
          "metadata": {},
          "output_type": "execute_result"
        }
      ],
      "source": [
        "len(data)"
      ]
    },
    {
      "cell_type": "markdown",
      "metadata": {
        "id": "JCDkBDWM61vP"
      },
      "source": [
        "Here is what an example looks like."
      ]
    },
    {
      "cell_type": "code",
      "execution_count": 66,
      "metadata": {
        "colab": {
          "base_uri": "https://localhost:8080/"
        },
        "id": "H1vtpPEO6fec",
        "outputId": "a53d7696-543d-4344-cf3a-f13a45ff155d"
      },
      "outputs": [
        {
          "data": {
            "text/plain": [
              "{'source': 'CosmosQA',\n",
              " 'task': 'commonsense-based reading comprehension',\n",
              " 'context': \"My house is constantly getting messy and I ca n't keep up . I am starting at a new school with no one I know and it is 4 times bigger than UAF . I am now going to have to balance school , homework , kids , bill paying , appointment making and cleaning when I can barely keep up without the school and homework ( keep in mind this is a full time GRADUATE program at a fairly prestigious school ) . We are in financial crisis .\",\n",
              " 'question': \"What is causing the narrator 's recent stress ?\",\n",
              " 'choices': {'A': 'They are moving to a new house .',\n",
              "  'B': 'I would have tried to guess their password and alternatively gone to a coffee shop for wifi',\n",
              "  'C': 'They are moving to a new university .',\n",
              "  'D': 'They are moving to a new house for the kids .',\n",
              "  'E': \"I don't know\",\n",
              "  'F': 'None of the above'},\n",
              " 'answer': 'C',\n",
              " 'id': 3}"
            ]
          },
          "execution_count": 66,
          "metadata": {},
          "output_type": "execute_result"
        }
      ],
      "source": [
        "data[3]"
      ]
    },
    {
      "cell_type": "markdown",
      "metadata": {
        "id": "wx1WkR__7q9_"
      },
      "source": [
        "Now we format all these examples into nicely formatted questions to be answered by the LLM (`X`), together with the ground truth (`y`). We add 5 few-shot examples on top of each question, as well as some instructions."
      ]
    },
    {
      "cell_type": "code",
      "execution_count": 67,
      "metadata": {
        "id": "wmiS6xU-M00O"
      },
      "outputs": [],
      "source": [
        "data_transformer = TransformCosmosQA(data)\n",
        "X, y = data_transformer.transform_data()"
      ]
    },
    {
      "cell_type": "markdown",
      "metadata": {
        "id": "R0xD9LZ58LBc"
      },
      "source": [
        "Here is what our previous example now looks like."
      ]
    },
    {
      "cell_type": "code",
      "execution_count": 68,
      "metadata": {
        "colab": {
          "base_uri": "https://localhost:8080/"
        },
        "id": "wJpvuXPc7i2Y",
        "outputId": "f958db3f-4a57-4cfd-d1ee-55f0d52ea9e8"
      },
      "outputs": [
        {
          "name": "stdout",
          "output_type": "stream",
          "text": [
            "\n",
            "The following is a multiple-choice question about reading comprehension.\n",
            "You should answer the question based on the given context and you can use\n",
            "commonsense reasoning when necessary. Please reason step-by-step and select\n",
            "the correct answer. You only need to output the option.\n",
            "\n",
            "\n",
            "Context: It 's got character . You know what they say : ' If it ai n't too broke , do n't fix it ' . \" Howard stood up in his pyjamas that smelled of Vince , and looked out of the window . He repeated Vince 's aphorism over and over until his heartbeat settled a little .\n",
            "Question: What was Howard doing when he walked to the window\n",
            "Choices:\n",
            "A. He was sneezing\n",
            "B. He was chewing gum\n",
            "C. He was scratching his lap\n",
            "D. He was thinking\n",
            "E. I don't know\n",
            "F. None of the above\n",
            "Answer: D\n",
            "Context: My house is constantly getting messy and I ca n't keep up . I am starting at a new school with no one I know and it is 4 times bigger than UAF . I am now going to have to balance school , homework , kids , bill paying , appointment making and cleaning when I can barely keep up without the school and homework ( keep in mind this is a full time GRADUATE program at a fairly prestigious school ) . We are in financial crisis .\n",
            "Question: What is causing the narrator 's recent stress ?\n",
            "Choices:\n",
            "A. They are moving to a new house .\n",
            "B. I would have tried to guess their password and alternatively gone to a coffee shop for wifi\n",
            "C. They are moving to a new university .\n",
            "D. They are moving to a new house for the kids .\n",
            "E. I don't know\n",
            "F. None of the above\n",
            "Answer: C\n",
            "Context: O.O Then he and Jocelyne put the kid on the ground . The kid continued to eat grass as he lay on the ground by the truck , but the man began to tie his front legs together and the kid started to struggle . We calmed him down , but after he tied the rear legs and then began to tie the rear legs to the front legs the kid started screaming and thrashing and would not stop . Finally , the man dumped the kid in the back of his pick up ( moving several hack - saws and broken beer bottles to the side ) and asked if he could buy some goats milk .\n",
            "Question: Why was the child eating grass ?\n",
            "Choices:\n",
            "A. He 's behaving properly .\n",
            "B. He 's being naughty\n",
            "C. It 's the only food .\n",
            "D. They are high schoolers .\n",
            "E. I don't know\n",
            "F. None of the above\n",
            "Answer: B\n",
            "Context: Friends - only CAMPS story : I chaperoned a bus to CAMPS . The list of campers I had was all wrong , so I had them write their names on a sheet of paper as they boarded . As one young lady , last name Manchester , signed the sheet , the pen ran out . I got another pen and moved on to the next person .\n",
            "Question: Why did they need to hand - write all of the names ?\n",
            "Choices:\n",
            "A. They like the way it looks better by hand .\n",
            "B. They did n't want to use a computer to type it .\n",
            "C. They needed the names to be corrected .\n",
            "D. I had a fever and the suppositories took care of that while the prunes helped rehydrate me\n",
            "E. I don't know\n",
            "F. None of the above\n",
            "Answer: C\n",
            "Context: Other StuffWell , that about wraps up my day . Tricia and I finally bought a bookshelf , and the bulk of my books are now put away , praise the Lord . We also took my desktop computer in for diagnostics and an estimate on the repairs .\n",
            "Question: What may I have done before installing the bookshelf ?\n",
            "Choices:\n",
            "A. Because she made a bad decision about the haircut for the writer 's son .\n",
            "B. Take the computer for repairs\n",
            "C. Try to shop for a new computer\n",
            "D. Take the car to get serviced\n",
            "E. I don't know\n",
            "F. None of the above\n",
            "Answer: B\n",
            "Context: My house is constantly getting messy and I ca n't keep up . I am starting at a new school with no one I know and it is 4 times bigger than UAF . I am now going to have to balance school , homework , kids , bill paying , appointment making and cleaning when I can barely keep up without the school and homework ( keep in mind this is a full time GRADUATE program at a fairly prestigious school ) . We are in financial crisis .\n",
            "Question: What is causing the narrator 's recent stress ?\n",
            "Choices:\n",
            "A. They are moving to a new house .\n",
            "B. I would have tried to guess their password and alternatively gone to a coffee shop for wifi\n",
            "C. They are moving to a new university .\n",
            "D. They are moving to a new house for the kids .\n",
            "E. I don't know\n",
            "F. None of the above\n",
            "Answer:\n"
          ]
        }
      ],
      "source": [
        "print(X[3])"
      ]
    },
    {
      "cell_type": "markdown",
      "metadata": {
        "id": "eFfHDiv18gS9"
      },
      "source": [
        "As for the ground truth, it has been label encoded to integers."
      ]
    },
    {
      "cell_type": "code",
      "execution_count": 69,
      "metadata": {
        "colab": {
          "base_uri": "https://localhost:8080/"
        },
        "id": "YFvHCgE28XQW",
        "outputId": "0681f1ab-40c6-4a4d-fccc-aeeed0f5baf2"
      },
      "outputs": [
        {
          "name": "stdout",
          "output_type": "stream",
          "text": [
            "2\n"
          ]
        }
      ],
      "source": [
        "print(y[3])"
      ]
    },
    {
      "cell_type": "markdown",
      "metadata": {
        "id": "GzCtF-krDlum"
      },
      "source": [
        "For the rest of this notebook, we only use a subset of the whole dataset."
      ]
    },
    {
      "cell_type": "code",
      "execution_count": 70,
      "metadata": {
        "colab": {
          "base_uri": "https://localhost:8080/"
        },
        "id": "Ghcu1QB9BvdX",
        "outputId": "01ddab45-d8aa-4325-f436-099025b464b7"
      },
      "outputs": [
        {
          "name": "stdout",
          "output_type": "stream",
          "text": [
            "1000\n"
          ]
        }
      ],
      "source": [
        "X_small, y_small = X[-N_OBS:], y[-N_OBS:]\n",
        "print(len(X_small))"
      ]
    },
    {
      "cell_type": "markdown",
      "metadata": {
        "id": "3TwI1CqOD0iD"
      },
      "source": [
        "Following standard conformal prediction practices, we set aside a conformalization set to conformalize the predictions. This allows us to get valid prediction sets on the testing set."
      ]
    },
    {
      "cell_type": "code",
      "execution_count": null,
      "metadata": {
        "colab": {
          "base_uri": "https://localhost:8080/"
        },
        "id": "WNu67X2kCJW0",
        "outputId": "bdeee90f-d346-4aea-84de-3e92b68991ea"
      },
      "outputs": [
        {
          "name": "stdout",
          "output_type": "stream",
          "text": [
            "500\n",
            "500\n"
          ]
        }
      ],
      "source": [
        "X_conf, X_test, y_conf, y_test = train_test_split(X_small, y_small, train_size=0.5, random_state=1)\n",
        "print(len(X_conf))\n",
        "print(len(X_test))"
      ]
    },
    {
      "cell_type": "markdown",
      "metadata": {
        "id": "sM4zaOfkM00O"
      },
      "source": [
        "# Load the model and its tokenizer\n",
        "\n",
        "We now download the weights from an open-source LLM. You may need to request access directly on HuggingFace website."
      ]
    },
    {
      "cell_type": "code",
      "execution_count": null,
      "metadata": {
        "id": "VTIlHUxiM00O"
      },
      "outputs": [],
      "source": [
        "def load_model(model_name):\n",
        "    tokenizer = AutoTokenizer.from_pretrained(model_name)\n",
        "    model = AutoModelForCausalLM.from_pretrained(model_name, torch_dtype=torch.float16, device_map=\"auto\")\n",
        "    model.eval()\n",
        "    return tokenizer, model\n",
        "\n",
        "tokenizer, model = load_model(\"mistralai/Mistral-7B-Instruct-v0.3\")"
      ]
    },
    {
      "cell_type": "markdown",
      "metadata": {
        "id": "jm2Y53g7M00P"
      },
      "source": [
        "# Wrap the model\n",
        "\n",
        "In order to make the model compatible with MAPIE, it needs to have ```fit```, ```predict_proba``` and ```predict```methods as well as ```is_fitted```and ```classes_``` attributes."
      ]
    },
    {
      "cell_type": "code",
      "execution_count": 74,
      "metadata": {
        "id": "afvIn7AbM00P"
      },
      "outputs": [],
      "source": [
        "class LLMClassifier:\n",
        "\n",
        "    def __init__(self, tokenizer, model):\n",
        "        self.tokenizer = tokenizer\n",
        "        self.model = model\n",
        "        self.options = [\"Answer: A\", \"Answer: B\", \"Answer: C\", \"Answer: D\"]\n",
        "        self.tokenizer.pad_token = self.tokenizer.eos_token\n",
        "        self.options_ids = [self.tokenizer.encode(opt)[-1] for opt in self.options]\n",
        "        self.is_fitted_ = True\n",
        "        self.classes_ = [0, 1, 2, 3]\n",
        "\n",
        "    def fit(self):\n",
        "      pass\n",
        "\n",
        "    def predict_proba(self, prompts):\n",
        "        if isinstance(prompts, str):\n",
        "            prompts = [prompts]  # Convert single prompt to list\n",
        "        pred_probas = []\n",
        "        for prompt in tqdm(prompts):\n",
        "            prompt = [prompt]\n",
        "            inputs = self._prepare_inputs(prompt)\n",
        "            with torch.no_grad():\n",
        "                outputs = self.model(**inputs)\n",
        "            logits = outputs.logits[:, -1, :]  # Extract logits for the last token, [batch_size, vocab_size]\n",
        "            logits_options = logits[:, self.options_ids]  # Select logits corresponding to answer options\n",
        "            logits_options = logits_options.type(torch.float32)  # Ensure correct precision during softmax\n",
        "            probabilities = F.softmax(logits_options, dim=-1).cpu().numpy().flatten()\n",
        "            probabilities /= probabilities.sum() # Ensure that the sum is exaclty equal to 1, which may not be true in some cases\n",
        "            pred_probas.append(probabilities)\n",
        "        return np.array(pred_probas)\n",
        "\n",
        "    def predict(self, prompts):\n",
        "        probas = self.predict_proba(prompts)\n",
        "        return np.argmax(probas, axis=-1)\n",
        "\n",
        "    def _prepare_inputs(self, prompts):\n",
        "        inputs = self.tokenizer(prompts, return_tensors=\"pt\", truncation=True)\n",
        "        for k in inputs:\n",
        "            if torch.is_tensor(inputs[k]):\n",
        "                inputs[k] = inputs[k].to(\"cuda\")\n",
        "        return inputs"
      ]
    },
    {
      "cell_type": "code",
      "execution_count": null,
      "metadata": {},
      "outputs": [],
      "source": [
        "llm = LLMClassifier(tokenizer, model)"
      ]
    },
    {
      "cell_type": "markdown",
      "metadata": {
        "id": "wCZShpTT7Vrv"
      },
      "source": [
        "# Run the LLM with MAPIE\n",
        "\n",
        "**Exercice 1**: Now that the wrapper has been created, let us determine the prediction sets thanks to MAPIE! \n",
        "- Call ```SplitConformalClasifier``` with your model and define `CONFIDENCE_LEVEL` as the confidence level.\n",
        "- Then, call the `conformalize` method with your conformalization set: it will compute the conformity scores and their quantiles. This step may take several minutes.\n",
        "- Finally, call the `predict_set` method with the test data to output predictions and prediction sets."
      ]
    },
    {
      "cell_type": "code",
      "execution_count": null,
      "metadata": {
        "id": "hyc2LdGEM00d"
      },
      "outputs": [],
      "source": [
        "scc = SplitConformalClassifier(estimator=llm, confidence_level=CONFIDENCE_LEVEL)  # correction\n",
        "scc.conformalize(X_conf, y_conf)  # correction\n",
        "y_pred, y_pred_set = scc.predict_set(X_test)  # correction"
      ]
    },
    {
      "cell_type": "markdown",
      "metadata": {
        "id": "QXPuhLY-FwDc"
      },
      "source": [
        "And that's it!\n",
        "\n",
        "Let's have a look at the prediction of our previous example."
      ]
    },
    {
      "cell_type": "code",
      "execution_count": 32,
      "metadata": {
        "colab": {
          "base_uri": "https://localhost:8080/"
        },
        "id": "umJuKxG_PWKQ",
        "outputId": "d8a249b0-1f98-4848-dba4-ff21095f8631"
      },
      "outputs": [
        {
          "name": "stdout",
          "output_type": "stream",
          "text": [
            "2\n",
            "2\n",
            "C\n"
          ]
        }
      ],
      "source": [
        "truth = y_test[3]\n",
        "label_int = y_pred[3]\n",
        "label_str = data_transformer.label_encoder.inverse_transform([label_int])[0]\n",
        "print(truth)\n",
        "print(label_int)\n",
        "print(label_str)"
      ]
    },
    {
      "cell_type": "markdown",
      "metadata": {
        "id": "3F8YaROHPnvn"
      },
      "source": [
        "This looks correct ! And what about the prediction set?"
      ]
    },
    {
      "cell_type": "code",
      "execution_count": 21,
      "metadata": {
        "colab": {
          "base_uri": "https://localhost:8080/"
        },
        "id": "ZEYeh1HCPe1i",
        "outputId": "e196e441-7281-415f-ca1d-daaaf538e6fb"
      },
      "outputs": [
        {
          "data": {
            "text/plain": [
              "array([[False],\n",
              "       [False],\n",
              "       [ True],\n",
              "       [False]])"
            ]
          },
          "execution_count": 21,
          "metadata": {},
          "output_type": "execute_result"
        }
      ],
      "source": [
        "y_pred_set[3]"
      ]
    },
    {
      "cell_type": "markdown",
      "metadata": {
        "id": "EP6v98RhPsRM"
      },
      "source": [
        "The prediction set is an array of boolean, indicating which label is in the set. Here, it turns out that our prediction set is reduced to a singleton. This means that our model is pretty certain of its answer. Let's dive deeper!"
      ]
    },
    {
      "cell_type": "markdown",
      "metadata": {
        "id": "Nmckz4aY-xOq"
      },
      "source": [
        "# Check the results and visualize the prediction sets\n",
        "\n",
        "**Exercice 2**: Let's examine how many times did our model find the right answer. \n",
        "- Compute the accuracy score of the model on the test data."
      ]
    },
    {
      "cell_type": "code",
      "execution_count": null,
      "metadata": {},
      "outputs": [],
      "source": [
        "accuracy = accuracy_score(y_test, y_pred)  # correction"
      ]
    },
    {
      "cell_type": "code",
      "execution_count": null,
      "metadata": {},
      "outputs": [],
      "source": [
        "accuracy"
      ]
    },
    {
      "cell_type": "markdown",
      "metadata": {
        "id": "rbGbgGnKgKar"
      },
      "source": [
        "We get an accuracy around 86% on the test set: not bad!"
      ]
    },
    {
      "cell_type": "markdown",
      "metadata": {},
      "source": [
        "**Exercice 3**: Since we also have prediction sets, a standard metric evaluating their efficiency is the coverage score. It tells us how many times the ground truth did fall into the prediction set. It should match closely our `CONFIDENCE_LEVEL` given to our `SplitConformalClassifier` earlier, since it is a statistical guarantee offered by MAPIE.\n",
        "- Compute the coverage score of the prediction sets."
      ]
    },
    {
      "cell_type": "code",
      "execution_count": null,
      "metadata": {},
      "outputs": [],
      "source": [
        "coverage = classification_coverage_score(y_test, y_pred_set[:, :, 0])  # correction"
      ]
    },
    {
      "cell_type": "code",
      "execution_count": null,
      "metadata": {},
      "outputs": [],
      "source": [
        "coverage"
      ]
    },
    {
      "cell_type": "markdown",
      "metadata": {
        "id": "Sey8rJ6NgotS"
      },
      "source": [
        "**Exercice 4**: Last but not least, we would like to evaluate if our prediction sets manage to reach our coverage while being informative, i.e. not being too large. The mean width should thus be much smaller than 4, which is the maximum prediction set size, given there are only 4 choices per question.\n",
        "- Compute the mean width of the prediction sets."
      ]
    },
    {
      "cell_type": "code",
      "execution_count": null,
      "metadata": {},
      "outputs": [],
      "source": [
        "mean_width = classification_mean_width_score(y_pred_set[:, :, 0])  # correction"
      ]
    },
    {
      "cell_type": "code",
      "execution_count": null,
      "metadata": {},
      "outputs": [],
      "source": [
        "mean_width"
      ]
    },
    {
      "cell_type": "markdown",
      "metadata": {
        "id": "WoLaERFhir26"
      },
      "source": [
        "These global metrics look good! Now let's look deeper in some examples. The following function picks randomly one example for each prediction set size, from most certain answers (prediction set of size 1) to most uncertain ones (prediction set of size 4)."
      ]
    },
    {
      "cell_type": "code",
      "execution_count": 37,
      "metadata": {
        "id": "b3LejaSiLzkd"
      },
      "outputs": [],
      "source": [
        "def print_examples_and_prediction_set(data_transformer, X, y, y_pred, y_pred_set):\n",
        "  sizes = y_pred_set.sum(axis=1)\n",
        "  unique_sizes = np.unique(sizes)\n",
        "  for size in unique_sizes:\n",
        "    all_idx_size = np.argwhere(sizes == size)[:, 0]  # Indices of all answers having the current prediction set size\n",
        "    random_idx = np.random.choice(all_idx_size, 1)[0] # Random index among these to use hereafter\n",
        "    prompt_without_few_shot = X[random_idx].split(\"Answer:\")[-2][3:]  # Retrieve only the question of interest from the prompt\n",
        "    label = y[random_idx]\n",
        "    pred = y_pred[random_idx]\n",
        "    pred_set = np.argwhere(y_pred_set[random_idx][:, 0]).ravel()\n",
        "    # We need to inverse transform all class numbers to our well-known strings \"A\", \"B\", \"C\" and \"D\"\n",
        "    print(\n",
        "        \"==========================================\",\n",
        "        prompt_without_few_shot,\n",
        "        f\"Correct answer: {data_transformer.label_encoder.inverse_transform([label])[0]}\",\n",
        "        f\"Prediction: {data_transformer.label_encoder.inverse_transform([pred])[0]}\",\n",
        "        f\"Prediction set: {data_transformer.label_encoder.inverse_transform(pred_set)}\",\n",
        "        sep=\"\\n\"\n",
        "    )"
      ]
    },
    {
      "cell_type": "code",
      "execution_count": 38,
      "metadata": {
        "colab": {
          "base_uri": "https://localhost:8080/"
        },
        "id": "fX74CHtfOHmS",
        "outputId": "810c258a-7f61-426a-e508-474893c8d573"
      },
      "outputs": [
        {
          "name": "stdout",
          "output_type": "stream",
          "text": [
            "==========================================\n",
            "Context: For being really pregnant , I ' m not feeling too bad today . Actually went for a nice walk cuz it 's a gorgeuos day today in my part of the You - nited States . And I figured what the heck , maybe I should say something nice . Sure , there plenty of things to talk trash about and get mad about and lecture about and complain about and make fun of ... but how about a big shout out to God ?\n",
            "Question: Why was the narrator surprised by her health ?\n",
            "Choices:\n",
            "A. She is usually sick due to the cancer .\n",
            "B. She is usually sick while with her diabetes .\n",
            "C. She is usually feeling unwell with child .\n",
            "D. She is in the midst of surgery .\n",
            "E. I don't know\n",
            "F. None of the above\n",
            "\n",
            "Correct answer: C\n",
            "Prediction: C\n",
            "Prediction set: ['C']\n",
            "==========================================\n",
            "Context: The other problem is that I have an insatiable sweet tooth in the morning . I 'd sleep with coffee cake if I could , so I would n't even have to leave the bed before having that first decadent bite when I wake up . Frightening , I know .\n",
            "Question: What may be the reason they have a sweet tooth in the morning ?\n",
            "Choices:\n",
            "A. They have an addiction that they ca nt help .\n",
            "B. They are not allowed to eat sugar because of a condition .\n",
            "C. They need sugar or they will pass out in their pajamas .\n",
            "D. The are addicted to salt and need it in the morning .\n",
            "E. I don't know\n",
            "F. None of the above\n",
            "\n",
            "Correct answer: A\n",
            "Prediction: A\n",
            "Prediction set: ['A' 'C']\n",
            "==========================================\n",
            "Context: So today started out pretty good . I was starting to plan Xandons birthday party which is going to be awesome now that we have decided on a guitar hero party theme . Then after i did a little planning and cleaning , I decided to go to the DMV and get a temporary tag for my granny 's car so I could drive it instead of mine . Mine is squealing so bad I ca n't stand it .\n",
            "Question: What might happen while at the DMV ?\n",
            "Choices:\n",
            "A. While waiting in line , I decide to buy a puppy for the party .\n",
            "B. I buy a hot dog while waiting for my turn in line .\n",
            "C. I end up having to wait in line so long that I miss the party .\n",
            "D. I throw the party at the DMV instead of at home .\n",
            "E. I don't know\n",
            "F. None of the above\n",
            "\n",
            "Correct answer: C\n",
            "Prediction: B\n",
            "Prediction set: ['A' 'B' 'C']\n",
            "==========================================\n",
            "Context: And now the advantages of that bonus are coming to an end . America is changing and the Democratic liberals might be able ( just ) to win a national election without the overwhelming support of the alienated white working class . If such a victory does n't happen this time , it will soon .\n",
            "Question: Why does the narrator believe the Democrats won the election ?\n",
            "Choices:\n",
            "A. They appealed to the rich .\n",
            "B. They appealed to the LGBT community .\n",
            "C. They appealed to disenchanted workers .\n",
            "D. They appealed to the poor .\n",
            "E. I don't know\n",
            "F. None of the above\n",
            "\n",
            "Correct answer: C\n",
            "Prediction: C\n",
            "Prediction set: ['A' 'B' 'C' 'D']\n"
          ]
        }
      ],
      "source": [
        "print_examples_and_prediction_set(data_transformer, X_test, y_test, y_pred, y_pred_set)"
      ]
    },
    {
      "cell_type": "markdown",
      "metadata": {
        "id": "meGQf6D5jLXG"
      },
      "source": [
        "Now that we have inspected some examples with different prediction set sizes, a natural question is how many answers have a given prediction set size? This is what the next function calculates and plots."
      ]
    },
    {
      "cell_type": "code",
      "execution_count": 53,
      "metadata": {
        "id": "Y7kaDFGpLDJ3"
      },
      "outputs": [],
      "source": [
        "def plot_prediction_set_sizes(y_pred_set):\n",
        "    pred_set_size_per_sample = np.sum(y_pred_set, axis=1)\n",
        "    min_number = np.min(pred_set_size_per_sample)\n",
        "    max_number = np.max(pred_set_size_per_sample)\n",
        "    plt.figure(figsize=(10, 6))\n",
        "    plt.hist(pred_set_size_per_sample, bins=range(min_number, max_number + 2), align=\"left\", rwidth=0.8)\n",
        "    plt.title(\"Distribution of prediction sets sizes\")\n",
        "    plt.xlabel(\"Prediction set size\")\n",
        "    plt.ylabel(\"Number of answers\")\n",
        "    plt.xticks(range(min_number, max_number + 1))\n",
        "    plt.show()\n"
      ]
    },
    {
      "cell_type": "code",
      "execution_count": 54,
      "metadata": {
        "colab": {
          "base_uri": "https://localhost:8080/",
          "height": 564
        },
        "id": "dWu-sYJCblWR",
        "outputId": "e53c62eb-c9dd-4e97-bc8d-cab5c764f876"
      },
      "outputs": [
        {
          "data": {
            "image/png": "[encoded data removed]",
            "text/plain": [
              "<Figure size 1000x600 with 1 Axes>"
            ]
          },
          "metadata": {},
          "output_type": "display_data"
        }
      ],
      "source": [
        "plot_prediction_set_sizes(y_pred_set[:, :, 0])"
      ]
    },
    {
      "cell_type": "markdown",
      "metadata": {
        "id": "hj7hbLLYjtUV"
      },
      "source": [
        "We see that there is a large majority of singletons, which means that our model is pretty certain on all these answers, good news! Besides, we can now easily spot all the answers for which the model is more uncertain (prediction set size of 2) or completely lost (prediction set of size 3 to 4). Indeed, larger prediction set sizes means larger entropy logits."
      ]
    },
    {
      "cell_type": "markdown",
      "metadata": {
        "id": "eei1wilnkprl"
      },
      "source": [
        "At this point, you might wonder: is there a gap in accuracy between answers of different uncertainty? Let's investigate with the following function, that calculates and plots the accuracy for each group of answers, from most certain to most uncertain ones."
      ]
    },
    {
      "cell_type": "code",
      "execution_count": 59,
      "metadata": {
        "id": "LS3m6Uv6KsYb"
      },
      "outputs": [],
      "source": [
        "def plot_accuracy_per_size(y_test, y_pred_set):\n",
        "    sizes = y_pred_set.sum(axis=1)\n",
        "    unique_sizes = np.unique(sizes)\n",
        "    accuracies = []\n",
        "    for size in unique_sizes:\n",
        "        indices = np.where(sizes == size)[0]  # Indices where the prediction set size is equal to the current size\n",
        "        true_labels = y_test[indices]  # True labels for the current size\n",
        "        predictions = y_pred[indices]  # Predictions for the current size\n",
        "        accuracy = accuracy_score(true_labels, predictions)  # Accuracy calculation for the current size\n",
        "        print(f\"Prediction set size: {size} - Accuracy: {accuracy:.2f} - Number of answers: {len(indices)}\")\n",
        "        accuracies.append(accuracy)\n",
        "\n",
        "    accuracy_global = accuracy_score(y_test, y_pred)  # Overall accuracy\n",
        "\n",
        "    plt.figure(figsize=(10, 6))  # Adjust figure size as needed\n",
        "\n",
        "    # plot horizontal line for global accuracy\n",
        "    plt.axhline(y=accuracy_global, color='r', linestyle='--', label=\"Global Accuracy\")\n",
        "\n",
        "    plt.bar(unique_sizes.astype(int), accuracies)\n",
        "    plt.title(\"Accuracy for each size of prediction sets\")\n",
        "    plt.xlabel(\"Size of Prediction Set\")\n",
        "    plt.ylabel(\"Accuracy\")\n",
        "    plt.xticks(unique_sizes.astype(int)) # set xticks to integers\n",
        "    plt.show()\n"
      ]
    },
    {
      "cell_type": "code",
      "execution_count": 60,
      "metadata": {
        "colab": {
          "base_uri": "https://localhost:8080/",
          "height": 635
        },
        "id": "uR2w3XsIGLMl",
        "outputId": "3251cd46-591c-4bfc-cd18-9ec5d957a008"
      },
      "outputs": [
        {
          "name": "stdout",
          "output_type": "stream",
          "text": [
            "Prediction set size: 1 - Accuracy: 0.96 - Number of answers: 342\n",
            "Prediction set size: 2 - Accuracy: 0.72 - Number of answers: 82\n",
            "Prediction set size: 3 - Accuracy: 0.53 - Number of answers: 45\n",
            "Prediction set size: 4 - Accuracy: 0.68 - Number of answers: 31\n"
          ]
        },
        {
          "data": {
            "image/png": "[encoded data removed]",
            "text/plain": [
              "<Figure size 1000x600 with 1 Axes>"
            ]
          },
          "metadata": {},
          "output_type": "display_data"
        }
      ],
      "source": [
        "plot_accuracy_per_size(y_test, y_pred_set[:, :, 0])\n"
      ]
    },
    {
      "cell_type": "markdown",
      "metadata": {
        "id": "3uKu7zVBonHD"
      },
      "source": [
        "Interesting! You see that the prediction set size highly correlates with accuracy. In particular, we can separate a high-performing group of almost 350 answers for which the accuracy is no less than 96%! On the other hand, we can directly considers answers with predictions sets sizes of 3-4 as being quite risky, with less than 70% accuracy.\n",
        "\n",
        "In practice, this means that you can directly treats larger uncertainties answers as higher risks of errors, and thus process them differently (e.g. discarding the answer, warning the user, delegating the answer to a human or a more powerfull LLM, and so on)."
      ]
    },
    {
      "cell_type": "code",
      "execution_count": 60,
      "metadata": {
        "id": "w8cwZu01cEw0"
      },
      "outputs": [],
      "source": []
    }
  ],
  "metadata": {
    "accelerator": "GPU",
    "colab": {
      "gpuType": "T4",
      "include_colab_link": true,
      "provenance": []
    },
    "kernelspec": {
      "display_name": "Python 3",
      "name": "python3"
    },
    "language_info": {
      "codemirror_mode": {
        "name": "ipython",
        "version": 3
      },
      "file_extension": ".py",
      "mimetype": "text/x-python",
      "name": "python",
      "nbconvert_exporter": "python",
      "pygments_lexer": "ipython3",
      "version": "3.10.15"
    }
  },
  "nbformat": 4,
  "nbformat_minor": 0
}
